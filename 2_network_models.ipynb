{
 "cells": [
  {
   "cell_type": "markdown",
   "metadata": {},
   "source": [
    "# [NTDS'18] milestone 2: network models\n",
    "[ntds'18]: https://github.com/mdeff/ntds_2018\n",
    "\n",
    "[Hermina Petric Maretic](https://people.epfl.ch/hermina.petricmaretic), [EPFL LTS4](https://lts4.epfl.ch)"
   ]
  },
  {
   "cell_type": "markdown",
   "metadata": {},
   "source": [
    "## Students\n",
    "\n",
    "* Team: `01`\n",
    "* Students: `Timothée Bornet dit Vorgeat, Yassine Zouaghi, Pol Boudou, Icíar Lloréns Jover`\n",
    "* Dataset: `IMDb Films and Crew`"
   ]
  },
  {
   "cell_type": "markdown",
   "metadata": {},
   "source": [
    "## Rules\n",
    "\n",
    "* Milestones have to be completed by teams. No collaboration between teams is allowed.\n",
    "* Textual answers shall be short. Typically one to two sentences.\n",
    "* Code has to be clean.\n",
    "* In the first part, you cannot import any other library than we imported. In the second part, you are allowed to import any library you want.\n",
    "* When submitting, the notebook is executed and the results are stored. I.e., if you open the notebook again it should show numerical results and plots. We won't be able to execute your notebooks.\n",
    "* The notebook is re-executed from a blank state before submission. That is to be sure it is reproducible. You can click \"Kernel\" then \"Restart & Run All\" in Jupyter."
   ]
  },
  {
   "cell_type": "markdown",
   "metadata": {},
   "source": [
    "## Objective\n",
    "\n",
    "The purpose of this milestone is to explore various random network models, analyse their properties and compare them to your network. In the first part of the milestone you will implement two random graph models and try to fit them to your network. In this part you are not allowed to use any additional package. In the second part of the milestone you will choose a third random graph model that you think shares some properties with your network. You will be allowed to use additional packages to construct this network, but you must explain your network choice. Finally, make your code as clean as possible, and keep your textual answers short."
   ]
  },
  {
   "cell_type": "markdown",
   "metadata": {},
   "source": [
    "## Part 0\n",
    "\n",
    "**For the computation of this part of the milestone you are only allowed to use the packages that have been imported in the cell below.**"
   ]
  },
  {
   "cell_type": "code",
   "execution_count": 1,
   "metadata": {},
   "outputs": [],
   "source": [
    "%matplotlib inline\n",
    "\n",
    "import random\n",
    "\n",
    "import numpy as np\n",
    "import pandas as pd\n",
    "import matplotlib.pyplot as plt\n",
    "import scipy\n",
    "import networkx as nx"
   ]
  },
  {
   "cell_type": "markdown",
   "metadata": {},
   "source": [
    "## Part 1\n",
    "\n",
    "Import the adjacency matrix of your graph that you constructed in milestone 1, as well as the number of nodes and edges of your network."
   ]
  },
  {
   "cell_type": "code",
   "execution_count": 2,
   "metadata": {},
   "outputs": [],
   "source": [
    "DATA_PATH = \"DataMS1/\"\n",
    "\n",
    "adjacency = np.load(DATA_PATH + 'adjacency.npy')\n",
    "N = len(adjacency)\n",
    "L = int(np.count_nonzero(adjacency)/2)"
   ]
  },
  {
   "cell_type": "markdown",
   "metadata": {},
   "source": [
    "### Question 1\n",
    "\n",
    "Create a function that constructs an Erdős–Rényi graph."
   ]
  },
  {
   "cell_type": "code",
   "execution_count": 3,
   "metadata": {},
   "outputs": [],
   "source": [
    "def erdos_renyi(n, p, seed=None):\n",
    "    \"\"\"Create an instance from the Erdos-Renyi graph model.\n",
    "    \n",
    "    Parameters\n",
    "    ----------\n",
    "    n: int\n",
    "        Size of the graph.\n",
    "    p: float\n",
    "        Edge probability. A number between 0 and 1.\n",
    "    seed: int (optional)\n",
    "        Seed for the random number generator. To get reproducible results.\n",
    "    \n",
    "    Returns\n",
    "    -------\n",
    "    adjacency\n",
    "        The adjacency matrix of a graph.\n",
    "    \"\"\"\n",
    "    \n",
    "    # Your code here.\n",
    "    if seed is not None: \n",
    "        random.seed(seed) \n",
    "    \n",
    "    p_integer = round(1/p)\n",
    "    LINK_VALUE = random.randint(1, p_integer)\n",
    "    \n",
    "    adjacency = np.zeros((n,n), dtype=int)\n",
    "    \n",
    "    for i in range (n):\n",
    "        for j in range (i):\n",
    "            if random.randint(1, p_integer) == LINK_VALUE:\n",
    "                adjacency[i,j] = 1\n",
    "        \n",
    "    adjacency = adjacency + np.transpose(adjacency) - np.diag(adjacency)\n",
    "    return adjacency"
   ]
  },
  {
   "cell_type": "code",
   "execution_count": 4,
   "metadata": {},
   "outputs": [
    {
     "data": {
      "image/png": "[encoded data removed]",
      "text/plain": [
       "<matplotlib.figure.Figure at 0x14cfed50438>"
      ]
     },
     "metadata": {},
     "output_type": "display_data"
    }
   ],
   "source": [
    "er = erdos_renyi(5, 0.6, 9765)\n",
    "plt.figure()\n",
    "plt.spy(er)\n",
    "plt.title('Erdős-Rényi (5, 0.6) \\n')\n",
    "plt.show()"
   ]
  },
  {
   "cell_type": "code",
   "execution_count": 5,
   "metadata": {},
   "outputs": [
    {
     "data": {
      "image/png": "[encoded data removed]",
      "text/plain": [
       "<matplotlib.figure.Figure at 0x14cfed50208>"
      ]
     },
     "metadata": {},
     "output_type": "display_data"
    }
   ],
   "source": [
    "er = erdos_renyi(10, 0.4, 7648)\n",
    "plt.figure()\n",
    "plt.spy(er)\n",
    "plt.title('Erdős-Rényi (10, 0.4) \\n')\n",
    "plt.show()"
   ]
  },
  {
   "cell_type": "markdown",
   "metadata": {},
   "source": [
    "### Question 2\n",
    "\n",
    "Use the function to create a random Erdős-Rényi graph. Choose the parameters such that number of nodes is the same as in your graph, and the number of edges similar. You don't need to set the random seed. Comment on your choice of parameters."
   ]
  },
  {
   "cell_type": "code",
   "execution_count": 6,
   "metadata": {},
   "outputs": [
    {
     "data": {
      "image/png": "[encoded data removed]",
      "text/plain": [
       "<matplotlib.figure.Figure at 0x14cedbc6eb8>"
      ]
     },
     "metadata": {},
     "output_type": "display_data"
    }
   ],
   "source": [
    "p=2*L/(N*(N-1))\n",
    "\n",
    "rand_er = erdos_renyi(N, p, 1)\n",
    "plt.figure()\n",
    "plt.spy(rand_er)\n",
    "plt.title('Erdős-Rényi adjacency \\n')\n",
    "plt.show()"
   ]
  },
  {
   "cell_type": "markdown",
   "metadata": {},
   "source": [
    "**Your answer here.**"
   ]
  },
  {
   "cell_type": "markdown",
   "metadata": {},
   "source": [
    "In an Erdős-Rényi random network each pair of nodes is connected with probability $p$. As we don't know the value $p$ of our network, we can approximate $p$ according to the number of links $L$ and nodes $N$ we would like to have in the random model. In a network with $N$ nodes in which every edge is included with a probability $p$ independent from any other edge, the expected number of links is $\\langle L\\rangle =p\\frac{N(N-1)}{2}$.  We choose a probability $p=2\\frac{L}{N(N-1)}$. With $N=4803$ and $L=476873$, our random model will have a probability $p \\approx 0.0414$"
   ]
  },
  {
   "cell_type": "markdown",
   "metadata": {},
   "source": [
    "### Question 3\n",
    "\n",
    "Create a function that constructs a Barabási-Albert graph."
   ]
  },
  {
   "cell_type": "code",
   "execution_count": 7,
   "metadata": {},
   "outputs": [],
   "source": [
    "def barabasi_albert(n, m, seed=None):\n",
    "    \"\"\"Create an instance from the Barabasi-Albert graph model.\n",
    "    \n",
    "    Parameters\n",
    "    ----------\n",
    "    n: int\n",
    "        Size of the graph.\n",
    "    m: int\n",
    "        Number of edges to attach from a new node to existing nodes.\n",
    "    seed: int (optional)\n",
    "        Seed for the random number generator. To get reproducible results.\n",
    "    \n",
    "    Returns\n",
    "    -------\n",
    "    adjacency\n",
    "        The adjacency matrix of a graph.\n",
    "    \"\"\"\n",
    "    \n",
    "    # Your code here.\n",
    "    \n",
    "    # Total number of nodes after the end of the graph construction: n\n",
    "    # Initial number of nodes before the graph construction:         m\n",
    "    # Nodes that we'll need to add:                                  n-m\n",
    "    \n",
    "    # Initialize seed if it is not None\n",
    "    if seed is not None: \n",
    "        random.seed(seed) \n",
    "    \n",
    "    # Start with m initial nodes and chose links arbitrarily\n",
    "    graph = []\n",
    "    # Choose links arbitrarily with at least one link per node \n",
    "    for i in range(m):\n",
    "        length = random.randint(1, m)\n",
    "        edges = [random.randrange(0, m, 1) for _ in range(length)]\n",
    "        edges = list(set(edges))\n",
    "        graph.append(edges)\n",
    "    \n",
    "    # Start adding the other n-m nodes. The first node is m\n",
    "    current_node = m \n",
    "    \n",
    "    while current_node < n: \n",
    "        # Compute the degree of each node\n",
    "        degrees = []\n",
    "        for k in range(len(graph)):\n",
    "            degrees.append(len(graph[k]))\n",
    "            \n",
    "        # Compute the probability of \"picking\" each node\n",
    "        tot_degree = sum(degrees)\n",
    "        probabilities = [x / tot_degree for x in degrees]\n",
    "            \n",
    "        # Select m new nodes to attach to the current node\n",
    "        candidate_nodes = []\n",
    "        while len(candidate_nodes) < m:\n",
    "            for node in range(m):\n",
    "                # Choose nodes according to the probability of their degree\n",
    "                new_node = np.random.choice(np.arange(0, len(graph)), p=probabilities)\n",
    "                if new_node not in candidate_nodes:\n",
    "                    candidate_nodes.append(new_node)\n",
    "        \n",
    "        # Attach these new nodes to the current node\n",
    "        graph.append(candidate_nodes)\n",
    "        \n",
    "        # Graph is undirected, so we need to make the edge symmetric\n",
    "        for element in candidate_nodes:\n",
    "            graph[element].append(current_node)\n",
    "        \n",
    "        # Update current node\n",
    "        current_node += 1\n",
    "    \n",
    "    # Transform the graph into an adjacency matrix\n",
    "    adjacency = np.zeros([n,n])\n",
    "    \n",
    "    for i in range(len(graph)):\n",
    "        adjacency[i][np.array(graph[i])] = 1\n",
    "    \n",
    "    return adjacency"
   ]
  },
  {
   "cell_type": "code",
   "execution_count": 8,
   "metadata": {},
   "outputs": [
    {
     "data": {
      "image/png": "[encoded data removed]",
      "text/plain": [
       "<matplotlib.figure.Figure at 0x14cff137d68>"
      ]
     },
     "metadata": {},
     "output_type": "display_data"
    }
   ],
   "source": [
    "ba = barabasi_albert(5, 1, 9087)\n",
    "plt.figure()\n",
    "plt.spy(ba)\n",
    "plt.title('Barabási-Albert (5, 1) \\n')\n",
    "plt.show()"
   ]
  },
  {
   "cell_type": "code",
   "execution_count": 9,
   "metadata": {},
   "outputs": [
    {
     "data": {
      "image/png": "[encoded data removed]",
      "text/plain": [
       "<matplotlib.figure.Figure at 0x14cff0fee48>"
      ]
     },
     "metadata": {},
     "output_type": "display_data"
    }
   ],
   "source": [
    "ba = barabasi_albert(10, 2, 8708)\n",
    "plt.figure()\n",
    "plt.spy(ba)\n",
    "plt.title('Barabási-Albert (10, 2) \\n')\n",
    "plt.show()"
   ]
  },
  {
   "cell_type": "markdown",
   "metadata": {},
   "source": [
    "### Question 4\n",
    "\n",
    "Use the function to create a random Barabási-Albert graph. Choose the parameters such that number of nodes is the same as in your graph, and the number of edges similar. You don't need to set the random seed. Comment on your choice of parameters."
   ]
  },
  {
   "cell_type": "code",
   "execution_count": 10,
   "metadata": {},
   "outputs": [
    {
     "data": {
      "image/png": "[encoded data removed]",
      "text/plain": [
       "<matplotlib.figure.Figure at 0x14cfed87550>"
      ]
     },
     "metadata": {},
     "output_type": "display_data"
    }
   ],
   "source": [
    "# Your code here.\n",
    "m = int(round((1/4)*(3*N - np.sqrt(9*N*N - 16*L))))\n",
    "rand_ba = barabasi_albert(N, m)\n",
    "plt.figure()\n",
    "plt.spy(rand_ba)\n",
    "plt.title('Barabási-Albert adjacency matrix \\n')\n",
    "plt.show()"
   ]
  },
  {
   "cell_type": "markdown",
   "metadata": {},
   "source": [
    "**Your answer here**\n",
    "\n",
    "The first m nodes of the Barabási-Albert graph are connected to an arbitrary number of nodes between 1 and m at the beginning and then connected to a certain number of new nodes as the graph is constructed. The following $N-m$ nodes (N being the total number of nodes) are connected to exactly m other nodes in the graph. \n",
    "\n",
    "We assume that initially the first m nodes will each be connected to $\\frac{m}{2}$ nodes. Subsequently, when more nodes are added, these first m nodes will be connected to an additional $\\frac{N-m}{2}$ nodes approximately. \n",
    "\n",
    "This means that the total number of edges in the Barabási-Albert graph will be approximately $(N-m)m + m(\\frac{m}{2} + \\frac{N-m}{2})$. \n",
    "\n",
    "This makes a total of $\\frac{3Nm}{2} - m^2$ edges. We want this number to be equal to L (the total number of edges in our original graph). By solving the quadratic equation, we set m to be:\n",
    "\n",
    "$$m = round((\\frac{1}{4}(3N - \\sqrt{9N^2 - 16L}))$$\n",
    "\n",
    "These approximations give us a number of edges that is reasonably close to the actual number of edges of our graph."
   ]
  },
  {
   "cell_type": "markdown",
   "metadata": {},
   "source": [
    "### Question 5\n",
    "\n",
    "Compare the number of edges in all three networks (your real network, the Erdős–Rényi network, and the Barabási-Albert netowk)."
   ]
  },
  {
   "cell_type": "code",
   "execution_count": 11,
   "metadata": {},
   "outputs": [
    {
     "name": "stdout",
     "output_type": "stream",
     "text": [
      "Total number of edges in our real graph:                   476873\n",
      "Total number of edges in the random Erdős-Rényi graph:     480352\n",
      "Total number of edges in the random Barabási-Albert graph: 516068\n",
      "\n"
     ]
    }
   ],
   "source": [
    "# Your code here.\n",
    "edges_ba = int(np.count_nonzero(rand_ba)/2)\n",
    "edges_er = int(np.count_nonzero(rand_er)/2)\n",
    "print('Total number of edges in our real graph:                  ', L)\n",
    "print('Total number of edges in the random Erdős-Rényi graph:    ', edges_er)\n",
    "print('Total number of edges in the random Barabási-Albert graph:', edges_ba)\n",
    "\n",
    "print()"
   ]
  },
  {
   "cell_type": "markdown",
   "metadata": {},
   "source": [
    "### Question 6\n",
    "\n",
    "Implement a function that computes the [Kullback–Leibler (KL) divergence](https://en.wikipedia.org/wiki/Kullback%E2%80%93Leibler_divergence) between two probability distributions.\n",
    "We'll use it to compare the degree distributions of networks."
   ]
  },
  {
   "cell_type": "code",
   "execution_count": 12,
   "metadata": {},
   "outputs": [],
   "source": [
    "def kl_divergence(p, q):\n",
    "    \"\"\"Compute the KL divergence between probability distributions of degrees of two networks.\n",
    "    \n",
    "    Parameters\n",
    "    ----------\n",
    "    p: np.array\n",
    "        Probability distribution of degrees of the 1st graph.\n",
    "    q: np.array\n",
    "        Probability distribution of degrees of the 2nd graph.\n",
    "    \n",
    "    Returns\n",
    "    -------\n",
    "    kl\n",
    "        The KL divergence between the two distributions.\n",
    "    \"\"\"\n",
    "    \n",
    "    # We consider P as the emipirical value (our network) and Q as the model we try to fit (ER or BA here)\n",
    "    \n",
    "    kl = sum(p*(np.log(p/q)))\n",
    "    \n",
    "    return kl"
   ]
  },
  {
   "cell_type": "code",
   "execution_count": 13,
   "metadata": {},
   "outputs": [
    {
     "data": {
      "text/plain": [
       "0.091516221849435753"
      ]
     },
     "execution_count": 13,
     "metadata": {},
     "output_type": "execute_result"
    }
   ],
   "source": [
    "p_test = np.array([0.2, 0.2, 0.2, 0.4])\n",
    "q_test = np.array([0.3, 0.3, 0.1, 0.3])\n",
    "kl_divergence(p_test, q_test)"
   ]
  },
  {
   "cell_type": "markdown",
   "metadata": {},
   "source": [
    "### Question 7\n",
    "\n",
    "Compare the degree distribution of your network to each of the two synthetic ones, in terms of KL divergence. **Hint:** Make sure you normalise your degree distributions to make them valid probability distributions."
   ]
  },
  {
   "cell_type": "markdown",
   "metadata": {},
   "source": [
    "#### Approach\n",
    "\n",
    "In order to compare the different degree distribution using the KL divergence we first have to engineer our way through the following problem.\n",
    "Indeed, the KL divergence algorithm needs to compare two arrays of same size (and we cannot have null values).\n",
    "\n",
    "Our solution to compare such different ditributions is to create bins that cover the majority of null values but also some non-zero ones. We add to those bins some other, much precise ones covering the interval where there are values in both distribution."
   ]
  },
  {
   "cell_type": "code",
   "execution_count": 14,
   "metadata": {},
   "outputs": [],
   "source": [
    "binary_adjacency = np.where(adjacency > adjacency[np.nonzero(adjacency)].min(), 1, 0)\n",
    "degree_imdb = binary_adjacency.sum(1)"
   ]
  },
  {
   "cell_type": "code",
   "execution_count": 15,
   "metadata": {},
   "outputs": [],
   "source": [
    "bins_array_er = [0]\n",
    "\n",
    "# The interval of degree values where both distributions have non-zeros is the following: [160, 240]\n",
    "bins_array_er.extend(np.linspace(160,240,8).tolist())\n",
    "bins_array_er.extend([300])"
   ]
  },
  {
   "cell_type": "code",
   "execution_count": 26,
   "metadata": {
    "scrolled": true
   },
   "outputs": [
    {
     "data": {
      "image/png": "[encoded data removed]",
      "text/plain": [
       "<matplotlib.figure.Figure at 0x14cff15b0b8>"
      ]
     },
     "metadata": {},
     "output_type": "display_data"
    }
   ],
   "source": [
    "weights_imdb = np.ones_like(degree_imdb) / float(N)\n",
    "degree_imdb_frequency_er, degree_imdb_bins_er, _  = plt.hist(degree_imdb, weights=weights_imdb, bins=bins_array_er,log=True)"
   ]
  },
  {
   "cell_type": "code",
   "execution_count": 106,
   "metadata": {},
   "outputs": [
    {
     "data": {
      "image/png": "[encoded data removed]",
      "text/plain": [
       "<matplotlib.figure.Figure at 0x14cbc473f98>"
      ]
     },
     "metadata": {},
     "output_type": "display_data"
    }
   ],
   "source": [
    "degree_er = rand_er.sum(1)\n",
    "weights_er = np.ones_like(degree_er) / float(N)\n",
    "degree_er_frequency, degree_er_bins, _ = plt.hist(degree_er, weights=weights_er, bins=bins_array_er,log=True)"
   ]
  },
  {
   "cell_type": "code",
   "execution_count": 107,
   "metadata": {
    "scrolled": true
   },
   "outputs": [
    {
     "name": "stdout",
     "output_type": "stream",
     "text": [
      "The KL divergence from the Erdős-Rényi model to our network is 6.62691312017\n"
     ]
    }
   ],
   "source": [
    "print('The KL divergence from the Erdős-Rényi model to our network is '+ str(kl_divergence(degree_imdb_frequency_er,degree_er_frequency)))"
   ]
  },
  {
   "cell_type": "code",
   "execution_count": 20,
   "metadata": {},
   "outputs": [],
   "source": [
    "bins_array_ba = [0]\n",
    "bins_array_ba.extend(np.linspace(70,250,24).tolist())\n",
    "bins_array_ba.extend([1050])"
   ]
  },
  {
   "cell_type": "code",
   "execution_count": 108,
   "metadata": {},
   "outputs": [
    {
     "data": {
      "image/png": "[encoded data removed]",
      "text/plain": [
       "<matplotlib.figure.Figure at 0x14cbc523da0>"
      ]
     },
     "metadata": {},
     "output_type": "display_data"
    }
   ],
   "source": [
    "degree_imdb_frequency_ba, degree_imdb_bins_ba, _ = plt.hist(degree_imdb, weights=weights_imdb, bins=bins_array_ba,log=True);"
   ]
  },
  {
   "cell_type": "code",
   "execution_count": 109,
   "metadata": {},
   "outputs": [
    {
     "data": {
      "image/png": "[encoded data removed]",
      "text/plain": [
       "<matplotlib.figure.Figure at 0x14c80003128>"
      ]
     },
     "metadata": {},
     "output_type": "display_data"
    }
   ],
   "source": [
    "degree_ba = rand_ba.sum(1)\n",
    "weights_ba = np.ones_like(degree_ba) / float(N)\n",
    "degree_ba_frequency, degree_ba_bins, _ = plt.hist(degree_ba, weights=weights_ba, bins=bins_array_ba,log=True);"
   ]
  },
  {
   "cell_type": "code",
   "execution_count": null,
   "metadata": {},
   "outputs": [],
   "source": [
    "print('The KL divergence from the Barabási-Albert model to our network is '+str(kl_divergence(degree_imdb_frequency_ba,degree_ba_frequency)))"
   ]
  },
  {
   "cell_type": "markdown",
   "metadata": {},
   "source": [
    "### Question 8\n",
    "\n",
    "Plot the degree distribution historgrams for all three networks. Are they consistent with the KL divergence results? Explain."
   ]
  },
  {
   "cell_type": "code",
   "execution_count": 23,
   "metadata": {
    "scrolled": false
   },
   "outputs": [
    {
     "data": {
      "image/png": "[encoded data removed]",
      "text/plain": [
       "<matplotlib.figure.Figure at 0x14cf1792978>"
      ]
     },
     "metadata": {},
     "output_type": "display_data"
    }
   ],
   "source": [
    "plt.hist(degree_imdb, weights=weights_imdb, bins=25);\n",
    "plt.title('Degree distribution of the imdb network')\n",
    "plt.xlabel('Degrees');\n",
    "plt.ylabel('Frequency');"
   ]
  },
  {
   "cell_type": "code",
   "execution_count": 24,
   "metadata": {},
   "outputs": [
    {
     "data": {
      "image/png": "[encoded data removed]",
      "text/plain": [
       "<matplotlib.figure.Figure at 0x14c823a4e80>"
      ]
     },
     "metadata": {},
     "output_type": "display_data"
    }
   ],
   "source": [
    "plt.hist(degree_er, weights=weights_er, bins=25);\n",
    "plt.title('Degree distribution of the Erdős-Rényi random network')\n",
    "plt.xlabel('Degrees');\n",
    "plt.ylabel('Frequency');"
   ]
  },
  {
   "cell_type": "code",
   "execution_count": 25,
   "metadata": {},
   "outputs": [
    {
     "data": {
      "image/png": "[encoded data removed]",
      "text/plain": [
       "<matplotlib.figure.Figure at 0x14c823a4e48>"
      ]
     },
     "metadata": {},
     "output_type": "display_data"
    }
   ],
   "source": [
    "plt.hist(degree_ba, weights=weights_ba, bins=25);\n",
    "plt.title('Degree distribution of the Barabási-Albert random network')\n",
    "plt.xlabel('Degrees');\n",
    "plt.ylabel('Frequency');"
   ]
  },
  {
   "cell_type": "markdown",
   "metadata": {},
   "source": [
    "**Answer:**"
   ]
  },
  {
   "cell_type": "markdown",
   "metadata": {},
   "source": [
    "As we can see, the BA model fits much better our network than the ER one. Indeed, the Barabási-Albert's degree distribution seems to follow also a Power Law (typical of scale-free networks of real networks), albeit with a less rapid decrease than our network. However, the Erdős-Rényi seems to follow a Binomial distribution, typical of traditional random networks.\n",
    "\n",
    "The KL divergence between the ER model and ours is approximatly 6.63, which is almost 3 times as great as the KL divergence between the BA model and our network (2.31). We can hence conclude that the resulting degree distributions are coherent with the KL divergence values. \n",
    "\n",
    "If we take a closer look at the distributions, we also see that the BA model's distribution is much wider and has no nodes with few neighbors explaining the relatively high KL value."
   ]
  },
  {
   "cell_type": "markdown",
   "metadata": {},
   "source": [
    "### Question 9\n",
    "\n",
    "Imagine you got equal degree distributions. Would that guarantee you got the same graph? Explain."
   ]
  },
  {
   "cell_type": "markdown",
   "metadata": {},
   "source": [
    "**Answer:**"
   ]
  },
  {
   "cell_type": "markdown",
   "metadata": {},
   "source": [
    "Let us use an example to illustrate our premise. If we imagine two different graphs, one with 3 nodes and one with 1000 nodes, both graphs having all its nodes placed in a circle. This means that all nodes are connected to 2 other nodes exactly. The two graphs are different graphs but they have the same degree distribution since the degree distribution is normalized.\n",
    "\n",
    "Now let's assume a graph with at least one node with only one edge and one with two edges.\n",
    "Now if you replace the two connection node by an edge and place it in between the solely connected node and its only neighbour the result will be a different graph with the same number of nodes and degree distribution."
   ]
  },
  {
   "cell_type": "markdown",
   "metadata": {},
   "source": [
    "## Part 2\n",
    "\n",
    "**You are allowed to use any additional library here (e.g., NetworkX, PyGSP, etc.).** Be careful not to include something here and use it in part 1!"
   ]
  },
  {
   "cell_type": "markdown",
   "metadata": {},
   "source": [
    "### Question 10\n",
    "\n",
    "Choose a random network model that fits you network well. Explain your choice. \n",
    "\n",
    "**Hint:** Check lecture notes for different network models and their properties. Your choice should be made based on at least one property you'd expect to be similar."
   ]
  },
  {
   "cell_type": "markdown",
   "metadata": {},
   "source": [
    "**Your answer here.**\n",
    "\n",
    "By looking at the lecture notes and the questions above we can try to use the Watts-Strogatz model. In fact, as the IMDB network can be considered a social network, we expect it to have low average shortest path.On the other hand, the Watts-Strogatz graph is a small world model which has as a property small average shortest path. Additionally, we expect for both models to have a giant component and possibly comparable clustering coefficients."
   ]
  },
  {
   "cell_type": "markdown",
   "metadata": {},
   "source": [
    "### Question 11\n",
    "\n",
    "Explain (in short) how the chosen model works."
   ]
  },
  {
   "cell_type": "markdown",
   "metadata": {},
   "source": [
    "**Your answer here.**\n",
    "\n",
    "The netwrok starts with n0 number of nodes connected with m closest neighbors. Then the links edges are rewired with a probability p leading to short path lengths while having high clustering."
   ]
  },
  {
   "cell_type": "markdown",
   "metadata": {},
   "source": [
    "### Question 12\n",
    "\n",
    "Create a random graph from that model, such that the number of nodes is the same as in your graph."
   ]
  },
  {
   "cell_type": "code",
   "execution_count": 91,
   "metadata": {},
   "outputs": [],
   "source": [
    "# Your code here.\n",
    "import networkx as nx\n",
    "\n",
    "# Here we use netwrokx to create a Watts-Strogatz graph with the same number of nodes as the IMDB\n",
    "# graph and comparable number of edges\n",
    "G_wt_gr = nx.watts_strogatz_graph(N,m,0.4)\n",
    "\n",
    "# We extract the adjacency matrix for later use and save ut as a numpy array\n",
    "G_wt = nx.adjacency_matrix(G_wt_gr)\n",
    "G_wt = G_wt.toarray()\n",
    "\n",
    "edges_G_wt = int(np.count_nonzero(G_wt)/2)\n",
    "\n",
    "degree_G_wt = G_wt.sum(1)"
   ]
  },
  {
   "cell_type": "markdown",
   "metadata": {},
   "source": [
    "### Question 13\n",
    "\n",
    "Check the properties you expected to be similar, and compare to your network."
   ]
  },
  {
   "cell_type": "code",
   "execution_count": 99,
   "metadata": {},
   "outputs": [],
   "source": [
    "# First we find the biggest subgraph from the Watts-Strogatz graph\n",
    "giant_cmp_wt_gr = max(nx.connected_component_subgraphs(G_wt_gr),key=len)\n",
    "\n",
    "# Transform it into a numpy array\n",
    "giant_cmp_wt = nx.to_numpy_matrix(giant_cmp_wt_gr)\n",
    "\n",
    "# Compute the number of edges\n",
    "edges_gc_wt = int(np.count_nonzero(giant_cmp_wt)/2)\n",
    "\n",
    "# Computes the average clustering coeffcient of the Watts-Strogatz graph\n",
    "avg_cc_wt = nx.average_clustering(giant_cmp_wt_gr)\n"
   ]
  },
  {
   "cell_type": "code",
   "execution_count": 100,
   "metadata": {},
   "outputs": [
    {
     "data": {
      "text/plain": [
       "True"
      ]
     },
     "execution_count": 100,
     "metadata": {},
     "output_type": "execute_result"
    }
   ],
   "source": [
    "nx.is_connected(giant_cmp_wt_gr)"
   ]
  },
  {
   "cell_type": "code",
   "execution_count": 113,
   "metadata": {},
   "outputs": [
    {
     "name": "stdout",
     "output_type": "stream",
     "text": [
      "The biggest component of the Watts-Strogatz graph is composed of:  4803 nodes\n",
      "The whole Watts-Strogatz graph is composed of:  4803 nodes\n"
     ]
    }
   ],
   "source": [
    "print('The biggest component of the Watts-Strogatz graph is composed of: ', len(giant_cmp_wt), 'nodes')\n",
    "print('The whole Watts-Strogatz graph is composed of: ', len(G_wt), 'nodes')"
   ]
  },
  {
   "cell_type": "code",
   "execution_count": 96,
   "metadata": {},
   "outputs": [],
   "source": [
    "# Create a graph from the adjacency matrix of the IMDB dataset\n",
    "adj_gr = nx.from_numpy_matrix(adjacency)\n",
    "\n",
    "# Find its biggest component\n",
    "giant_cmp_gr = max(nx.connected_component_subgraphs(adj_gr),key=len)\n",
    "giant_cmp = nx.to_numpy_matrix(giant_cmp_gr)\n",
    "\n",
    "# Computes number of edges of the giant component\n",
    "edges_gc = int(np.count_nonzero(giant_cmp)/2)\n",
    "\n",
    "# Computes the average clustering coeffcient of the IMDB graph\n",
    "avg_cc = nx.average_clustering(giant_cmp_gr)"
   ]
  },
  {
   "cell_type": "code",
   "execution_count": 98,
   "metadata": {},
   "outputs": [
    {
     "name": "stdout",
     "output_type": "stream",
     "text": [
      "Number of nodes in forming the giant component of the IMDB dataset :  4713\n",
      "Number of nodes in the IMDB network:  4803\n"
     ]
    }
   ],
   "source": [
    "print('Number of nodes in forming the giant component of the IMDB dataset : ', len(giant_cmp_gr))\n",
    "print('Number of nodes in the IMDB network: ', len(adj_gr))"
   ]
  },
  {
   "cell_type": "code",
   "execution_count": 92,
   "metadata": {},
   "outputs": [],
   "source": [
    "avg_dist_wt = nx.average_shortest_path_length(G_wt_gr)"
   ]
  },
  {
   "cell_type": "code",
   "execution_count": 93,
   "metadata": {},
   "outputs": [],
   "source": [
    "avg_dist_imdb = nx.average_shortest_path_length(giant_cmp_gr)"
   ]
  },
  {
   "cell_type": "code",
   "execution_count": 102,
   "metadata": {},
   "outputs": [
    {
     "name": "stdout",
     "output_type": "stream",
     "text": [
      "The average shortest path of the Watts-Strogatz graph's giant component:  2.5247787396517327\n",
      "The average shortest path of the IMDB graph's giant component:  2.182449602065162\n"
     ]
    }
   ],
   "source": [
    "print(\"The average shortest path of the Watts-Strogatz graph's giant component: \", avg_dist_wt)\n",
    "print(\"The average shortest path of the IMDB graph's giant component: \", avg_dist_imdb)"
   ]
  },
  {
   "cell_type": "code",
   "execution_count": 97,
   "metadata": {},
   "outputs": [
    {
     "name": "stdout",
     "output_type": "stream",
     "text": [
      "The average Clustering Coefficient of the Watts-Strogatz graph's giant component:  0.13939592037788176\n",
      "The average Clustering Coefficient of the IMDB graph's giant component:  0.23473716719813534\n"
     ]
    }
   ],
   "source": [
    "print(\"The average Clustering Coefficient of the Watts-Strogatz graph's giant component: \", avg_cc_ba)\n",
    "print(\"The average Clustering Coefficient of the IMDB graph's giant component: \", avg_cc)\n"
   ]
  },
  {
   "cell_type": "code",
   "execution_count": 103,
   "metadata": {},
   "outputs": [],
   "source": [
    "# Computes all the local clustering coefficients for both the IMDB and the Watts-Strogatz graph\n",
    "cc_dist = nx.clustering(giant_cmp_gr)\n",
    "cc_dist_ba = nx.clustering(giant_cmp_wt_gr)"
   ]
  },
  {
   "cell_type": "code",
   "execution_count": 104,
   "metadata": {},
   "outputs": [
    {
     "data": {
      "image/png": "[encoded data removed]",
      "text/plain": [
       "<matplotlib.figure.Figure at 0x14c823cf6d8>"
      ]
     },
     "metadata": {},
     "output_type": "display_data"
    }
   ],
   "source": [
    "plt.figure(figsize=(19,10))\n",
    "plt.subplot(121)\n",
    "plt.hist(cc_dist.values(), bins=75);\n",
    "plt.title(\"The clustering coefficient distribution of the giant component of the IMDB network\")\n",
    "plt.xlabel('Clustering coefficient')\n",
    "plt.ylabel('Number of nodes')\n",
    "plt.xlim(0,1)\n",
    "\n",
    "plt.subplot(122)\n",
    "plt.hist(cc_dist_ba.values(), bins=25);\n",
    "plt.title(\"The clustering coefficient distribution of the giant component of the Watts-Strogatz graph network\")\n",
    "plt.xlabel('Clustering coefficient')\n",
    "plt.ylabel('Number of nodes')\n",
    "plt.xlim(0,1)\n",
    "\n",
    "plt.show()"
   ]
  },
  {
   "cell_type": "markdown",
   "metadata": {},
   "source": [
    "Are the results what you expected? Explain."
   ]
  },
  {
   "cell_type": "markdown",
   "metadata": {},
   "source": [
    "**Your answer here.**\n",
    "\n",
    "First we see very comparable (and low) average shortest paths, this was expected as social networks and small world models tend to share this property. The clustering coefficients aren't that far from each other and are relatively high, the distribution of the local coefficients seems to be also similar but the Watts-Strogatz doesn't seem the capture entirely how the nodes cluster together in our dataset as the average coefficients difference is still non negligeable. Finally, a giant component accounts for most of the nodes in both graphs. Despite all these properties, a key element is missing, the degree distribution. As we see in he figure below, the degree distribution of the Watts-Strogatz model isn't remotely close to a power law and so very far from a scale-free model. This indicate that a Barabási-Albert model may be more suited for our network. "
   ]
  },
  {
   "cell_type": "code",
   "execution_count": 110,
   "metadata": {
    "scrolled": false
   },
   "outputs": [
    {
     "data": {
      "image/png": "[encoded data removed]",
      "text/plain": [
       "<matplotlib.figure.Figure at 0x14cc5014128>"
      ]
     },
     "metadata": {},
     "output_type": "display_data"
    }
   ],
   "source": [
    "# Your code here.\n",
    "plt.figure(figsize=(15,7))\n",
    "plt.subplot(121)\n",
    "weights_G_wt = np.ones_like(degree_G_wt) / float(N)\n",
    "plt.hist(degree_G_wt, weights=weights_G_wt, bins=25);\n",
    "plt.title('Degree distribution of the Watts-Strogatz random network')\n",
    "plt.xlabel('Degrees');\n",
    "plt.ylabel('Frequency');\n",
    "\n",
    "plt.subplot(122)\n",
    "weights_G_wt = np.ones_like(degree_G_wt) / float(N)\n",
    "plt.hist(np.log2(degree_G_wt), weights=weights_G_wt, bins=25, log=True);\n",
    "plt.title('Degree distribution of the Watts-Strogatz random network in loglog')\n",
    "plt.xlabel('Degrees');\n",
    "plt.ylabel('Frequency');\n",
    "\n",
    "plt.show()"
   ]
  },
  {
   "cell_type": "code",
   "execution_count": null,
   "metadata": {},
   "outputs": [],
   "source": []
  }
 ],
 "metadata": {
  "kernelspec": {
   "display_name": "Python 3",
   "language": "python",
   "name": "python3"
  },
  "language_info": {
   "codemirror_mode": {
    "name": "ipython",
    "version": 3
   },
   "file_extension": ".py",
   "mimetype": "text/x-python",
   "name": "python",
   "nbconvert_exporter": "python",
   "pygments_lexer": "ipython3",
   "version": "3.7.0"
  }
 },
 "nbformat": 4,
 "nbformat_minor": 2
}
