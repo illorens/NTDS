{
 "cells": [
  {
   "cell_type": "markdown",
   "metadata": {},
   "source": [
    "# NTDS'18 milestone 1: network collection and properties\n",
    "[Effrosyni Simou](https://lts4.epfl.ch/simou), [EPFL LTS4](https://lts4.epfl.ch)"
   ]
  },
  {
   "cell_type": "markdown",
   "metadata": {},
   "source": [
    "## Students\n",
    "\n",
    "* Team: `1`\n",
    "* Students: `Timothée Bornet Dit Vorgeat, Pol Boudou Perez, Yassine Zouaghi, Icíar Lloréns Jover`\n",
    "* Dataset: `IMDb Films and Crew`"
   ]
  },
  {
   "cell_type": "markdown",
   "metadata": {},
   "source": [
    "## Rules\n",
    "\n",
    "* Milestones have to be completed by teams. No collaboration between teams is allowed.\n",
    "* Textual answers shall be short. Typically one to three sentences.\n",
    "* Code has to be clean.\n",
    "* You cannot import any other library than we imported.\n",
    "* When submitting, the notebook is executed and the results are stored. I.e., if you open the notebook again it should show numerical results and plots. We won't be able to execute your notebooks.\n",
    "* The notebook is re-executed from a blank state before submission. That is to be sure it is reproducible. You can click \"Kernel\" then \"Restart & Run All\" in Jupyter."
   ]
  },
  {
   "cell_type": "markdown",
   "metadata": {},
   "source": [
    "## Objective "
   ]
  },
  {
   "cell_type": "markdown",
   "metadata": {},
   "source": [
    "The purpose of this milestone is to start getting acquainted to the network that you will use for this class. In the first part of the milestone you will import your data using [Pandas](http://pandas.pydata.org) and you will create the adjacency matrix using [Numpy](http://www.numpy.org). This part is project specific. In the second part you will have to compute some basic properties of your network. **For the computation of the properties you are only allowed to use the packages that have been imported in the cell below.** You are not allowed to use any graph-specific toolboxes for this milestone (such as networkx and PyGSP). Furthermore, the aim is not to blindly compute the network properties, but to also start to think about what kind of network you will be working with this semester. "
   ]
  },
  {
   "cell_type": "code",
   "execution_count": 1,
   "metadata": {},
   "outputs": [],
   "source": [
    "import numpy as np\n",
    "import pandas as pd\n",
    "import matplotlib.pyplot as plt\n",
    "import json"
   ]
  },
  {
   "cell_type": "markdown",
   "metadata": {},
   "source": [
    "## Part 1 - Import your data and manipulate them. "
   ]
  },
  {
   "cell_type": "markdown",
   "metadata": {},
   "source": [
    "###  A. Load your data in a Panda dataframe."
   ]
  },
  {
   "cell_type": "markdown",
   "metadata": {},
   "source": [
    "First, you should define and understand what are your nodes, what features you have and what are your labels. Please provide below a Panda dataframe where each row corresponds to a node with its features and labels. For example, in the the case of the Free Music Archive (FMA) Project, each row of the dataframe would be of the following form:\n",
    "\n",
    "\n",
    "| Track   |  Feature 1  | Feature 2 | . . . | Feature 518|  Label 1 |  Label 2 |. . .|Label 16|\n",
    "|:-------:|:-----------:|:---------:|:-----:|:----------:|:--------:|:--------:|:---:|:------:|\n",
    "|         |             |           |       |            |          |          |     |        |\n",
    "\n",
    "It is possible that in some of the projects either the features or the labels are not available. This is OK, in that case just make sure that you create a dataframe where each of the rows corresponds to a node and its associated features or labels."
   ]
  },
  {
   "cell_type": "code",
   "execution_count": 3,
   "metadata": {},
   "outputs": [],
   "source": [
    "DATA_PATH = \"DataMS1/\""
   ]
  },
  {
   "cell_type": "code",
   "execution_count": 4,
   "metadata": {},
   "outputs": [],
   "source": [
    "FILE_PATH_MOVIES = \"DataMS1/tmdb_5000_movies.csv\"\n",
    "FILE_PATH_CREW = \"DataMS1/tmdb_5000_credits.csv\""
   ]
  },
  {
   "cell_type": "code",
   "execution_count": 4,
   "metadata": {},
   "outputs": [],
   "source": [
    "# We have 2 files, one that includes data describing each movie\n",
    "# The other one includes the cast and crew of each movie\n",
    "# We need information from both files so we load them both\n",
    "# Load each file in a dataframe\n",
    "features_movies = pd.read_csv(FILE_PATH_MOVIES)\n",
    "features_crew = pd.read_csv(FILE_PATH_CREW)\n",
    "\n",
    "# In order to find the equivalences, we set the index of each \n",
    "# dataframe to the movie id. It one of the attributes both\n",
    "# dataframes have in common\n",
    "features_movies.set_index('id', inplace=True)\n",
    "features_crew.set_index('movie_id', inplace=True)"
   ]
  },
  {
   "cell_type": "code",
   "execution_count": 5,
   "metadata": {
    "scrolled": true
   },
   "outputs": [
    {
     "data": {
      "text/html": [
       "<div>\n",
       "<style scoped>\n",
       "    .dataframe tbody tr th:only-of-type {\n",
       "        vertical-align: middle;\n",
       "    }\n",
       "\n",
       "    .dataframe tbody tr th {\n",
       "        vertical-align: top;\n",
       "    }\n",
       "\n",
       "    .dataframe thead th {\n",
       "        text-align: right;\n",
       "    }\n",
       "</style>\n",
       "<table border=\"1\" class=\"dataframe\">\n",
       "  <thead>\n",
       "    <tr style=\"text-align: right;\">\n",
       "      <th></th>\n",
       "      <th>budget</th>\n",
       "      <th>genres</th>\n",
       "      <th>homepage</th>\n",
       "      <th>keywords</th>\n",
       "      <th>original_language</th>\n",
       "      <th>original_title</th>\n",
       "      <th>overview</th>\n",
       "      <th>popularity</th>\n",
       "      <th>production_companies</th>\n",
       "      <th>production_countries</th>\n",
       "      <th>release_date</th>\n",
       "      <th>revenue</th>\n",
       "      <th>runtime</th>\n",
       "      <th>spoken_languages</th>\n",
       "      <th>status</th>\n",
       "      <th>tagline</th>\n",
       "      <th>title</th>\n",
       "      <th>vote_average</th>\n",
       "      <th>vote_count</th>\n",
       "    </tr>\n",
       "    <tr>\n",
       "      <th>id</th>\n",
       "      <th></th>\n",
       "      <th></th>\n",
       "      <th></th>\n",
       "      <th></th>\n",
       "      <th></th>\n",
       "      <th></th>\n",
       "      <th></th>\n",
       "      <th></th>\n",
       "      <th></th>\n",
       "      <th></th>\n",
       "      <th></th>\n",
       "      <th></th>\n",
       "      <th></th>\n",
       "      <th></th>\n",
       "      <th></th>\n",
       "      <th></th>\n",
       "      <th></th>\n",
       "      <th></th>\n",
       "      <th></th>\n",
       "    </tr>\n",
       "  </thead>\n",
       "  <tbody>\n",
       "    <tr>\n",
       "      <th>19995</th>\n",
       "      <td>237000000</td>\n",
       "      <td>[{\"id\": 28, \"name\": \"Action\"}, {\"id\": 12, \"nam...</td>\n",
       "      <td>http://www.avatarmovie.com/</td>\n",
       "      <td>[{\"id\": 1463, \"name\": \"culture clash\"}, {\"id\":...</td>\n",
       "      <td>en</td>\n",
       "      <td>Avatar</td>\n",
       "      <td>In the 22nd century, a paraplegic Marine is di...</td>\n",
       "      <td>150.437577</td>\n",
       "      <td>[{\"name\": \"Ingenious Film Partners\", \"id\": 289...</td>\n",
       "      <td>[{\"iso_3166_1\": \"US\", \"name\": \"United States o...</td>\n",
       "      <td>2009-12-10</td>\n",
       "      <td>2787965087</td>\n",
       "      <td>162.0</td>\n",
       "      <td>[{\"iso_639_1\": \"en\", \"name\": \"English\"}, {\"iso...</td>\n",
       "      <td>Released</td>\n",
       "      <td>Enter the World of Pandora.</td>\n",
       "      <td>Avatar</td>\n",
       "      <td>7.2</td>\n",
       "      <td>11800</td>\n",
       "    </tr>\n",
       "    <tr>\n",
       "      <th>285</th>\n",
       "      <td>300000000</td>\n",
       "      <td>[{\"id\": 12, \"name\": \"Adventure\"}, {\"id\": 14, \"...</td>\n",
       "      <td>http://disney.go.com/disneypictures/pirates/</td>\n",
       "      <td>[{\"id\": 270, \"name\": \"ocean\"}, {\"id\": 726, \"na...</td>\n",
       "      <td>en</td>\n",
       "      <td>Pirates of the Caribbean: At World's End</td>\n",
       "      <td>Captain Barbossa, long believed to be dead, ha...</td>\n",
       "      <td>139.082615</td>\n",
       "      <td>[{\"name\": \"Walt Disney Pictures\", \"id\": 2}, {\"...</td>\n",
       "      <td>[{\"iso_3166_1\": \"US\", \"name\": \"United States o...</td>\n",
       "      <td>2007-05-19</td>\n",
       "      <td>961000000</td>\n",
       "      <td>169.0</td>\n",
       "      <td>[{\"iso_639_1\": \"en\", \"name\": \"English\"}]</td>\n",
       "      <td>Released</td>\n",
       "      <td>At the end of the world, the adventure begins.</td>\n",
       "      <td>Pirates of the Caribbean: At World's End</td>\n",
       "      <td>6.9</td>\n",
       "      <td>4500</td>\n",
       "    </tr>\n",
       "    <tr>\n",
       "      <th>206647</th>\n",
       "      <td>245000000</td>\n",
       "      <td>[{\"id\": 28, \"name\": \"Action\"}, {\"id\": 12, \"nam...</td>\n",
       "      <td>http://www.sonypictures.com/movies/spectre/</td>\n",
       "      <td>[{\"id\": 470, \"name\": \"spy\"}, {\"id\": 818, \"name...</td>\n",
       "      <td>en</td>\n",
       "      <td>Spectre</td>\n",
       "      <td>A cryptic message from Bond’s past sends him o...</td>\n",
       "      <td>107.376788</td>\n",
       "      <td>[{\"name\": \"Columbia Pictures\", \"id\": 5}, {\"nam...</td>\n",
       "      <td>[{\"iso_3166_1\": \"GB\", \"name\": \"United Kingdom\"...</td>\n",
       "      <td>2015-10-26</td>\n",
       "      <td>880674609</td>\n",
       "      <td>148.0</td>\n",
       "      <td>[{\"iso_639_1\": \"fr\", \"name\": \"Fran\\u00e7ais\"},...</td>\n",
       "      <td>Released</td>\n",
       "      <td>A Plan No One Escapes</td>\n",
       "      <td>Spectre</td>\n",
       "      <td>6.3</td>\n",
       "      <td>4466</td>\n",
       "    </tr>\n",
       "    <tr>\n",
       "      <th>49026</th>\n",
       "      <td>250000000</td>\n",
       "      <td>[{\"id\": 28, \"name\": \"Action\"}, {\"id\": 80, \"nam...</td>\n",
       "      <td>http://www.thedarkknightrises.com/</td>\n",
       "      <td>[{\"id\": 849, \"name\": \"dc comics\"}, {\"id\": 853,...</td>\n",
       "      <td>en</td>\n",
       "      <td>The Dark Knight Rises</td>\n",
       "      <td>Following the death of District Attorney Harve...</td>\n",
       "      <td>112.312950</td>\n",
       "      <td>[{\"name\": \"Legendary Pictures\", \"id\": 923}, {\"...</td>\n",
       "      <td>[{\"iso_3166_1\": \"US\", \"name\": \"United States o...</td>\n",
       "      <td>2012-07-16</td>\n",
       "      <td>1084939099</td>\n",
       "      <td>165.0</td>\n",
       "      <td>[{\"iso_639_1\": \"en\", \"name\": \"English\"}]</td>\n",
       "      <td>Released</td>\n",
       "      <td>The Legend Ends</td>\n",
       "      <td>The Dark Knight Rises</td>\n",
       "      <td>7.6</td>\n",
       "      <td>9106</td>\n",
       "    </tr>\n",
       "    <tr>\n",
       "      <th>49529</th>\n",
       "      <td>260000000</td>\n",
       "      <td>[{\"id\": 28, \"name\": \"Action\"}, {\"id\": 12, \"nam...</td>\n",
       "      <td>http://movies.disney.com/john-carter</td>\n",
       "      <td>[{\"id\": 818, \"name\": \"based on novel\"}, {\"id\":...</td>\n",
       "      <td>en</td>\n",
       "      <td>John Carter</td>\n",
       "      <td>John Carter is a war-weary, former military ca...</td>\n",
       "      <td>43.926995</td>\n",
       "      <td>[{\"name\": \"Walt Disney Pictures\", \"id\": 2}]</td>\n",
       "      <td>[{\"iso_3166_1\": \"US\", \"name\": \"United States o...</td>\n",
       "      <td>2012-03-07</td>\n",
       "      <td>284139100</td>\n",
       "      <td>132.0</td>\n",
       "      <td>[{\"iso_639_1\": \"en\", \"name\": \"English\"}]</td>\n",
       "      <td>Released</td>\n",
       "      <td>Lost in our world, found in another.</td>\n",
       "      <td>John Carter</td>\n",
       "      <td>6.1</td>\n",
       "      <td>2124</td>\n",
       "    </tr>\n",
       "  </tbody>\n",
       "</table>\n",
       "</div>"
      ],
      "text/plain": [
       "           budget                                             genres  \\\n",
       "id                                                                     \n",
       "19995   237000000  [{\"id\": 28, \"name\": \"Action\"}, {\"id\": 12, \"nam...   \n",
       "285     300000000  [{\"id\": 12, \"name\": \"Adventure\"}, {\"id\": 14, \"...   \n",
       "206647  245000000  [{\"id\": 28, \"name\": \"Action\"}, {\"id\": 12, \"nam...   \n",
       "49026   250000000  [{\"id\": 28, \"name\": \"Action\"}, {\"id\": 80, \"nam...   \n",
       "49529   260000000  [{\"id\": 28, \"name\": \"Action\"}, {\"id\": 12, \"nam...   \n",
       "\n",
       "                                            homepage  \\\n",
       "id                                                     \n",
       "19995                    http://www.avatarmovie.com/   \n",
       "285     http://disney.go.com/disneypictures/pirates/   \n",
       "206647   http://www.sonypictures.com/movies/spectre/   \n",
       "49026             http://www.thedarkknightrises.com/   \n",
       "49529           http://movies.disney.com/john-carter   \n",
       "\n",
       "                                                 keywords original_language  \\\n",
       "id                                                                            \n",
       "19995   [{\"id\": 1463, \"name\": \"culture clash\"}, {\"id\":...                en   \n",
       "285     [{\"id\": 270, \"name\": \"ocean\"}, {\"id\": 726, \"na...                en   \n",
       "206647  [{\"id\": 470, \"name\": \"spy\"}, {\"id\": 818, \"name...                en   \n",
       "49026   [{\"id\": 849, \"name\": \"dc comics\"}, {\"id\": 853,...                en   \n",
       "49529   [{\"id\": 818, \"name\": \"based on novel\"}, {\"id\":...                en   \n",
       "\n",
       "                                  original_title  \\\n",
       "id                                                 \n",
       "19995                                     Avatar   \n",
       "285     Pirates of the Caribbean: At World's End   \n",
       "206647                                   Spectre   \n",
       "49026                      The Dark Knight Rises   \n",
       "49529                                John Carter   \n",
       "\n",
       "                                                 overview  popularity  \\\n",
       "id                                                                      \n",
       "19995   In the 22nd century, a paraplegic Marine is di...  150.437577   \n",
       "285     Captain Barbossa, long believed to be dead, ha...  139.082615   \n",
       "206647  A cryptic message from Bond’s past sends him o...  107.376788   \n",
       "49026   Following the death of District Attorney Harve...  112.312950   \n",
       "49529   John Carter is a war-weary, former military ca...   43.926995   \n",
       "\n",
       "                                     production_companies  \\\n",
       "id                                                          \n",
       "19995   [{\"name\": \"Ingenious Film Partners\", \"id\": 289...   \n",
       "285     [{\"name\": \"Walt Disney Pictures\", \"id\": 2}, {\"...   \n",
       "206647  [{\"name\": \"Columbia Pictures\", \"id\": 5}, {\"nam...   \n",
       "49026   [{\"name\": \"Legendary Pictures\", \"id\": 923}, {\"...   \n",
       "49529         [{\"name\": \"Walt Disney Pictures\", \"id\": 2}]   \n",
       "\n",
       "                                     production_countries release_date  \\\n",
       "id                                                                       \n",
       "19995   [{\"iso_3166_1\": \"US\", \"name\": \"United States o...   2009-12-10   \n",
       "285     [{\"iso_3166_1\": \"US\", \"name\": \"United States o...   2007-05-19   \n",
       "206647  [{\"iso_3166_1\": \"GB\", \"name\": \"United Kingdom\"...   2015-10-26   \n",
       "49026   [{\"iso_3166_1\": \"US\", \"name\": \"United States o...   2012-07-16   \n",
       "49529   [{\"iso_3166_1\": \"US\", \"name\": \"United States o...   2012-03-07   \n",
       "\n",
       "           revenue  runtime  \\\n",
       "id                            \n",
       "19995   2787965087    162.0   \n",
       "285      961000000    169.0   \n",
       "206647   880674609    148.0   \n",
       "49026   1084939099    165.0   \n",
       "49529    284139100    132.0   \n",
       "\n",
       "                                         spoken_languages    status  \\\n",
       "id                                                                    \n",
       "19995   [{\"iso_639_1\": \"en\", \"name\": \"English\"}, {\"iso...  Released   \n",
       "285              [{\"iso_639_1\": \"en\", \"name\": \"English\"}]  Released   \n",
       "206647  [{\"iso_639_1\": \"fr\", \"name\": \"Fran\\u00e7ais\"},...  Released   \n",
       "49026            [{\"iso_639_1\": \"en\", \"name\": \"English\"}]  Released   \n",
       "49529            [{\"iso_639_1\": \"en\", \"name\": \"English\"}]  Released   \n",
       "\n",
       "                                               tagline  \\\n",
       "id                                                       \n",
       "19995                      Enter the World of Pandora.   \n",
       "285     At the end of the world, the adventure begins.   \n",
       "206647                           A Plan No One Escapes   \n",
       "49026                                  The Legend Ends   \n",
       "49529             Lost in our world, found in another.   \n",
       "\n",
       "                                           title  vote_average  vote_count  \n",
       "id                                                                          \n",
       "19995                                     Avatar           7.2       11800  \n",
       "285     Pirates of the Caribbean: At World's End           6.9        4500  \n",
       "206647                                   Spectre           6.3        4466  \n",
       "49026                      The Dark Knight Rises           7.6        9106  \n",
       "49529                                John Carter           6.1        2124  "
      ]
     },
     "execution_count": 5,
     "metadata": {},
     "output_type": "execute_result"
    }
   ],
   "source": [
    "# Dataframe with info about the movies\n",
    "features_movies.head()"
   ]
  },
  {
   "cell_type": "code",
   "execution_count": 6,
   "metadata": {},
   "outputs": [
    {
     "data": {
      "text/html": [
       "<div>\n",
       "<style scoped>\n",
       "    .dataframe tbody tr th:only-of-type {\n",
       "        vertical-align: middle;\n",
       "    }\n",
       "\n",
       "    .dataframe tbody tr th {\n",
       "        vertical-align: top;\n",
       "    }\n",
       "\n",
       "    .dataframe thead th {\n",
       "        text-align: right;\n",
       "    }\n",
       "</style>\n",
       "<table border=\"1\" class=\"dataframe\">\n",
       "  <thead>\n",
       "    <tr style=\"text-align: right;\">\n",
       "      <th></th>\n",
       "      <th>title</th>\n",
       "      <th>cast</th>\n",
       "      <th>crew</th>\n",
       "    </tr>\n",
       "    <tr>\n",
       "      <th>movie_id</th>\n",
       "      <th></th>\n",
       "      <th></th>\n",
       "      <th></th>\n",
       "    </tr>\n",
       "  </thead>\n",
       "  <tbody>\n",
       "    <tr>\n",
       "      <th>19995</th>\n",
       "      <td>Avatar</td>\n",
       "      <td>[{\"cast_id\": 242, \"character\": \"Jake Sully\", \"...</td>\n",
       "      <td>[{\"credit_id\": \"52fe48009251416c750aca23\", \"de...</td>\n",
       "    </tr>\n",
       "    <tr>\n",
       "      <th>285</th>\n",
       "      <td>Pirates of the Caribbean: At World's End</td>\n",
       "      <td>[{\"cast_id\": 4, \"character\": \"Captain Jack Spa...</td>\n",
       "      <td>[{\"credit_id\": \"52fe4232c3a36847f800b579\", \"de...</td>\n",
       "    </tr>\n",
       "    <tr>\n",
       "      <th>206647</th>\n",
       "      <td>Spectre</td>\n",
       "      <td>[{\"cast_id\": 1, \"character\": \"James Bond\", \"cr...</td>\n",
       "      <td>[{\"credit_id\": \"54805967c3a36829b5002c41\", \"de...</td>\n",
       "    </tr>\n",
       "    <tr>\n",
       "      <th>49026</th>\n",
       "      <td>The Dark Knight Rises</td>\n",
       "      <td>[{\"cast_id\": 2, \"character\": \"Bruce Wayne / Ba...</td>\n",
       "      <td>[{\"credit_id\": \"52fe4781c3a36847f81398c3\", \"de...</td>\n",
       "    </tr>\n",
       "    <tr>\n",
       "      <th>49529</th>\n",
       "      <td>John Carter</td>\n",
       "      <td>[{\"cast_id\": 5, \"character\": \"John Carter\", \"c...</td>\n",
       "      <td>[{\"credit_id\": \"52fe479ac3a36847f813eaa3\", \"de...</td>\n",
       "    </tr>\n",
       "  </tbody>\n",
       "</table>\n",
       "</div>"
      ],
      "text/plain": [
       "                                             title  \\\n",
       "movie_id                                             \n",
       "19995                                       Avatar   \n",
       "285       Pirates of the Caribbean: At World's End   \n",
       "206647                                     Spectre   \n",
       "49026                        The Dark Knight Rises   \n",
       "49529                                  John Carter   \n",
       "\n",
       "                                                       cast  \\\n",
       "movie_id                                                      \n",
       "19995     [{\"cast_id\": 242, \"character\": \"Jake Sully\", \"...   \n",
       "285       [{\"cast_id\": 4, \"character\": \"Captain Jack Spa...   \n",
       "206647    [{\"cast_id\": 1, \"character\": \"James Bond\", \"cr...   \n",
       "49026     [{\"cast_id\": 2, \"character\": \"Bruce Wayne / Ba...   \n",
       "49529     [{\"cast_id\": 5, \"character\": \"John Carter\", \"c...   \n",
       "\n",
       "                                                       crew  \n",
       "movie_id                                                     \n",
       "19995     [{\"credit_id\": \"52fe48009251416c750aca23\", \"de...  \n",
       "285       [{\"credit_id\": \"52fe4232c3a36847f800b579\", \"de...  \n",
       "206647    [{\"credit_id\": \"54805967c3a36829b5002c41\", \"de...  \n",
       "49026     [{\"credit_id\": \"52fe4781c3a36847f81398c3\", \"de...  \n",
       "49529     [{\"credit_id\": \"52fe479ac3a36847f813eaa3\", \"de...  "
      ]
     },
     "execution_count": 6,
     "metadata": {},
     "output_type": "execute_result"
    }
   ],
   "source": [
    "# Dataframe with the cast and crew for each movie\n",
    "features_crew.head()"
   ]
  },
  {
   "cell_type": "code",
   "execution_count": 7,
   "metadata": {
    "scrolled": false
   },
   "outputs": [
    {
     "data": {
      "text/html": [
       "<div>\n",
       "<style scoped>\n",
       "    .dataframe tbody tr th:only-of-type {\n",
       "        vertical-align: middle;\n",
       "    }\n",
       "\n",
       "    .dataframe tbody tr th {\n",
       "        vertical-align: top;\n",
       "    }\n",
       "\n",
       "    .dataframe thead th {\n",
       "        text-align: right;\n",
       "    }\n",
       "</style>\n",
       "<table border=\"1\" class=\"dataframe\">\n",
       "  <thead>\n",
       "    <tr style=\"text-align: right;\">\n",
       "      <th></th>\n",
       "      <th>movie_id</th>\n",
       "      <th>vote_average</th>\n",
       "      <th>genres</th>\n",
       "      <th>cast</th>\n",
       "      <th>crew</th>\n",
       "      <th>title</th>\n",
       "    </tr>\n",
       "  </thead>\n",
       "  <tbody>\n",
       "    <tr>\n",
       "      <th>0</th>\n",
       "      <td>19995</td>\n",
       "      <td>7.2</td>\n",
       "      <td>[{\"id\": 28, \"name\": \"Action\"}, {\"id\": 12, \"nam...</td>\n",
       "      <td>[{\"cast_id\": 242, \"character\": \"Jake Sully\", \"...</td>\n",
       "      <td>[{\"credit_id\": \"52fe48009251416c750aca23\", \"de...</td>\n",
       "      <td>Avatar</td>\n",
       "    </tr>\n",
       "    <tr>\n",
       "      <th>1</th>\n",
       "      <td>285</td>\n",
       "      <td>6.9</td>\n",
       "      <td>[{\"id\": 12, \"name\": \"Adventure\"}, {\"id\": 14, \"...</td>\n",
       "      <td>[{\"cast_id\": 4, \"character\": \"Captain Jack Spa...</td>\n",
       "      <td>[{\"credit_id\": \"52fe4232c3a36847f800b579\", \"de...</td>\n",
       "      <td>Pirates of the Caribbean: At World's End</td>\n",
       "    </tr>\n",
       "    <tr>\n",
       "      <th>2</th>\n",
       "      <td>206647</td>\n",
       "      <td>6.3</td>\n",
       "      <td>[{\"id\": 28, \"name\": \"Action\"}, {\"id\": 12, \"nam...</td>\n",
       "      <td>[{\"cast_id\": 1, \"character\": \"James Bond\", \"cr...</td>\n",
       "      <td>[{\"credit_id\": \"54805967c3a36829b5002c41\", \"de...</td>\n",
       "      <td>Spectre</td>\n",
       "    </tr>\n",
       "    <tr>\n",
       "      <th>3</th>\n",
       "      <td>49026</td>\n",
       "      <td>7.6</td>\n",
       "      <td>[{\"id\": 28, \"name\": \"Action\"}, {\"id\": 80, \"nam...</td>\n",
       "      <td>[{\"cast_id\": 2, \"character\": \"Bruce Wayne / Ba...</td>\n",
       "      <td>[{\"credit_id\": \"52fe4781c3a36847f81398c3\", \"de...</td>\n",
       "      <td>The Dark Knight Rises</td>\n",
       "    </tr>\n",
       "    <tr>\n",
       "      <th>4</th>\n",
       "      <td>49529</td>\n",
       "      <td>6.1</td>\n",
       "      <td>[{\"id\": 28, \"name\": \"Action\"}, {\"id\": 12, \"nam...</td>\n",
       "      <td>[{\"cast_id\": 5, \"character\": \"John Carter\", \"c...</td>\n",
       "      <td>[{\"credit_id\": \"52fe479ac3a36847f813eaa3\", \"de...</td>\n",
       "      <td>John Carter</td>\n",
       "    </tr>\n",
       "  </tbody>\n",
       "</table>\n",
       "</div>"
      ],
      "text/plain": [
       "   movie_id  vote_average                                             genres  \\\n",
       "0     19995           7.2  [{\"id\": 28, \"name\": \"Action\"}, {\"id\": 12, \"nam...   \n",
       "1       285           6.9  [{\"id\": 12, \"name\": \"Adventure\"}, {\"id\": 14, \"...   \n",
       "2    206647           6.3  [{\"id\": 28, \"name\": \"Action\"}, {\"id\": 12, \"nam...   \n",
       "3     49026           7.6  [{\"id\": 28, \"name\": \"Action\"}, {\"id\": 80, \"nam...   \n",
       "4     49529           6.1  [{\"id\": 28, \"name\": \"Action\"}, {\"id\": 12, \"nam...   \n",
       "\n",
       "                                                cast  \\\n",
       "0  [{\"cast_id\": 242, \"character\": \"Jake Sully\", \"...   \n",
       "1  [{\"cast_id\": 4, \"character\": \"Captain Jack Spa...   \n",
       "2  [{\"cast_id\": 1, \"character\": \"James Bond\", \"cr...   \n",
       "3  [{\"cast_id\": 2, \"character\": \"Bruce Wayne / Ba...   \n",
       "4  [{\"cast_id\": 5, \"character\": \"John Carter\", \"c...   \n",
       "\n",
       "                                                crew  \\\n",
       "0  [{\"credit_id\": \"52fe48009251416c750aca23\", \"de...   \n",
       "1  [{\"credit_id\": \"52fe4232c3a36847f800b579\", \"de...   \n",
       "2  [{\"credit_id\": \"54805967c3a36829b5002c41\", \"de...   \n",
       "3  [{\"credit_id\": \"52fe4781c3a36847f81398c3\", \"de...   \n",
       "4  [{\"credit_id\": \"52fe479ac3a36847f813eaa3\", \"de...   \n",
       "\n",
       "                                      title  \n",
       "0                                    Avatar  \n",
       "1  Pirates of the Caribbean: At World's End  \n",
       "2                                   Spectre  \n",
       "3                     The Dark Knight Rises  \n",
       "4                               John Carter  "
      ]
     },
     "execution_count": 7,
     "metadata": {},
     "output_type": "execute_result"
    }
   ],
   "source": [
    "# Create a dataframe with the desired features and labels.\n",
    "# We kept the titles of the movies in case we needed a clear\n",
    "# display for later. Even though for this milestone we are only \n",
    "# using the Cast and Crew features, we might need to add more \n",
    "# features like Ratings in a more advanced phase of the project.\n",
    "\n",
    "# Nodes = movies\n",
    "# Features = Cast, Crew, Ratings\n",
    "# Labels = Genres, Title \n",
    "features = pd.concat([features_movies[['vote_average', 'genres']], features_crew[['cast', 'crew', 'title']]], axis=1)\n",
    "features.reset_index(inplace=True)\n",
    "features.rename(index=str, columns={\"index\": \"movie_id\"}, inplace=True)\n",
    "features.head()"
   ]
  },
  {
   "cell_type": "markdown",
   "metadata": {},
   "source": [
    "###  Data cleaning\n",
    "\n",
    "Each value of \"Cast\" and \"Crew\" is in fact a json string. As it cannot be used as is, we decided to convert it to a more usable format. \n",
    "\n",
    "When reading a json string, we obtain a Dataframe with rows being each member and the columns being different attributes (id, character, job, etc).\n",
    "\n",
    "For the \"Cast\" feature: we decided to keep only the identifier of the actor. We judged that the character or the order of appearance were not important in order to determine the similarity between movies.\n",
    "\n",
    "For the \"Crew\" feature: we decided to keep only the identifier of the crew member. For a more relevant analysis, we should filter the crew members and only keep the ones having a job that greatly impacts the movie (e.g. \"Producer\", \"Music\", \"Screenplay\", \"Director\", \"Director of Photography\", \"Editor\", \"Art Direction\"). For this analysis, we decided to keep all crew members. \n",
    "\n",
    "Finally, once the relevant attributes were singled out, we convert the obtained Pandas.series into a set of integers (the integers being the ids). This is useful for latter computations where we need to find the number of people in common between two movies.\n",
    "\n",
    "If the json string was empty, we replace it by an empty set."
   ]
  },
  {
   "cell_type": "code",
   "execution_count": 8,
   "metadata": {},
   "outputs": [],
   "source": [
    "# Convert the json string into a set of the ids of the cast and crew\n",
    "\n",
    "# \"Cast\" feature\n",
    "features.cast = features.cast.apply(lambda x: set(pd.read_json(x, dtype=False).id) if x != '[]' else set())\n",
    "\n",
    "# \"Crew\" feature\n",
    "features.crew = features.crew.apply(lambda x: set(pd.read_json(x, dtype=False).id) if x != '[]' else set())"
   ]
  },
  {
   "cell_type": "code",
   "execution_count": 10,
   "metadata": {},
   "outputs": [
    {
     "data": {
      "text/html": [
       "<div>\n",
       "<style scoped>\n",
       "    .dataframe tbody tr th:only-of-type {\n",
       "        vertical-align: middle;\n",
       "    }\n",
       "\n",
       "    .dataframe tbody tr th {\n",
       "        vertical-align: top;\n",
       "    }\n",
       "\n",
       "    .dataframe thead th {\n",
       "        text-align: right;\n",
       "    }\n",
       "</style>\n",
       "<table border=\"1\" class=\"dataframe\">\n",
       "  <thead>\n",
       "    <tr style=\"text-align: right;\">\n",
       "      <th></th>\n",
       "      <th>movie_id</th>\n",
       "      <th>vote_average</th>\n",
       "      <th>genres</th>\n",
       "      <th>cast</th>\n",
       "      <th>crew</th>\n",
       "      <th>title</th>\n",
       "    </tr>\n",
       "  </thead>\n",
       "  <tbody>\n",
       "    <tr>\n",
       "      <th>0</th>\n",
       "      <td>19995</td>\n",
       "      <td>7.2</td>\n",
       "      <td>[{\"id\": 28, \"name\": \"Action\"}, {\"id\": 12, \"nam...</td>\n",
       "      <td>{397312, 1180936, 1145098, 1186027, 103259, 30...</td>\n",
       "      <td>{72201, 14350, 33302, 33303, 93214, 6690, 1339...</td>\n",
       "      <td>Avatar</td>\n",
       "    </tr>\n",
       "    <tr>\n",
       "      <th>1</th>\n",
       "      <td>285</td>\n",
       "      <td>6.9</td>\n",
       "      <td>[{\"id\": 12, \"name\": \"Adventure\"}, {\"id\": 14, \"...</td>\n",
       "      <td>{2440, 2441, 2449, 2450, 2452, 1430, 939, 2603...</td>\n",
       "      <td>{770, 146439, 2444, 2445, 2446, 2447, 2448, 51...</td>\n",
       "      <td>Pirates of the Caribbean: At World's End</td>\n",
       "    </tr>\n",
       "    <tr>\n",
       "      <th>2</th>\n",
       "      <td>206647</td>\n",
       "      <td>6.3</td>\n",
       "      <td>[{\"id\": 28, \"name\": \"Action\"}, {\"id\": 12, \"nam...</td>\n",
       "      <td>{1168129, 1599239, 1599241, 48393, 1599245, 15...</td>\n",
       "      <td>{64000, 1551872, 1551874, 11268, 1338372, 1099...</td>\n",
       "      <td>Spectre</td>\n",
       "    </tr>\n",
       "    <tr>\n",
       "      <th>3</th>\n",
       "      <td>49026</td>\n",
       "      <td>7.6</td>\n",
       "      <td>[{\"id\": 28, \"name\": \"Action\"}, {\"id\": 80, \"nam...</td>\n",
       "      <td>{21505, 53252, 1172491, 77335, 535, 1574936, 5...</td>\n",
       "      <td>{1034754, 525, 1340941, 527, 969743, 1551373, ...</td>\n",
       "      <td>The Dark Knight Rises</td>\n",
       "    </tr>\n",
       "    <tr>\n",
       "      <th>4</th>\n",
       "      <td>49529</td>\n",
       "      <td>6.1</td>\n",
       "      <td>[{\"id\": 28, \"name\": \"Action\"}, {\"id\": 12, \"nam...</td>\n",
       "      <td>{1721985, 62082, 17287, 1721992, 17419, 6416, ...</td>\n",
       "      <td>{1034754, 1034755, 1425411, 1550851, 7, 137882...</td>\n",
       "      <td>John Carter</td>\n",
       "    </tr>\n",
       "  </tbody>\n",
       "</table>\n",
       "</div>"
      ],
      "text/plain": [
       "   movie_id  vote_average                                             genres  \\\n",
       "0     19995           7.2  [{\"id\": 28, \"name\": \"Action\"}, {\"id\": 12, \"nam...   \n",
       "1       285           6.9  [{\"id\": 12, \"name\": \"Adventure\"}, {\"id\": 14, \"...   \n",
       "2    206647           6.3  [{\"id\": 28, \"name\": \"Action\"}, {\"id\": 12, \"nam...   \n",
       "3     49026           7.6  [{\"id\": 28, \"name\": \"Action\"}, {\"id\": 80, \"nam...   \n",
       "4     49529           6.1  [{\"id\": 28, \"name\": \"Action\"}, {\"id\": 12, \"nam...   \n",
       "\n",
       "                                                cast  \\\n",
       "0  {397312, 1180936, 1145098, 1186027, 103259, 30...   \n",
       "1  {2440, 2441, 2449, 2450, 2452, 1430, 939, 2603...   \n",
       "2  {1168129, 1599239, 1599241, 48393, 1599245, 15...   \n",
       "3  {21505, 53252, 1172491, 77335, 535, 1574936, 5...   \n",
       "4  {1721985, 62082, 17287, 1721992, 17419, 6416, ...   \n",
       "\n",
       "                                                crew  \\\n",
       "0  {72201, 14350, 33302, 33303, 93214, 6690, 1339...   \n",
       "1  {770, 146439, 2444, 2445, 2446, 2447, 2448, 51...   \n",
       "2  {64000, 1551872, 1551874, 11268, 1338372, 1099...   \n",
       "3  {1034754, 525, 1340941, 527, 969743, 1551373, ...   \n",
       "4  {1034754, 1034755, 1425411, 1550851, 7, 137882...   \n",
       "\n",
       "                                      title  \n",
       "0                                    Avatar  \n",
       "1  Pirates of the Caribbean: At World's End  \n",
       "2                                   Spectre  \n",
       "3                     The Dark Knight Rises  \n",
       "4                               John Carter  "
      ]
     },
     "execution_count": 10,
     "metadata": {},
     "output_type": "execute_result"
    }
   ],
   "source": [
    "# Reformatted features\n",
    "features.head()"
   ]
  },
  {
   "cell_type": "code",
   "execution_count": 9,
   "metadata": {},
   "outputs": [],
   "source": [
    "# Now that we have cleaned our dataset, we save it so that we \n",
    "# don't need to re-compute the cleaning part\n",
    "# We use pickle so that it doesn't convert to string our set of ints\n",
    "features.to_pickle(DATA_PATH + 'features.csv')"
   ]
  },
  {
   "cell_type": "markdown",
   "metadata": {},
   "source": [
    "### B. Create the adjacency matrix of your network."
   ]
  },
  {
   "cell_type": "markdown",
   "metadata": {},
   "source": [
    "Remember that there are edges connecting the attributed nodes that you organized in the dataframe above. The connectivity of the network is captured by the adjacency matrix $W$. If $N$ is the number of nodes, the adjacency matrix is an $N \\times N$ matrix where the value of $W(i,j)$ is the weight of the edge connecting node $i$ to node $j$.  \n",
    "\n",
    "There are two possible scenarios for your adjacency matrix construction, as you already learned in the tutorial by Benjamin:\n",
    "\n",
    "1) The edges are given to you explicitly. In this case you should simply load the file containing the edge information and parse it in order to create your adjacency matrix. See how to do that in the  [graph from edge list]() demo.\n",
    "\n",
    "2) The edges are not given to you. In that case you will have to create a feature graph. In order to do that you will have to chose a distance that will quantify how similar two nodes are based on the values in their corresponding feature vectors. In the [graph from features]() demo Benjamin showed you how to build feature graphs when using Euclidean distances between feature vectors. Be curious and explore other distances as well! For instance, in the case of high-dimensional feature vectors, you might want to consider using the cosine distance. Once you compute the distances between your nodes you will have a fully connected network. Do not forget to sparsify by keeping the most important edges in your network.\n",
    "\n",
    "Follow the appropriate steps for the construction of the adjacency matrix of your network and provide it in the Numpy array ``adjacency`` below: "
   ]
  },
  {
   "cell_type": "code",
   "execution_count": 10,
   "metadata": {},
   "outputs": [],
   "source": [
    "# Load features\n",
    "features = pd.read_pickle(DATA_PATH + 'features.csv')"
   ]
  },
  {
   "cell_type": "code",
   "execution_count": 13,
   "metadata": {},
   "outputs": [],
   "source": [
    "# This function returns the number of common elements \n",
    "# between two sets \n",
    "def compute_common_elements(set1, set2):\n",
    "    return len(set1 & set2)"
   ]
  },
  {
   "cell_type": "code",
   "execution_count": 14,
   "metadata": {},
   "outputs": [],
   "source": [
    "# The weights are computed as follows:\n",
    "# We count the number of actors and crew members that each movie has in common\n",
    "# This number will be set to the edge weight between the 2 corresponding movies\n",
    "def compute_weights(dataframe):\n",
    "    weights = np.zeros((len(dataframe), len(dataframe)))\n",
    "    \n",
    "    for i in range(0, len(dataframe)):\n",
    "        for j in range(0, len(dataframe)):\n",
    "            common_cast = compute_common_elements(dataframe.cast[i], dataframe.cast[j])\n",
    "            common_crew = compute_common_elements(dataframe.crew[i], dataframe.crew[j])\n",
    "            weights[i][j] = common_cast + common_crew  \n",
    "    return weights"
   ]
  },
  {
   "cell_type": "code",
   "execution_count": null,
   "metadata": {},
   "outputs": [],
   "source": [
    "weights = compute_weights(features)"
   ]
  },
  {
   "cell_type": "code",
   "execution_count": 18,
   "metadata": {},
   "outputs": [],
   "source": [
    "# Save the weights\n",
    "np.save(DATA_PATH + 'weights.npy', weights)"
   ]
  },
  {
   "cell_type": "code",
   "execution_count": 15,
   "metadata": {},
   "outputs": [],
   "source": [
    "# Load the weights\n",
    "weights = np.load(DATA_PATH + 'weights.npy')"
   ]
  },
  {
   "cell_type": "code",
   "execution_count": 16,
   "metadata": {},
   "outputs": [],
   "source": [
    "# Once we have the weights, we need to set the diagonal to zero\n",
    "# since the movies should not be linked to themselves\n",
    "np.fill_diagonal(weights, 0)"
   ]
  },
  {
   "cell_type": "code",
   "execution_count": 17,
   "metadata": {},
   "outputs": [],
   "source": [
    "# In order to get the adjacency matrix, we need to normalize the \n",
    "# weights so that the adjacency elements are bound between 0 and 1\n",
    "adjacency = weights\n",
    "adjacency = adjacency / adjacency.max()\n",
    "\n",
    "# Save\n",
    "np.save(DATA_PATH + 'adjacency.npy', adjacency)"
   ]
  },
  {
   "cell_type": "code",
   "execution_count": 21,
   "metadata": {},
   "outputs": [],
   "source": [
    "# The number of nodes in the network\n",
    "n_nodes = len(features) "
   ]
  },
  {
   "cell_type": "markdown",
   "metadata": {},
   "source": [
    "## Part 2"
   ]
  },
  {
   "cell_type": "markdown",
   "metadata": {},
   "source": [
    "Execute the cell below to plot the (weighted) adjacency matrix of your network."
   ]
  },
  {
   "cell_type": "markdown",
   "metadata": {},
   "source": [
    "### Question 1\n",
    "\n",
    "What is the maximum number of links $L_{max}$ in a network with $N$ nodes (where $N$ is the number of nodes in your network)? How many links $L$ are there in your collected network? Comment on the sparsity of your network."
   ]
  },
  {
   "cell_type": "code",
   "execution_count": null,
   "metadata": {},
   "outputs": [],
   "source": [
    "# The maximum number of links is (N*(N-1))/2\n",
    "L_max = int(n_nodes*(n_nodes-1)/2)\n",
    "\n",
    "# Without considering twice the links (i.e. only considering half of the adjacency matrix):\n",
    "L = int(np.count_nonzero(adjacency)/2)\n",
    "\n",
    "# Sparsity of the network (%)\n",
    "sparsity = ((len(adjacency)**2 - np.count_nonzero(adjacency))/len(adjacency)**2) * 100\n",
    "\n",
    "print('Maximum number of links for our network:  ' + str(L_max))\n",
    "print('Number of links in our network:           ' + str(L))\n",
    "print('Sparsity of our network:                  ' + str(sparsity) + ' %')"
   ]
  },
  {
   "cell_type": "markdown",
   "metadata": {},
   "source": [
    "**Answer:**\n",
    "\n",
    "For a network with N nodes, the maximum number of links it can have is N*(N-1)/2. For our graph, where N = 4803, this means 11 532 003 links.\n",
    "\n",
    "Our network however has L = 476873 links, which is 4.135 % of the maximum number of links. The number of links is approximately 10*N (~O(N), as most networks are)\n",
    "\n",
    "We can hence conclude that our network is sparse. It in fact has a sparsity of 95.87%."
   ]
  },
  {
   "cell_type": "markdown",
   "metadata": {},
   "source": [
    "### Question 2\n",
    "\n",
    "Is your graph directed or undirected? If it is directed, convert it to an undirected graph by symmetrizing the adjacency matrix."
   ]
  },
  {
   "cell_type": "markdown",
   "metadata": {},
   "source": [
    "**Answer:**\n",
    "\n",
    "Our network's nodes are movies and the edges between them are the number of actors and staff that movies have in common. Hence the network is inherently undirected.\n",
    "\n",
    "However, we computed the whole adjacency matrix, not only the upper half, and we tested if the matrix was symmetrical. Its symmetry is confirmed by the result of the operation being 'True'. We therefore don't need to symmetrize the matrix. "
   ]
  },
  {
   "cell_type": "code",
   "execution_count": null,
   "metadata": {},
   "outputs": [],
   "source": [
    "# This code checks if the adjacency matrix and its transpose are the same\n",
    "# If A = A_transpose, then A is symmetric and the network is undirected\n",
    "is_sym = np.allclose(adjacency, adjacency.T)\n",
    "print(\"Symmetry of the adjacency matrix: \" + str(is_sym))"
   ]
  },
  {
   "cell_type": "markdown",
   "metadata": {},
   "source": [
    "### Question 3\n",
    "\n",
    "In the cell below save the features dataframe and the **symmetrized** adjacency matrix. You can use the Pandas ``to_csv`` to save the ``features`` and Numpy's ``save`` to save the ``adjacency``. We will reuse those in the following milestones."
   ]
  },
  {
   "cell_type": "code",
   "execution_count": null,
   "metadata": {},
   "outputs": [],
   "source": [
    "# Save the features\n",
    "# We use pickle so that it preserves the structure of our dataframe\n",
    "# pd.to_csv converted our set of integers into string\n",
    "features.to_pickle(DATA_PATH + 'features.csv')\n",
    "\n",
    "# Save the adjacency matrix\n",
    "np.save(DATA_PATH + 'adjacency.npy', adjacency)"
   ]
  },
  {
   "cell_type": "code",
   "execution_count": 5,
   "metadata": {},
   "outputs": [],
   "source": [
    "# Additional code: load features and adjacency matrix\n",
    "features = pd.read_pickle(DATA_PATH + 'features.csv')\n",
    "adjacency = np.load(DATA_PATH + 'adjacency.npy')"
   ]
  },
  {
   "cell_type": "markdown",
   "metadata": {},
   "source": [
    "### Question 4\n",
    "\n",
    "Are the edges of your graph weighted?"
   ]
  },
  {
   "cell_type": "markdown",
   "metadata": {},
   "source": [
    "**Answer:**\n",
    "\n",
    "Yes. The weights are the the number of cast/crew members shared by two nodes (movies), normalized so that the edges are bound between 0 and 1. We can hence find edge values that are between 0 and 1."
   ]
  },
  {
   "cell_type": "markdown",
   "metadata": {},
   "source": [
    "### Question 5\n",
    "\n",
    "What is the degree distibution of your network? "
   ]
  },
  {
   "cell_type": "code",
   "execution_count": 50,
   "metadata": {},
   "outputs": [],
   "source": [
    "degree = adjacency.sum(1)\n",
    "assert len(degree) == n_nodes"
   ]
  },
  {
   "cell_type": "markdown",
   "metadata": {},
   "source": [
    "Execute the cell below to see the histogram of the degree distribution."
   ]
  },
  {
   "cell_type": "code",
   "execution_count": 51,
   "metadata": {},
   "outputs": [
    {
     "data": {
      "image/png": "[encoded data removed]",
      "text/plain": [
       "<Figure size 432x288 with 1 Axes>"
      ]
     },
     "metadata": {},
     "output_type": "display_data"
    }
   ],
   "source": [
    "weights = np.ones_like(degree) / float(n_nodes)\n",
    "plt.hist(degree, weights=weights, bins=18);"
   ]
  },
  {
   "cell_type": "markdown",
   "metadata": {},
   "source": [
    "What is the average degree?"
   ]
  },
  {
   "cell_type": "code",
   "execution_count": 52,
   "metadata": {},
   "outputs": [
    {
     "name": "stdout",
     "output_type": "stream",
     "text": [
      "The average degree is:  2.3756406068836946\n"
     ]
    }
   ],
   "source": [
    "avg_degree = degree.mean()\n",
    "print(\"The average degree is: \", avg_degree)"
   ]
  },
  {
   "cell_type": "markdown",
   "metadata": {},
   "source": [
    "### Question 6\n",
    "\n",
    "Comment on the degree distribution of your network."
   ]
  },
  {
   "cell_type": "markdown",
   "metadata": {},
   "source": [
    "**Answer:**\n",
    "\n",
    "This distribution is right-skewed, which means that most nodes have low degree and that a small number of nodes have high degree. This distribution looks like a power law, which might imply that our network is a Scale-Free network."
   ]
  },
  {
   "cell_type": "markdown",
   "metadata": {},
   "source": [
    "### Question 7\n",
    "\n",
    "Write a function that takes as input the adjacency matrix of a graph and determines whether the graph is connected or not."
   ]
  },
  {
   "cell_type": "code",
   "execution_count": 6,
   "metadata": {},
   "outputs": [],
   "source": [
    "def connected_graph(adjacency):\n",
    "    \"\"\"Determines whether a graph is connected.\n",
    "    A connected (undirected) graph is a graph where any two vertices can be joined by a path.\n",
    "    \n",
    "    Parameters\n",
    "    ----------\n",
    "    adjacency: numpy array\n",
    "        The (weighted) adjacency matrix of a graph.\n",
    "    \n",
    "    Returns\n",
    "    -------\n",
    "    bool\n",
    "        True if the graph is connected, False otherwise.\n",
    "    \"\"\"\n",
    "    \n",
    "    # Convert adjacency matrix into an adjacency list\n",
    "    # This makes it easier to navigate through the nodes\n",
    "    adj_list = []\n",
    "    for i in range(0, len(adjacency)):\n",
    "        adj_list.append(list(np.nonzero(adjacency[i])[0]))\n",
    "    \n",
    "    # We start from an arbitrary node, for example the first one\n",
    "    start = 0\n",
    "    queue = []\n",
    "    visited = set()\n",
    "\n",
    "    queue.append(start)\n",
    "    visited.add(start)\n",
    "\n",
    "    while queue:\n",
    "        current = queue.pop(0)\n",
    "        for node in adj_list[current]:\n",
    "            if node not in visited:\n",
    "                queue.append(node)\n",
    "                visited.add(node)\n",
    "    \n",
    "    # If we can visit all nodes by starting from any node, meaning that\n",
    "    # the lenght of the list of the visited nodes is equal to the total\n",
    "    # number of nodes, then the graph is connected\n",
    "    if len(visited) == len(adjacency):\n",
    "        connected = True\n",
    "    else:\n",
    "        connected = False\n",
    "    \n",
    "    return connected"
   ]
  },
  {
   "cell_type": "markdown",
   "metadata": {},
   "source": [
    "Is your graph connected? Run the ``connected_graph`` function to determine your answer.\n",
    "\n",
    "**Answer:**\n",
    "\n",
    "By running our code, we see that the connectedness of the graph is False. Our graph is not connected."
   ]
  },
  {
   "cell_type": "code",
   "execution_count": 7,
   "metadata": {},
   "outputs": [
    {
     "name": "stdout",
     "output_type": "stream",
     "text": [
      "Connectedness of the graph: False\n"
     ]
    }
   ],
   "source": [
    "# Your code here.\n",
    "connectedness = connected_graph(adjacency)\n",
    "print('Connectedness of the graph: ' + str(connectedness))"
   ]
  },
  {
   "cell_type": "markdown",
   "metadata": {},
   "source": [
    "### Question 8\n",
    "\n",
    "Write a function that extracts the connected components of a graph."
   ]
  },
  {
   "cell_type": "code",
   "execution_count": 8,
   "metadata": {},
   "outputs": [],
   "source": [
    "def find_components(adjacency):\n",
    "    \"\"\"Find the connected components of a graph.\n",
    "    \n",
    "    Parameters\n",
    "    ----------\n",
    "    adjacency: numpy array\n",
    "        The (weighted) adjacency matrix of a graph.\n",
    "    \n",
    "    Returns\n",
    "    -------\n",
    "    list of numpy arrays\n",
    "        A list of adjacency matrices, one per connected component.\n",
    "    \"\"\"\n",
    "    \n",
    "    # Convert adjacency matrix into an adjacency list\n",
    "    # This makes it easier to navigate through the nodes\n",
    "    adj_list = []\n",
    "    for i in range(0, len(adjacency)):\n",
    "        adj_list.append(list(np.nonzero(adjacency[i])[0]))\n",
    "        \n",
    "    # Each node will be assigned a label (starting from 1) according \n",
    "    # to which connected component it belongs. If the label is 0, \n",
    "    # it means it has not been visited yet.\n",
    "    nodes = np.zeros(len(adjacency))\n",
    "    # n counts the number of connected components\n",
    "    n = 0\n",
    "    \n",
    "    while (np.count_nonzero(nodes) != len(adjacency)):\n",
    "        n = n+1\n",
    "        # We start from the first node that has not been visited\n",
    "        start = np.where(nodes == 0)[0][0]\n",
    "        queue = []\n",
    "        visited = set()\n",
    "\n",
    "        queue.append(start)\n",
    "        visited.add(start)\n",
    "\n",
    "        while queue:\n",
    "            current = queue.pop(0)\n",
    "            for node in adj_list[current]:\n",
    "                if node not in visited:\n",
    "                    queue.append(node)\n",
    "                    visited.add(node)\n",
    "        \n",
    "        visited = list(visited)\n",
    "        # Visited nodes are assigned their label\n",
    "        nodes[visited] = n\n",
    "    \n",
    "    # Empty list of adjacency matrices\n",
    "    components = []\n",
    "    \n",
    "    for i in range(1, n+1):\n",
    "        # Make adjacency matrix\n",
    "        adj = []\n",
    "        for element in list(np.where(nodes==i)[0]):\n",
    "            adj.append(adjacency[element])\n",
    "        adj = np.array(adj)\n",
    "        # Find all only-zero columns\n",
    "        idx = np.argwhere(np.all(adj[..., :] == 0, axis=0))\n",
    "        # Delete them\n",
    "        adj = np.delete(adj, idx, axis=1)\n",
    "        components.append(adj)\n",
    "        \n",
    "    return components"
   ]
  },
  {
   "cell_type": "markdown",
   "metadata": {},
   "source": [
    "How many connected components is your network composed of? What is the size of the largest connected component? Run the ``find_components`` function to determine your answer. "
   ]
  },
  {
   "cell_type": "code",
   "execution_count": 22,
   "metadata": {},
   "outputs": [
    {
     "name": "stdout",
     "output_type": "stream",
     "text": [
      "The graph is composed of 91 connected component(s)\n",
      "The size of the largest connected component is: 4713 nodes\n",
      "Total number of nodes:                          4803 nodes\n"
     ]
    }
   ],
   "source": [
    "# Your code here.\n",
    "connected_components = find_components(adjacency)\n",
    "print('The graph is composed of ' + str(len(connected_components)) + ' connected component(s)')\n",
    "max_len = 0\n",
    "for component in connected_components:\n",
    "    if len(component) > max_len:\n",
    "        max_len = len(component)\n",
    "\n",
    "print(\"The size of the largest connected component is: \" + str(max_len) + \" nodes\")\n",
    "print(\"Total number of nodes:                          \" + str(n_nodes) + \" nodes\")"
   ]
  },
  {
   "cell_type": "code",
   "execution_count": null,
   "metadata": {
    "scrolled": true
   },
   "outputs": [],
   "source": [
    "connected_components"
   ]
  },
  {
   "cell_type": "markdown",
   "metadata": {},
   "source": [
    "**Answer:**\n",
    "\n",
    "We can see that our graph is not connected and is composed of 91 connected components. However, its biggest connected component is almost the size of the full graph and leaves only 90 other nodes that are not connected to it. Since there are 90 other components and 90 other nodes that need accounting for, this suggests that the 90 other nodes (movies) are disconnected from any other node. We have verifyed this by printing the list of adjacency matrices of each connected component. The first element is indeed a matrix, however the other 90 elements are empty arrays with shape (1,0). \n",
    "The 90 films not connected to the biggest connected element are indeed connected to no other node. "
   ]
  },
  {
   "cell_type": "markdown",
   "metadata": {},
   "source": [
    "### Question 9\n",
    "\n",
    "Write a function that takes as input the adjacency matrix and a node (`source`) and returns the length of the shortest path between that node and all nodes in the graph using Dijkstra's algorithm. **For the purposes of this assignment we are interested in the hop distance between nodes, not in the sum of weights. **\n",
    "\n",
    "Hint: You might want to mask the adjacency matrix in the function ``compute_shortest_path_lengths`` in order to make sure you obtain a binary adjacency matrix. "
   ]
  },
  {
   "cell_type": "code",
   "execution_count": 14,
   "metadata": {},
   "outputs": [],
   "source": [
    "def compute_shortest_path_lengths(adjacency, source):\n",
    "    \"\"\"Compute the shortest path length between a source node and all nodes.\n",
    "    \n",
    "    Parameters\n",
    "    ----------\n",
    "    adjacency: numpy array\n",
    "        The (weighted) adjacency matrix of a graph.\n",
    "    source: int\n",
    "        The source node. A number between 0 and n_nodes-1.\n",
    "    \n",
    "    Returns\n",
    "    -------\n",
    "    list of ints\n",
    "        The length of the shortest path from source to all nodes. Returned list should be of length n_nodes.\n",
    "    \"\"\"\n",
    "    \n",
    "    \n",
    "    # Path lenghts are initialized as infinite\n",
    "    shortest_path_lengths= [float(\"inf\") for x in range(len(adjacency))]\n",
    "    \n",
    "    # Convert adjacency matrix into an adjacency list\n",
    "    # This makes it easier to navigate through the nodes\n",
    "    adj_list = []\n",
    "    for i in range(0, len(adjacency)):\n",
    "        adj_list.append(list(np.nonzero(adjacency[i])[0]))\n",
    "        \n",
    "    queue = []\n",
    "    visited = set()\n",
    "    queue.append(source)\n",
    "    visited.add(source)\n",
    "    \n",
    "    # Will act as a counter for the number of hops\n",
    "    distance_current = 0\n",
    "    \n",
    "    # We use Breadth-First Search algorithm:\n",
    "    while queue:\n",
    "        # Nodes in queue are given a path lenght of current_distance\n",
    "        for node in queue:\n",
    "            shortest_path_lengths[node] = distance_current        \n",
    "        # Nodes from queue get ready to be inspected (current_nodes)\n",
    "        current_nodes = queue\n",
    "        # Queue is cleared\n",
    "        queue=[]\n",
    "        # Nodes linked to current_nodes are added to queue\n",
    "        for node in current_nodes:\n",
    "            for voisin in adj_list[node]:\n",
    "                if voisin not in visited:\n",
    "                    queue.append(voisin)\n",
    "                    visited.add(voisin)\n",
    "        # Current distance is incremented\n",
    "        distance_current+=1\n",
    "\n",
    "    return shortest_path_lengths"
   ]
  },
  {
   "cell_type": "markdown",
   "metadata": {},
   "source": [
    "### Question 10\n",
    "\n",
    "The diameter of the graph is the length of the longest shortest path between any pair of nodes. Use the above developed function to compute the diameter of the graph (or the diameter of the largest connected component of the graph if the graph is not connected). If your graph (or largest connected component) is very large, computing the diameter will take very long. In that case downsample your graph so that it has 1.000 nodes. There are many ways to reduce the size of a graph. For the purposes of this milestone you can chose to randomly select 1.000 nodes. "
   ]
  },
  {
   "cell_type": "code",
   "execution_count": 15,
   "metadata": {},
   "outputs": [],
   "source": [
    "import random\n",
    "\n",
    "# In order to compute the diameter, we will use a subset of\n",
    "# 1050 random nodes from the biggest component of our graph\n",
    "def downsample_graph(adjacency):\n",
    "    connected_components = find_components(adjacency);\n",
    "   \n",
    "    biggest_component = np.empty([1,1])\n",
    "    for component in connected_components:\n",
    "        if component.shape > biggest_component.shape:\n",
    "            biggest_component = component\n",
    "            \n",
    "    nodes = random.sample(range(0, len(biggest_component)-1), 1050)\n",
    "    downsample_candidates = biggest_component[np.ix_(nodes,nodes)]\n",
    "    \n",
    "    connected_down = find_components(downsample_candidates)\n",
    "    \n",
    "    downsampled_graph = np.empty([1,1])\n",
    "    for component in connected_down:\n",
    "        if component.shape > downsampled_graph.shape:\n",
    "            downsampled_graph = component\n",
    "    \n",
    "    return downsampled_graph"
   ]
  },
  {
   "cell_type": "code",
   "execution_count": 16,
   "metadata": {},
   "outputs": [
    {
     "name": "stdout",
     "output_type": "stream",
     "text": [
      "The diameter of the current downsampled graph is:  4\n"
     ]
    }
   ],
   "source": [
    "# Downsample graph\n",
    "subset = downsample_graph(adjacency)\n",
    "\n",
    "dist_max = [0]*len(subset)\n",
    "\n",
    "# shortest paths are computed for every node \n",
    "# and the longest one is kept\n",
    "for node in range(0, len(subset)):\n",
    "    dist = compute_shortest_path_lengths(subset, node)\n",
    "    dist_max[node] = max(dist)\n",
    "\n",
    "diameter = min(dist_max)\n",
    "print(\"The diameter of the current downsampled graph is: \", diameter)"
   ]
  },
  {
   "cell_type": "markdown",
   "metadata": {},
   "source": [
    "### Question 11\n",
    "\n",
    "Write a function that takes as input the adjacency matrix, a path length, and two nodes (`source` and `target`), and returns the number of paths of the given length between them."
   ]
  },
  {
   "cell_type": "code",
   "execution_count": 17,
   "metadata": {},
   "outputs": [],
   "source": [
    "def compute_paths(adjacency, source, target, length):\n",
    "    \"\"\"Compute the number of paths of a given length between a source and target node.\n",
    "    \n",
    "    Parameters\n",
    "    ----------\n",
    "    adjacency: numpy array\n",
    "        The (weighted) adjacency matrix of a graph.\n",
    "    source: int\n",
    "        The source node. A number between 0 and n_nodes-1.\n",
    "    target: int\n",
    "        The target node. A number between 0 and n_nodes-1.\n",
    "    length: int\n",
    "        The path length to be considered.\n",
    "    \n",
    "    Returns\n",
    "    -------\n",
    "    int\n",
    "        The number of paths.\n",
    "    \"\"\"\n",
    "    \n",
    "    # m is a binary matrix with the same shape as adjacency\n",
    "    # Its values are 1 when the adjacency values are > 0.00000001\n",
    "    # and 0 else\n",
    "    m = np.where(adjacency > adjacency[np.nonzero(adjacency)].min(), 1, 0)\n",
    "    \n",
    "    # We raise the m matrix to the power length\n",
    "    # We then take the value of the resulting matrix at row = source_node\n",
    "    # and column = target_node. This gives us the number of paths between\n",
    "    # the 2 nodes that have a certain length\n",
    "    n_paths = np.linalg.matrix_power(m,length)[source,target]\n",
    "    \n",
    "    return n_paths"
   ]
  },
  {
   "cell_type": "markdown",
   "metadata": {},
   "source": [
    "Test your function on 5 pairs of nodes, with different lengths."
   ]
  },
  {
   "cell_type": "code",
   "execution_count": 42,
   "metadata": {},
   "outputs": [
    {
     "name": "stdout",
     "output_type": "stream",
     "text": [
      "0\n",
      "52\n",
      "18713\n",
      "34\n",
      "12231272\n"
     ]
    }
   ],
   "source": [
    "print(compute_paths(adjacency, 0, 10, 1))\n",
    "print(compute_paths(adjacency, 0, 10, 2))\n",
    "print(compute_paths(adjacency, 0, 10, 3))\n",
    "print(compute_paths(adjacency, 23, 67, 2))\n",
    "print(compute_paths(adjacency, 15, 93, 4))"
   ]
  },
  {
   "cell_type": "markdown",
   "metadata": {},
   "source": [
    "**Explanation**\n",
    "\n",
    "Since in this course, a path is defined as being able to use one edge several times and it can include loops, we can use the power of the adjacency matrix to compute the number of paths of length l going from a start node to an end node.\n",
    "\n",
    "Indeed, for a directed graph, raising the adjacency matrix to the power l and looking for the value of the resulting matrix at [start, end] will give us the number of paths (M. NEWMAN: Networks: An Introduction (Page 137, Eq: 6.31)). However, for an undirected graph this will give us the number of walks.\n",
    "\n",
    "A walk is defined as a way of going from start to end by taking any possible path (including loops and repeating edges). The definition of walk corresponds to our definition of path. We can then use this method for undirected graphs within this course. \n",
    "\n",
    "Since we only care about the path and not the cost of the path, we use a binary matrix to compute the number of paths."
   ]
  },
  {
   "cell_type": "markdown",
   "metadata": {},
   "source": [
    "### Question 12\n",
    "\n",
    "How many paths of length 3 are there in your graph? Hint: calling the `compute_paths` function on every pair of node is not an efficient way to do it."
   ]
  },
  {
   "cell_type": "code",
   "execution_count": 18,
   "metadata": {},
   "outputs": [],
   "source": [
    "# We first raise our matrix to the power of the length (3)\n",
    "m = np.where(adjacency> adjacency[np.nonzero(adjacency)].min(), 1, 0)\n",
    "m_3 = np.linalg.matrix_power(m,3)"
   ]
  },
  {
   "cell_type": "code",
   "execution_count": 19,
   "metadata": {},
   "outputs": [
    {
     "name": "stdout",
     "output_type": "stream",
     "text": [
      "Symmetry of the adjacency matrix raised to the power of 3: True\n"
     ]
    }
   ],
   "source": [
    "is_sym = np.allclose(m_3, m_3.T)\n",
    "print(\"Symmetry of the adjacency matrix raised to the power of 3: \" + str(is_sym))"
   ]
  },
  {
   "cell_type": "code",
   "execution_count": 20,
   "metadata": {},
   "outputs": [
    {
     "name": "stdout",
     "output_type": "stream",
     "text": [
      "The number of paths of length 3 is: 696554602\n"
     ]
    }
   ],
   "source": [
    "# The matrix is symmetric: this means that for two nodes, \n",
    "# (node1 and node2) there is an equal number of paths between \n",
    "# node1 to node2 and between node2 to node1.\n",
    "# This is not very surprising as our graph is undirected.\n",
    "n_paths_3 = int(m_3.sum()/2)\n",
    "print('The number of paths of length 3 is: ' + str(np.sum(n_paths_3)))"
   ]
  },
  {
   "cell_type": "markdown",
   "metadata": {},
   "source": [
    "### Question 13\n",
    "\n",
    "Write a function that takes as input the adjacency matrix of your graph (or of the largest connected component of your graph) and a node and returns the clustering coefficient of that node. "
   ]
  },
  {
   "cell_type": "code",
   "execution_count": 48,
   "metadata": {},
   "outputs": [],
   "source": [
    "def compute_clustering_coefficient(adjacency, node):\n",
    "    \"\"\"Compute the clustering coefficient of a node.\n",
    "    \n",
    "    Parameters\n",
    "    ----------\n",
    "    adjacency: numpy array\n",
    "        The (weighted) adjacency matrix of a graph.\n",
    "    node: int\n",
    "        The node whose clustering coefficient will be computed. A number between 0 and n_nodes-1.\n",
    "    \n",
    "    Returns\n",
    "    -------\n",
    "    float\n",
    "        The clustering coefficient of the node. A number between 0 and 1.\n",
    "    \"\"\"\n",
    "    \n",
    "    # Neighbords of the given node\n",
    "    N = np.nonzero(adjacency[node]) \n",
    "    k = np.size(N)\n",
    "    # N_links will represent the number of edges between the neighbors\n",
    "    N_links = 0\n",
    "    \n",
    "    for nod in N[0]:\n",
    "        # np.in1d allows us to find the intersection between the nodes in the list \n",
    "        # of neighbors and the neighbors of each neighbor to find the number of \n",
    "        # links between the neighbors of our node of interest \n",
    "        N_links = N_links + np.sum(np.in1d(np.nonzero(adjacency[nod]),N,assume_unique=True))\n",
    "    \n",
    "    # Here the number of links needs to be divided by 2 because if we're looking at \n",
    "    # node A for example, and see that it has a connexion with node B, \n",
    "    # this connexion will be also taken into account when we will be looking at B\n",
    "    N_links = N_links/2 \n",
    "    \n",
    "    # These cases are forbidden as they lead to dividing by 0\n",
    "    if (k != 0)&(k != 1):\n",
    "        clustering_coefficient = 2*N_links/(k*(k-1))\n",
    "    else:\n",
    "        clustering_coefficient = 0\n",
    "    \n",
    "    return clustering_coefficient"
   ]
  },
  {
   "cell_type": "markdown",
   "metadata": {},
   "source": [
    "### Question 14\n",
    "\n",
    "What is the average clustering coefficient of your graph (or of the largest connected component of your graph if your graph is disconnected)? Use the function ``compute_clustering_coefficient`` to determine your answer."
   ]
  },
  {
   "cell_type": "code",
   "execution_count": 49,
   "metadata": {},
   "outputs": [
    {
     "name": "stdout",
     "output_type": "stream",
     "text": [
      "The average clustering coefficient of our graph is: 0.23033859442115653\n"
     ]
    }
   ],
   "source": [
    "#Here the weighted adjacency matrix was the one used\n",
    "clustering_coef_all = np.zeros((np.size(adjacency,0)))\n",
    "\n",
    "# Compute clustering coefficient for each node\n",
    "for i in range(len(clustering_coef_all)):\n",
    "    clustering_coef_all[i] = compute_clustering_coefficient(adjacency,i)\n",
    "\n",
    "avg_cc = np.mean(clustering_coef_all)\n",
    "print('The average clustering coefficient of our graph is:', avg_cc)"
   ]
  }
 ],
 "metadata": {
  "kernelspec": {
   "display_name": "Python 3",
   "language": "python",
   "name": "python3"
  },
  "language_info": {
   "codemirror_mode": {
    "name": "ipython",
    "version": 3
   },
   "file_extension": ".py",
   "mimetype": "text/x-python",
   "name": "python",
   "nbconvert_exporter": "python",
   "pygments_lexer": "ipython3",
   "version": "3.7.0"
  }
 },
 "nbformat": 4,
 "nbformat_minor": 2
}
