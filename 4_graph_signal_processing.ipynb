{
 "cells": [
  {
   "cell_type": "markdown",
   "metadata": {},
   "source": [
    "# [NTDS'18] milestone 4: graph signal processing\n",
    "[ntds'18]: https://github.com/mdeff/ntds_2018\n",
    "\n",
    "[Rodrigo Pena](https://people.epfl.ch/254838), [EPFL LTS2](http://lts2.epfl.ch)"
   ]
  },
  {
   "cell_type": "markdown",
   "metadata": {},
   "source": [
    "## Students\n",
    "\n",
    "* Team: `01`\n",
    "* Students: `Yassine Zouaghi, Timothée Bornet dit Vorgeat, Pol Boudou, Icíar Lloréns Jover`\n",
    "* Dataset: `IMDb Films and Crew`"
   ]
  },
  {
   "cell_type": "markdown",
   "metadata": {},
   "source": [
    "## Rules\n",
    "\n",
    "* Milestones have to be completed by teams. No collaboration between teams is allowed.\n",
    "* Textual answers shall be short. Typically one to two sentences.\n",
    "* Code has to be clean.\n",
    "* You cannot import any other library than we imported.\n",
    "* When submitting, the notebook is executed and the results are stored. I.e., if you open the notebook again it should show numerical results and plots. We won't be able to execute your notebooks.\n",
    "* The notebook is re-executed from a blank state before submission. That is to be sure it is reproducible. You can click \"Kernel\" then \"Restart & Run All\" in Jupyter."
   ]
  },
  {
   "cell_type": "markdown",
   "metadata": {},
   "source": [
    "## Objective\n",
    "\n",
    "The goal of this milestone is to do some Graph Signal Processing (GSP) on the data of your project.\n",
    "\n",
    "### A note about plotting\n",
    "\n",
    "There are several questions in this milestone that ask you to plot a signal on your network.\n",
    "There are several ways from which you could approach it.\n",
    "In all cases, compute the position of the nodes a single time at the beginning, as this is likely to be a costly operation.\n",
    "Using a single layout for all the graph plots will also make it easier to compare the plots.\n",
    "Indeed, the only thing changing between plots is the signal displayed.\n",
    "You can represent the features/labels lying on the graph via node **colors**.\n",
    "To do so, make sure to have a consistent color map throughout and remember to display a colorbar and scale in all plots, so that we can tell what numbers the colors represent.\n",
    "\n",
    "* An option is to use the **Laplacian eigenmaps** that you have seen in the previous milestone to embed your graph on the plane. For example:\n",
    "  ```\n",
    "  from matplotlib import pyplot as plt\n",
    "  plt.scatter(eigenvectors[:, 1], eigenvectors[:, 2], c=signal, alpha=0.5)\n",
    "  plt.colorbar()\n",
    "  ```\n",
    "* Another option is to use the plotting capabilities of **[NetworkX](https://networkx.github.io)**.\n",
    "  See the documentation of its [drawing methods](https://networkx.github.io/documentation/stable/reference/drawing.html).\n",
    "  For example:\n",
    "  ```\n",
    "  import networkx as nx\n",
    "  graph = nx.from_scipy_sparse_matrix(adjacency)\n",
    "  coords = nx.spring_layout(graph)  # Force-directed layout.\n",
    "  coords = eigenvectors[:, 1:3]  # Laplacian eigenmaps.\n",
    "  nx.draw_networkx_nodes(graph, coords, node_size=60, node_color=signal)\n",
    "  nx.draw_networkx_edges(graph, coords, alpha=0.3)\n",
    "  ```\n",
    "* Another option is to use the plotting capabilities of the **[PyGSP](https://github.com/epfl-lts2/pygsp)**, a Python package for Graph Signal Processing.\n",
    "  **Note that your are forbidden to use the PyGSP for anything else than plotting.**\n",
    "  See the documentation of its [plotting utilities](https://pygsp.readthedocs.io/en/stable/reference/plotting.html).\n",
    "  For example:\n",
    "  ```\n",
    "  import pygsp as pg\n",
    "  graph = pg.graphs.Graph(adjacency)\n",
    "  graph.set_coordinates('spring')  # Force-directed layout.\n",
    "  graph.set_coordinates(eigenvectors[:, 1:3])  # Laplacian eigenmaps.\n",
    "  graph.plot_signal(signal)\n",
    "  ```\n",
    "* Yet another option is to save your graph on disk, use **[Gephi](https://gephi.org)** externally, to visualize the graph, save the graph with the Gephi coordinates and finally load the nodes coordinates back into the notebook.\n",
    "\n",
    "We encourage you to try all the above methods before making your choice. Then be consistent and use only one throughout the milestone.\n",
    "NetworkX and PyGSP should already be installed in your environement. If that's not the case, install with `conda install networkx pygsp` (after activating the `ntds_2018` environment)."
   ]
  },
  {
   "cell_type": "markdown",
   "metadata": {},
   "source": [
    "## 0 - Load your network"
   ]
  },
  {
   "cell_type": "code",
   "execution_count": 1,
   "metadata": {},
   "outputs": [],
   "source": [
    "%matplotlib inline"
   ]
  },
  {
   "cell_type": "markdown",
   "metadata": {},
   "source": [
    "If you get a `No module named 'pyunlocbox'` error when running the below cell, install the [pyunlocbox](https://github.com/epfl-lts2/pyunlocbox) with `conda install pyunlocbox` (after activating the `ntds_2018` environment)."
   ]
  },
  {
   "cell_type": "code",
   "execution_count": 2,
   "metadata": {},
   "outputs": [],
   "source": [
    "import numpy as np\n",
    "from scipy import sparse\n",
    "import scipy.sparse.linalg\n",
    "from matplotlib import pyplot as plt\n",
    "from pyunlocbox import functions, solvers\n",
    "import pandas as pd\n",
    "\n",
    "import networkx as nx"
   ]
  },
  {
   "cell_type": "markdown",
   "metadata": {},
   "source": [
    "For this milestone, all we will need is a set of features/labels for each of the nodes on the network, as well as the Laplacian, $L,$ and Gradient, $\\nabla_G,$ matrices that you have computed for your network while working on milestone 3.\n",
    "\n",
    "Import those objects in the cell below (or recompute the Laplacian and Gradient from your stored adjacency matrix, if you wish).\n",
    "\n",
    "_Note_: If your features/labels are not floating-point numbers, please convert them. For example, if your data has labels \"cat\" and \"dog\" for nodes that represent cats or dogs, respectively, you may assign the number `1.0` for the label \"cat\" and the number `-1.0` for the label \"dog\".  "
   ]
  },
  {
   "cell_type": "code",
   "execution_count": 3,
   "metadata": {},
   "outputs": [],
   "source": [
    "DATA_PATH = \"DataMS1/\""
   ]
  },
  {
   "cell_type": "markdown",
   "metadata": {},
   "source": [
    "**1. Load the adjacency matrix**"
   ]
  },
  {
   "cell_type": "code",
   "execution_count": 4,
   "metadata": {},
   "outputs": [],
   "source": [
    "biggest_adjacency = np.load(DATA_PATH + 'biggest_adjacency.npy')\n",
    "\n",
    "degree_weighted_imdb = biggest_adjacency.sum(1)\n",
    "D = np.diag(degree_weighted_imdb)"
   ]
  },
  {
   "cell_type": "markdown",
   "metadata": {},
   "source": [
    "**2. Extract the labels**"
   ]
  },
  {
   "cell_type": "code",
   "execution_count": 5,
   "metadata": {},
   "outputs": [],
   "source": [
    "def find_components(adjacency):\n",
    "    \"\"\"Find the connected components of a graph.\n",
    "    \n",
    "    Parameters\n",
    "    ----------\n",
    "    adjacency: numpy array\n",
    "        The (weighted) adjacency matrix of a graph.\n",
    "    \n",
    "    Returns\n",
    "    -------\n",
    "    list of numpy arrays\n",
    "        A list of adjacency matrices, one per connected component.\n",
    "    \"\"\"\n",
    "    \n",
    "    # Convert adjacency matrix into an adjacency list\n",
    "    # This makes it easier to navigate through the nodes\n",
    "    adj_list = []\n",
    "    for i in range(0, len(adjacency)):\n",
    "        adj_list.append(list(np.nonzero(adjacency[i])[0]))\n",
    "        \n",
    "    # Each node will be assigned a label (starting from 1) according \n",
    "    # to which connected component it belongs. If the label is 0, \n",
    "    # it means it has not been visited yet.\n",
    "    nodes = np.zeros(len(adjacency))\n",
    "    # n counts the number of connected components\n",
    "    n = 0\n",
    "    \n",
    "    while (np.count_nonzero(nodes) != len(adjacency)):\n",
    "        n = n+1\n",
    "        # We start from the first node that has not been visited\n",
    "        start = np.where(nodes == 0)[0][0]\n",
    "        queue = []\n",
    "        visited = set()\n",
    "\n",
    "        queue.append(start)\n",
    "        visited.add(start)\n",
    "\n",
    "        while queue:\n",
    "            current = queue.pop(0)\n",
    "            for node in adj_list[current]:\n",
    "                if node not in visited:\n",
    "                    queue.append(node)\n",
    "                    visited.add(node)\n",
    "        \n",
    "        visited = list(visited)\n",
    "        # Visited nodes are assigned their label\n",
    "        nodes[visited] = n\n",
    "        \n",
    "    return nodes"
   ]
  },
  {
   "cell_type": "markdown",
   "metadata": {},
   "source": [
    "Here, we extract the labels from our features. the labels are the genres. However, since our graph is not connected and we are only taking the nodes from the biggest connected component, we need to find out which nodes belong to that component so as to take only the labels assigned to them. "
   ]
  },
  {
   "cell_type": "code",
   "execution_count": 6,
   "metadata": {},
   "outputs": [
    {
     "data": {
      "text/html": [
       "<div>\n",
       "<style scoped>\n",
       "    .dataframe tbody tr th:only-of-type {\n",
       "        vertical-align: middle;\n",
       "    }\n",
       "\n",
       "    .dataframe tbody tr th {\n",
       "        vertical-align: top;\n",
       "    }\n",
       "\n",
       "    .dataframe thead th {\n",
       "        text-align: right;\n",
       "    }\n",
       "</style>\n",
       "<table border=\"1\" class=\"dataframe\">\n",
       "  <thead>\n",
       "    <tr style=\"text-align: right;\">\n",
       "      <th></th>\n",
       "      <th>genres</th>\n",
       "    </tr>\n",
       "  </thead>\n",
       "  <tbody>\n",
       "    <tr>\n",
       "      <th>0</th>\n",
       "      <td>Action, Adventure, Fantasy, Science Fiction</td>\n",
       "    </tr>\n",
       "    <tr>\n",
       "      <th>1</th>\n",
       "      <td>Adventure, Fantasy, Action</td>\n",
       "    </tr>\n",
       "    <tr>\n",
       "      <th>2</th>\n",
       "      <td>Action, Adventure, Crime</td>\n",
       "    </tr>\n",
       "    <tr>\n",
       "      <th>3</th>\n",
       "      <td>Action, Crime, Drama, Thriller</td>\n",
       "    </tr>\n",
       "    <tr>\n",
       "      <th>4</th>\n",
       "      <td>Action, Adventure, Science Fiction</td>\n",
       "    </tr>\n",
       "  </tbody>\n",
       "</table>\n",
       "</div>"
      ],
      "text/plain": [
       "                                        genres\n",
       "0  Action, Adventure, Fantasy, Science Fiction\n",
       "1                   Adventure, Fantasy, Action\n",
       "2                     Action, Adventure, Crime\n",
       "3               Action, Crime, Drama, Thriller\n",
       "4           Action, Adventure, Science Fiction"
      ]
     },
     "execution_count": 6,
     "metadata": {},
     "output_type": "execute_result"
    }
   ],
   "source": [
    "adjacency =  np.load(DATA_PATH + 'adjacency.npy')\n",
    "features = pd.read_csv(DATA_PATH + 'features.csv').drop(columns=['Unnamed: 0', 'Unnamed: 0.1'])\n",
    "\n",
    "# Find the nodes from the biggest connected component and select the features assigned to those nodes\n",
    "nodes = find_components(adjacency)\n",
    "idx = [i for i in range(len(nodes)) if nodes[i] == 1]\n",
    "features = features.iloc[idx]\n",
    "\n",
    "# Each node's labels is initially the list of genres associated to it. When the genre is empty for a \n",
    "# node, we set it to Other.\n",
    "genres = features.genres\n",
    "labels = genres.apply(lambda x: list(pd.read_json(x, dtype=False).name) if x != '[]' else ['Other'])\n",
    "labels = labels.apply(lambda x: \", \".join(x))\n",
    "\n",
    "# Finally, we create a dataframe \n",
    "labels_df = pd.DataFrame(labels.reset_index(drop=True))\n",
    "labels_df.head()"
   ]
  },
  {
   "cell_type": "markdown",
   "metadata": {},
   "source": [
    "Now that we have a dataframe with each node index containing a list of genres, we use a one hot encoding to transform the labels."
   ]
  },
  {
   "cell_type": "code",
   "execution_count": 7,
   "metadata": {},
   "outputs": [],
   "source": [
    "from sklearn.feature_extraction.text import CountVectorizer\n",
    "def getCatFeatures(df, Col):\n",
    "    vectorizer = CountVectorizer(binary=True,\n",
    "                                 ngram_range=(1,1),\n",
    "                                 tokenizer=lambda x:[a.strip() for a in x.split(',')])\n",
    "    return (vectorizer.fit_transform(df[Col]), vectorizer.vocabulary_)\n",
    "Sparse_labels, vocab_labels = getCatFeatures(labels_df,'genres')"
   ]
  },
  {
   "cell_type": "markdown",
   "metadata": {
    "scrolled": true
   },
   "source": [
    "Finally, we need a binary label signal. We achieve this by taking only one genre. This way, if a movie belongs to the genre, its label is 1, otherwise its label is 0. We decided to use 'Action' as a determining genre."
   ]
  },
  {
   "cell_type": "code",
   "execution_count": 8,
   "metadata": {},
   "outputs": [],
   "source": [
    "labels_oh = pd.SparseDataFrame([pd.SparseSeries(Sparse_labels[i].toarray().ravel()) for i in np.arange(Sparse_labels.shape[0])],\n",
    "                               columns = sorted(list(vocab_labels)))\n",
    "label_signal = np.array(labels_oh.action)"
   ]
  },
  {
   "cell_type": "markdown",
   "metadata": {},
   "source": [
    "**3. Number of nodes and laplacian**"
   ]
  },
  {
   "cell_type": "code",
   "execution_count": 9,
   "metadata": {},
   "outputs": [],
   "source": [
    "n_nodes =  len(biggest_adjacency)\n",
    "laplacian = sparse.csgraph.laplacian(biggest_adjacency)"
   ]
  },
  {
   "cell_type": "markdown",
   "metadata": {},
   "source": [
    "**4. Gradient**\n",
    "\n",
    "We have used a combinatorial Laplacian. In order to compute the Gradient matrix, we cannot use the incidence matrix anymore because our graph is weighted. Given the number of nodes $N$ and the number of edges $E$, \n",
    "\n",
    "- for each edge the gradient is $\\nabla f [i,j] = \\sqrt{w_{ij}}(f(j)-f(i))$.\n",
    "- the gradient matrix is of size $E\\times N$."
   ]
  },
  {
   "cell_type": "code",
   "execution_count": 10,
   "metadata": {},
   "outputs": [],
   "source": [
    "N = n_nodes  # number of nodes\n",
    "E = np.sum(biggest_adjacency > 0)  # number of edges (non-zero entries of A)\n",
    "gradient = np.zeros((E, N))\n",
    "eij = 0  # edge index\n",
    "for i in range(N):\n",
    "    for j in range(N):\n",
    "        wij = biggest_adjacency[i, j]\n",
    "        if wij > 0:\n",
    "            gradient[eij, i] = - np.sqrt(wij) \n",
    "            gradient[eij, j] = np.sqrt(wij)\n",
    "            eij = eij + 1  # increment the edge index"
   ]
  },
  {
   "cell_type": "code",
   "execution_count": 11,
   "metadata": {
    "scrolled": true
   },
   "outputs": [
    {
     "name": "stdout",
     "output_type": "stream",
     "text": [
      "Number of edges: 310938, number of nodes: 4615 \n",
      "Gradient shape: (310938, 4615)\n"
     ]
    }
   ],
   "source": [
    "print(\"Number of edges: {}, number of nodes: {} \\nGradient shape: {}\".format(E, N, gradient.shape))"
   ]
  },
  {
   "cell_type": "markdown",
   "metadata": {},
   "source": [
    "Convert our gradient to a sparse matrix."
   ]
  },
  {
   "cell_type": "code",
   "execution_count": 12,
   "metadata": {},
   "outputs": [],
   "source": [
    "gradient_ = sparse.csr_matrix(gradient)"
   ]
  },
  {
   "cell_type": "markdown",
   "metadata": {},
   "source": [
    "## 1 - Graph Fourier Transform\n",
    "\n",
    "In this section we will observe how your feature/label vector looks like in the \"Graph Fourier\" domain."
   ]
  },
  {
   "cell_type": "markdown",
   "metadata": {
    "inputHidden": false,
    "outputHidden": false
   },
   "source": [
    "### Question 1\n",
    "\n",
    "Compute the Fourier basis vectors and the Laplacian eigenvalues. Make sure to order those from smaller to larger, $\\lambda_0 \\leq \\lambda_1 \\leq \\dots \\leq \\lambda_{N-1},$ and use the same ordering for the Fourier basis vectors."
   ]
  },
  {
   "cell_type": "code",
   "execution_count": 13,
   "metadata": {
    "inputHidden": false,
    "outputHidden": false
   },
   "outputs": [],
   "source": [
    "# We compute ordered eigenvalues e and graph Fourier basis U with eigh\n",
    "e , U = scipy.linalg.eigh(laplacian)"
   ]
  },
  {
   "cell_type": "markdown",
   "metadata": {},
   "source": [
    "Plot the first 3 and the last Fourier basis vectors as signals on your graph. Clearly indicate which plot belongs to which basis vector."
   ]
  },
  {
   "cell_type": "code",
   "execution_count": 14,
   "metadata": {},
   "outputs": [],
   "source": [
    "_, eigenvectors = scipy.sparse.linalg.eigs(laplacian, k=4, which = 'SR')\n",
    "eigenvectors = np.real(eigenvectors)"
   ]
  },
  {
   "cell_type": "code",
   "execution_count": 15,
   "metadata": {
    "inputHidden": false,
    "outputHidden": false
   },
   "outputs": [],
   "source": [
    "# Graph creation\n",
    "graph = nx.from_scipy_sparse_matrix(sparse.csr_matrix(biggest_adjacency))\n",
    "coords = nx.spring_layout(graph)  # Force-directed layout.\n",
    "coords = eigenvectors[:,[1,3]]  # Laplacian eigenmaps."
   ]
  },
  {
   "cell_type": "code",
   "execution_count": 39,
   "metadata": {},
   "outputs": [
    {
     "data": {
      "image/png": "[encoded data removed]",
      "text/plain": [
       "<Figure size 720x504 with 2 Axes>"
      ]
     },
     "metadata": {
      "needs_background": "light"
     },
     "output_type": "display_data"
    }
   ],
   "source": [
    "plt.figure(figsize = (10,7))\n",
    "nodes = nx.draw_networkx_nodes(graph, coords, node_size=60, node_color=U[:,0])\n",
    "nx.draw_networkx_edges(graph, coords, alpha=0.3)\n",
    "plt.title(\"First Fourier basis vector as a signal on our graph\", y=1.08)\n",
    "plt.xlabel(\"Second eigenvector\")\n",
    "plt.ylabel(\"Fourth eigenvector\")\n",
    "plt.colorbar(nodes)\n",
    "plt.show()"
   ]
  },
  {
   "cell_type": "code",
   "execution_count": 40,
   "metadata": {},
   "outputs": [
    {
     "data": {
      "image/png": "[encoded data removed]",
      "text/plain": [
       "<Figure size 720x504 with 2 Axes>"
      ]
     },
     "metadata": {
      "needs_background": "light"
     },
     "output_type": "display_data"
    }
   ],
   "source": [
    "plt.figure(figsize = (10,7))\n",
    "nodes = nx.draw_networkx_nodes(graph, coords, node_size=60, node_color=U[:,1])\n",
    "nx.draw_networkx_edges(graph, coords, alpha=0.3)\n",
    "plt.title(\"Second Fourier basis vector as a signal on our graph\", y=1.08)\n",
    "plt.xlabel(\"Second eigenvector\")\n",
    "plt.ylabel(\"Fourth eigenvector\")\n",
    "plt.colorbar(nodes)\n",
    "plt.show()"
   ]
  },
  {
   "cell_type": "code",
   "execution_count": 41,
   "metadata": {},
   "outputs": [
    {
     "data": {
      "image/png": "[encoded data removed]",
      "text/plain": [
       "<Figure size 720x504 with 2 Axes>"
      ]
     },
     "metadata": {
      "needs_background": "light"
     },
     "output_type": "display_data"
    }
   ],
   "source": [
    "plt.figure(figsize = (10,7))\n",
    "nodes = nx.draw_networkx_nodes(graph, coords, node_size=60, node_color=U[:,2])\n",
    "nx.draw_networkx_edges(graph, coords, alpha=0.3)\n",
    "plt.title(\"Third Fourier basis vector as a signal on our graph\", y=1.08)\n",
    "plt.xlabel(\"Second eigenvector\")\n",
    "plt.ylabel(\"Fourth eigenvector\")\n",
    "plt.colorbar(nodes)\n",
    "plt.show()"
   ]
  },
  {
   "cell_type": "code",
   "execution_count": 42,
   "metadata": {},
   "outputs": [
    {
     "data": {
      "image/png": "[encoded data removed]",
      "text/plain": [
       "<Figure size 720x504 with 2 Axes>"
      ]
     },
     "metadata": {
      "needs_background": "light"
     },
     "output_type": "display_data"
    }
   ],
   "source": [
    "plt.figure(figsize = (10,7))\n",
    "nodes = nx.draw_networkx_nodes(graph, coords, node_size=60, node_color=U[:,-1])\n",
    "nx.draw_networkx_edges(graph, coords, alpha=0.3)\n",
    "plt.title(\"Last Fourier basis vector as a signal on our graph\", y=1.08)\n",
    "plt.xlabel(\"Second eigenvector\")\n",
    "plt.ylabel(\"Fourth eigenvector\")\n",
    "plt.colorbar(nodes)\n",
    "plt.show()"
   ]
  },
  {
   "cell_type": "markdown",
   "metadata": {},
   "source": [
    "### Question 2\n",
    "\n",
    "What can you observe in terms of local variations when comparing the basis vectors corresponding to the smallest eigenvalues to those corresponding to the largest eigenvalue? How would this justify the interpretation of the eigenvalues as \"graph frequencies\"?"
   ]
  },
  {
   "cell_type": "markdown",
   "metadata": {},
   "source": [
    "**Your answer here.**\n",
    "\n",
    "# À répondre"
   ]
  },
  {
   "cell_type": "markdown",
   "metadata": {},
   "source": [
    "### Question 3\n",
    "\n",
    "Implement a function that returns the Graph Fourier Transform (GFT) of a given vector $x \\in \\mathbb{R}^{N},$ with respect to your graph, and a function that computes the corresponding inverse GFT (iGFT)."
   ]
  },
  {
   "cell_type": "code",
   "execution_count": 43,
   "metadata": {
    "inputHidden": false,
    "outputHidden": false
   },
   "outputs": [],
   "source": [
    "def GFT(x):\n",
    "    return np.matmul(U.T, x);\n",
    "\n",
    "def iGFT(x):\n",
    "    return np.matmul(U, x);"
   ]
  },
  {
   "cell_type": "markdown",
   "metadata": {},
   "source": [
    "### Question 4\n",
    "\n",
    "Plot your feature/label vector as a signal on your graph"
   ]
  },
  {
   "cell_type": "code",
   "execution_count": 44,
   "metadata": {
    "inputHidden": false,
    "outputHidden": false
   },
   "outputs": [
    {
     "data": {
      "image/png": "[encoded data removed]",
      "text/plain": [
       "<Figure size 720x504 with 2 Axes>"
      ]
     },
     "metadata": {
      "needs_background": "light"
     },
     "output_type": "display_data"
    }
   ],
   "source": [
    "plt.figure(figsize = (10,7))\n",
    "nodes = nx.draw_networkx_nodes(graph, coords, node_size=60, node_color=label_signal)\n",
    "nx.draw_networkx_edges(graph, coords, alpha=0.3)\n",
    "plt.title(\"First Fourier basis vector as a signal on our graph\", y=1.08)\n",
    "plt.xlabel(\"Second eigenvector\")\n",
    "plt.ylabel(\"Fourth eigenvector\")\n",
    "plt.colorbar(nodes)\n",
    "plt.show()"
   ]
  },
  {
   "cell_type": "markdown",
   "metadata": {},
   "source": [
    "Plot the absolute values of the GFT of your feature/label signal as a function of the graph eigenvalues. Make sure to add a marker indicating the position of each graph eigenvalue, and remember to properly name the axes."
   ]
  },
  {
   "cell_type": "code",
   "execution_count": 45,
   "metadata": {
    "inputHidden": false,
    "outputHidden": false
   },
   "outputs": [
    {
     "data": {
      "image/png": "[encoded data removed]",
      "text/plain": [
       "<Figure size 432x288 with 1 Axes>"
      ]
     },
     "metadata": {
      "needs_background": "light"
     },
     "output_type": "display_data"
    }
   ],
   "source": [
    "# Your code here.\n",
    "absolute_GFT_labels = np.abs(GFT(label_signal))\n",
    "plt.stem(e, absolute_GFT_labels)\n",
    "plt.title(\"Absolute GFT of labels' vector\")\n",
    "plt.xlabel(\"Eigenvalues\")\n",
    "plt.ylabel(\"Signal Value\")\n",
    "plt.show()"
   ]
  },
  {
   "cell_type": "code",
   "execution_count": 46,
   "metadata": {},
   "outputs": [
    {
     "data": {
      "image/png": "[encoded data removed]",
      "text/plain": [
       "<Figure size 432x288 with 1 Axes>"
      ]
     },
     "metadata": {
      "needs_background": "light"
     },
     "output_type": "display_data"
    }
   ],
   "source": [
    "plt.scatter(e, absolute_GFT_labels,c=absolute_GFT_labels, alpha=0.5)\n",
    "plt.title(\"Absolute GFT of labels' vector\")\n",
    "plt.xlabel(\"Eigenvalues\")\n",
    "plt.ylabel(\"Signal Value\")\n",
    "plt.show()"
   ]
  },
  {
   "cell_type": "markdown",
   "metadata": {},
   "source": [
    "### Question 5\n",
    "\n",
    "Discuss the behavior of the GFT that you plotted in the last question via comparing the plot of your label signal and those of the Fourier basis of Question 1. Would you consider your labels a \"low-pass\" or \"high-pass\" signal, or yet something else entirely?"
   ]
  },
  {
   "cell_type": "markdown",
   "metadata": {},
   "source": [
    "**Your answer here.**"
   ]
  },
  {
   "cell_type": "markdown",
   "metadata": {},
   "source": [
    "The GFT of our label signal looks like a light low-pass filter since all the information we see is the sum of all expected values."
   ]
  },
  {
   "cell_type": "markdown",
   "metadata": {
    "code_folding": []
   },
   "source": [
    "## 2 - Filtering on graphs\n",
    "\n",
    "In this section we will check how filtered Dirac impulses diffuse on your graph."
   ]
  },
  {
   "cell_type": "markdown",
   "metadata": {
    "inputHidden": false,
    "outputHidden": false
   },
   "source": [
    "### Question 6 \n",
    "\n",
    "Implement the following three filter kernels and the graph filtering operation.\n",
    "\n",
    "- The **heat kernel** is supposed to take in a vector of eigenvalues `e` and a parameter `t` and output a vector of evaluations of the heat kernel at those eigenvalues (see the course slides for help).\n",
    "- The **inverse filter** kernel is supposed to take in a vector of eigenvalues `e` and a parameter `t` and implement spectrally the  filter defined in the node domain by $f_{out}  = (I + t L)^{-1} f_{in},$ where $f_{in}, f_{out} \\in \\mathbb{R}^{N}$ are, repectively, the input and output signals to the filter.\n",
    "- The **rectangle kernel** takes in a vector of eigenvalues `e` and parameters `l_min` and `l_max` and returns `1.0` at coordinates satisfying $(e[l] \\geq l_{min}) \\wedge (e[l] \\leq l_{max}),$ and `0.0` otherwise.\n",
    "- The **graph filtering** operation takes a graph signal $x \\in \\mathbb{R}^{N}$, a spectral graph `kernel` and a set of keyworded variables, and returns the corresponding filtered signal.\n",
    "    - _Hint:_ Remember that you have implemented the `GFT` and `iGFT` operations in Question 3.\n",
    "    - The `**kwargs` is a placeholder to collect supplementary pairs of keyword-values that are not known by the implementation before execution time.\n",
    "      The `kwargs` variable is a dictionary whose keyes and values are the parameter names and values.\n",
    "      This is useful to allow both `graph_filter(x, heat_kernel, tau=1.0)` and `graph_filter(x, rectangle_kernel, lambda_min=0.0, lambda_max=1.0)` to be valid calls from the same implementation.\n",
    "      One can then defer the keyword-value assignment to the `kernel` call: `foo = kernel(bar, **kwargs)`."
   ]
  },
  {
   "cell_type": "code",
   "execution_count": 58,
   "metadata": {
    "inputHidden": false,
    "outputHidden": false
   },
   "outputs": [],
   "source": [
    "def heat_kernel(eig, tau):\n",
    "    return np.diag(np.exp(eig * tau))\n",
    "\n",
    "def inverse_kernel(eig, tau):  \n",
    "    return np.diag(np.ones(eig.shape) - tau * eig)\n",
    "\n",
    "def rectangle_kernel(eig, l_min, l_max):\n",
    "    rect = eig.copy()\n",
    "    rect[np.where(rect > l_max)] = 0\n",
    "    rect[np.where(rect < l_min)] = 0\n",
    "    rect[rect > 0] = 1\n",
    "    return np.diag(rect)\n",
    "\n",
    "def graph_filter(x, kernel, **kwargs):\n",
    "    GFT_x = GFT(x)\n",
    "    filtered_x = np.matmul(kernel(GFT_x.copy(), **kwargs),GFT_x) #attention element wise\n",
    "    return iGFT(filtered_x)"
   ]
  },
  {
   "cell_type": "markdown",
   "metadata": {},
   "source": [
    "### Question 7\n",
    "\n",
    "Plot all three filter kernels in the spectral domain. Remember to properly name the axes and title the plots. Choose filter parameters that best approximate the behavior of the GFT of your feature/label signal (as seen in Question 4)."
   ]
  },
  {
   "cell_type": "markdown",
   "metadata": {},
   "source": [
    "# À répondre (à vérifier)"
   ]
  },
  {
   "cell_type": "code",
   "execution_count": 59,
   "metadata": {},
   "outputs": [
    {
     "data": {
      "image/png": "[encoded data removed]",
      "text/plain": [
       "<Figure size 1080x288 with 3 Axes>"
      ]
     },
     "metadata": {
      "needs_background": "light"
     },
     "output_type": "display_data"
    }
   ],
   "source": [
    "f, (ax1, ax2, ax3) = plt.subplots(1, 3, figsize=(15, 4))\n",
    "f.suptitle(\"Kernels in the spectral domain of our graph\", y=1.08, fontweight=\"bold\")\n",
    "\n",
    "ax1.stem(e,graph_filter(e, heat_kernel, tau=0.5))\n",
    "ax1.set_title(\"Heat kernel in the spectral domain\")\n",
    "ax1.set_xlabel(\"Eigenvalues\")\n",
    "ax1.set_ylabel(\"Kernel\")\n",
    "\n",
    "ax2.stem(e,graph_filter(e, inverse_kernel, tau=1))\n",
    "ax2.set_title(\"Inverse kernel in the spectral domain\")\n",
    "ax2.set_xlabel(\"Eigenvalues\")\n",
    "ax2.set_ylabel(\"Kernel\")\n",
    "\n",
    "ax3.stem(e,graph_filter(e, rectangle_kernel, l_min=0, l_max=1))\n",
    "ax3.set_title(\"Rectangle kernel in the spectral domain\")\n",
    "ax3.set_xlabel(\"Eigenvalues\")\n",
    "ax3.set_ylabel(\"Kernel\")\n",
    "\n",
    "plt.show()"
   ]
  },
  {
   "cell_type": "markdown",
   "metadata": {},
   "source": [
    "### Question 8\n",
    "\n",
    "Consider two Dirac impulses arbitrarily placed on your graph. Plot their filtered versions by the three filter kernels implemented in Question 6."
   ]
  },
  {
   "cell_type": "code",
   "execution_count": 43,
   "metadata": {},
   "outputs": [],
   "source": [
    "def get_random_dirac_vect(label, seed=None):# on remplace eig par labels\n",
    "    if seed is not None:\n",
    "        np.random.seed(seed)\n",
    "        \n",
    "    index = np.random.choice(range(0,len(label)))\n",
    "    \n",
    "    vect = np.zeros(len(label))\n",
    "    vect[index] = label[index] # On a mis eig avant on sait pas si le dirac est dans le domaine des nodes ou spectral\n",
    "    return vect"
   ]
  },
  {
   "cell_type": "code",
   "execution_count": 44,
   "metadata": {},
   "outputs": [],
   "source": [
    "dirac_1 = get_random_dirac_vect(label_signal, 1)\n",
    "dirac_2 = get_random_dirac_vect(label_signal, 2)"
   ]
  },
  {
   "cell_type": "markdown",
   "metadata": {},
   "source": [
    "# En dessous c'est faux il faut plotter en graph et non en spectral\n",
    "# À répondre"
   ]
  },
  {
   "cell_type": "code",
   "execution_count": null,
   "metadata": {},
   "outputs": [],
   "source": [
    "f, ((ax1, ax2, ax3), (ax4, ax5, ax6)) = plt.subplots(2, 3, figsize=(15, 10))\n",
    "f.suptitle(\"Dirac Impulses filtered by different kernels\", y=1.08, fontweight=\"bold\")\n",
    "\n",
    "ax1.stem(e,graph_filter(dirac_1, heat_kernel, tau=-0.00075)) # on ne sait pas comment appliquer le kernels AH si on doit utiliser Graph filter\n",
    "ax1.set_title(\"Heat kernel for the first Impulse\")\n",
    "ax1.set_xlabel(\"Eigenvalues\")\n",
    "ax1.set_ylabel(\"\")\n",
    "\n",
    "ax2.stem(e,graph_filter(dirac_1, inverse_kernel, tau=0.0005))\n",
    "ax2.set_title(\"Inverse kernel for the first Impulse\")\n",
    "ax2.set_xlabel(\"Eigenvalues\")\n",
    "ax2.set_ylabel(\"\")\n",
    "\n",
    "ax3.stem(e,graph_filter(dirac_1, rectangle_kernel, l_min=0, l_max=1000))\n",
    "ax3.set_title(\"Rectangle kernel for the first Impulse\")\n",
    "ax3.set_xlabel(\"Eigenvalues\")\n",
    "ax3.set_ylabel(\"\")\n",
    "\n",
    "ax4.stem(e,graph_filter(dirac_2, heat_kernel, tau=-0.00075))\n",
    "ax4.set_title(\"Heat kernel for the second Impulse\")\n",
    "ax4.set_xlabel(\"Eigenvalues\")\n",
    "ax4.set_ylabel(\"\")\n",
    "\n",
    "ax5.stem(e,graph_filter(dirac_2, inverse_kernel, tau=0.0005))\n",
    "ax5.set_title(\"Inverse kernel for the second Impulse\")\n",
    "ax5.set_xlabel(\"Eigenvalues\")\n",
    "ax5.set_ylabel(\"\")\n",
    "\n",
    "ax6.stem(e,graph_filter(dirac_2, rectangle_kernel, l_min=0, l_max=1000))\n",
    "ax6.set_title(\"Rectangle kernel for the second Impulse\")\n",
    "ax6.set_xlabel(\"Eigenvalues\")\n",
    "ax6.set_ylabel(\"\")\n",
    "\n",
    "plt.show()"
   ]
  },
  {
   "cell_type": "markdown",
   "metadata": {},
   "source": [
    "Comment on the \"diffusion\" of the Diracs induced by the filters. What does it say about the \"communication\" of information across your network? Relate that to the network connectivity measures that you analyzed during the previous milestones."
   ]
  },
  {
   "cell_type": "markdown",
   "metadata": {
    "inputHidden": false,
    "outputHidden": false
   },
   "source": [
    "**Your answer here.**\n",
    "\n",
    "# À répondre"
   ]
  },
  {
   "cell_type": "markdown",
   "metadata": {},
   "source": [
    "## 3 - De-noising\n",
    "\n",
    "In this section we will add some centered Gaussian noise to your feature/label signal and attempt to recover it."
   ]
  },
  {
   "cell_type": "markdown",
   "metadata": {},
   "source": [
    "### Question 9\n",
    "\n",
    "In the cell below, set the noise variance $\\sigma^2$ by making sure that the signal-to-noise ratio $SNR = \\frac{\\operatorname{Var}(\\text{labels})}{\\sigma^2}$ is about  $1.5$.\n",
    "\n",
    "_Note:_ Actually, you might want to play with the noise variance here and set it to different values and see how the denoising filters behave."
   ]
  },
  {
   "cell_type": "code",
   "execution_count": null,
   "metadata": {
    "inputHidden": false,
    "outputHidden": false
   },
   "outputs": [],
   "source": [
    "labels_variance = np.var(labels)\n",
    "noise_variance = labels_variance / 1.5\n",
    "noisy_measurements = labels + noise_variance * np.random.randn(new_n_nodes)"
   ]
  },
  {
   "cell_type": "markdown",
   "metadata": {},
   "source": [
    "### Question 10\n",
    "\n",
    "In the denoising setting, a common graph signal processing assumption is that the signal $z$ that we want to recover is \"smooth\", in the sense that $\\|\\nabla_G z\\|_2 = \\sqrt{z^{\\top} L z}$ is small, while remaining \"close\" to the measurements that we start with. This leads to denoising by solving the following optimization problem:\n",
    "\n",
    "$$\n",
    "z^\\star = \\text{arg} \\, \\underset{z \\in \\mathbb{R}^{N}}{\\min} \\, \\|z - y\\|_2^2 + \\gamma z^{\\top} L z, \n",
    "$$\n",
    "\n",
    "where $y \\in \\mathbb{R}^{N}$ is the vector of noisy measurements.\n",
    "\n",
    "Derive the close form solution to this problem giving $z^\\star$ as a function of $y$, $\\gamma$ and $L$. Does this solution correspond to any graph filtering operation that you know?"
   ]
  },
  {
   "cell_type": "markdown",
   "metadata": {},
   "source": [
    "**Your answer here.**"
   ]
  },
  {
   "cell_type": "markdown",
   "metadata": {},
   "source": [
    "$z^\\star = (I+\\gamma L)^{-1}\\cdot y$"
   ]
  },
  {
   "cell_type": "markdown",
   "metadata": {},
   "source": [
    "It looks like the inverse kernel.\n",
    "\n",
    "# À répondre (à développer)"
   ]
  },
  {
   "cell_type": "markdown",
   "metadata": {},
   "source": [
    "### Question 11\n",
    "\n",
    "Now, denoise the noisy measurements by passing them through the filters that you implemented in Question 6. Choose the filter parameters based on the behavior of the GFT of your original label signal (this is the prior knowledge that you input to the problem)."
   ]
  },
  {
   "cell_type": "code",
   "execution_count": null,
   "metadata": {
    "inputHidden": false,
    "outputHidden": false
   },
   "outputs": [],
   "source": [
    "z_heat_denoised = graph_filter(noisy_measurements, heat_kernel, tau=-0.00075)\n",
    "z_inv_denoised = graph_filter(noisy_measurements, inverse_kernel, tau=0.0001)\n",
    "z_rect_denoised = graph_filter(noisy_measurements, rectangle_kernel, l_min=0, l_max=1000)"
   ]
  },
  {
   "cell_type": "markdown",
   "metadata": {},
   "source": [
    "Plot, on your graph, the original label signal, the noisy measurements, and the three denoised version obtained above. Report on each plot the value of the corresponding relative error \n",
    "$$\n",
    "\\text{rel-err} = \\frac{\\|\\text{labels} - z \\|_2}{\\|\\text{labels}\\|_2},\n",
    "$$\n",
    "where $z$ is the plotted signal."
   ]
  },
  {
   "cell_type": "code",
   "execution_count": null,
   "metadata": {
    "inputHidden": false,
    "outputHidden": false
   },
   "outputs": [],
   "source": [
    "plt.figure()\n",
    "nodes = nx.draw_networkx_nodes(graph, coords, node_size=60, node_color=noisy_measurements)\n",
    "nx.draw_networkx_edges(graph, coords, alpha=0.3)\n",
    "plt.title(\"First Fourier basis vector as a signal on our graph\", y=1.08)\n",
    "plt.xlabel(\"Second eigenvector\")\n",
    "plt.ylabel(\"Fourth eigenvector\")\n",
    "plt.colorbar(nodes)\n",
    "plt.show()"
   ]
  },
  {
   "cell_type": "markdown",
   "metadata": {},
   "source": [
    "Finally, overlay on the same plot the GFT of all five signals above."
   ]
  },
  {
   "cell_type": "markdown",
   "metadata": {},
   "source": [
    "# À répondre"
   ]
  },
  {
   "cell_type": "code",
   "execution_count": 47,
   "metadata": {
    "inputHidden": false,
    "outputHidden": false
   },
   "outputs": [],
   "source": [
    "# Your code here."
   ]
  },
  {
   "cell_type": "markdown",
   "metadata": {},
   "source": [
    "### Question 12\n",
    "\n",
    "Comment on which denoised version seems to best match the original label signal. What is the underlying assumption behind the three filtering approaches? Do you think it holds for your label signal? Why?"
   ]
  },
  {
   "cell_type": "markdown",
   "metadata": {},
   "source": [
    "**Your answer here.**"
   ]
  },
  {
   "cell_type": "markdown",
   "metadata": {
    "ExecuteTime": {
     "end_time": "2018-08-31T13:05:59.301384Z",
     "start_time": "2018-08-31T13:05:59.297336Z"
    }
   },
   "source": [
    "## 4 - Transductive learning\n",
    "\n",
    "It is often the case in large networks that we can only afford to query properties/labels on a small subset of nodes. Nonetheless, if the underlying labels signal is \"regular\" enough, we might still be able to recover a good approximation of it by solving an offline variational problem, with constraints on the values of the measured nodes. \n",
    "\n",
    "In this section, we will be interested in solving such transductive learning problems by minimizing a (semi-) p-norm of the graph gradient applied to the signal of interest:\n",
    "\n",
    "$$\n",
    "\\text{arg} \\, \\underset{z|_S = y}{\\min} \\|\\nabla_G z\\|_p^p,\n",
    "$$\n",
    "\n",
    "where $S$ is the set of measured nodes.\n",
    "\n",
    "In English, we can say that we are looking for solutions with small \"aggregated local variations\", as measured by $\\|\\nabla_G z\\|_p^p = \\sum_{i=1}^{n} \\sum_{j=1}^{n} \\left( \\sqrt{W_{ij}} |z[i] - z[j]| \\right)^p,$ while satisfying the measurement constraints $z[i] = y[i]$ for $i \\in S.$\n",
    "\n",
    "We will work with two cases, according to the choices $p=1$ or $p=2.$ For $p=1,$ the problem is known as \"interpolation by graph total-variation minimization,\" whereas for $p=2$ it is sometimes called \"interpolation by Tikhonov regularization\".\n",
    "\n",
    "In order to solve these variational problems with the black-box solver provided to you, you will use the [pyunlocbox](https://pyunlocbox.readthedocs.io). This toolbox implements iterative solvers based on so-called [\"proximal-splitting\"](https://en.wikipedia.org/wiki/Proximal_gradient_method) methods."
   ]
  },
  {
   "cell_type": "markdown",
   "metadata": {},
   "source": [
    "### Question 13\n",
    "\n",
    "Throughout this section, we will consider only a binarized version of your label signal. If your variable `labels` currently has values other than $\\{-1, 1\\},$ threshold them so that those are the only values taken in this vector. This can be done for example by choosing a number $t \\in \\mathbb{R}$ and then setting $\\text{labels_bin}[i] = 1$ if $\\text{labels}[i] \\geq t$ and $\\text{labels_bin}[i] = 0$ otherwise."
   ]
  },
  {
   "cell_type": "code",
   "execution_count": 18,
   "metadata": {
    "inputHidden": false,
    "outputHidden": false
   },
   "outputs": [],
   "source": [
    "labels_bin = label_signal.copy()\n",
    "labels_bin[np.where(label_signal == 0)] = -1"
   ]
  },
  {
   "cell_type": "markdown",
   "metadata": {},
   "source": [
    "Now, subsample this binarized label signal by $70\\%$ by choosing, uniformly at random, $30\\%$ of the nodes whose labels we will keep.\n",
    "\n",
    "You will do this by computing a \"measurement mask\" vector `w` with `1.0`'s at the measured coordinates, and $0.0$'s otherwise."
   ]
  },
  {
   "cell_type": "code",
   "execution_count": 19,
   "metadata": {
    "inputHidden": false,
    "outputHidden": false
   },
   "outputs": [],
   "source": [
    "mn_ratio = 0.3\n",
    "m = int(mn_ratio * n_nodes)  # Number of measurements.\n",
    "\n",
    "w = np.array([0] * (n_nodes - m) + [1] * m)\n",
    "np.random.shuffle(w)\n",
    "w = w.astype(bool)"
   ]
  },
  {
   "cell_type": "markdown",
   "metadata": {},
   "source": [
    "Plot the subsampled signal on the graph. _Hint:_ you might want to set to `numpy.nan` the values of the un-measured nodes for a cleaner plot."
   ]
  },
  {
   "cell_type": "code",
   "execution_count": 22,
   "metadata": {
    "inputHidden": false,
    "outputHidden": false
   },
   "outputs": [
    {
     "data": {
      "image/png": "[encoded data removed]",
      "text/plain": [
       "<Figure size 720x504 with 2 Axes>"
      ]
     },
     "metadata": {
      "needs_background": "light"
     },
     "output_type": "display_data"
    }
   ],
   "source": [
    "# Your code here.\n",
    "subsampled_signal = labels_bin[w]\n",
    "\n",
    "subsampled_nodes = list(np.where(w == True))[0]\n",
    "subsampled_graph = graph.subgraph(subsampled_nodes)\n",
    "mapping=dict(zip(subsampled_graph.nodes(),list(range(0, m))))\n",
    "subsampled_graph = nx.relabel_nodes(subsampled_graph, mapping)\n",
    "sub_coords = coords[w, :]\n",
    "\n",
    "plt.figure(figsize=(10, 7))\n",
    "subnodes = nx.draw_networkx_nodes(subsampled_graph, sub_coords, node_size=60, node_color=subsampled_signal)\n",
    "nx.draw_networkx_edges(subsampled_graph, coords, alpha=0.3)\n",
    "plt.title(\"Subsampled binarized label signal on our graph\", y=1.08)\n",
    "plt.xlabel(\"Second eigenvector\")\n",
    "plt.ylabel(\"Fourth eigenvector\")\n",
    "plt.colorbar(subnodes)\n",
    "plt.show()"
   ]
  },
  {
   "cell_type": "markdown",
   "metadata": {},
   "source": [
    "### Interlude\n",
    "\n",
    "For the solution of the variational problems you can use the following function as a \"black-box\". \n",
    "\n",
    "You will just need to provide a `gradient` matrix (which you should already have from Section 0), and an orthogonal projection operator `P` onto the span of the measured coordinates (made precise in the next question)."
   ]
  },
  {
   "cell_type": "code",
   "execution_count": 30,
   "metadata": {},
   "outputs": [],
   "source": [
    "def graph_pnorm_interpolation(gradient, P, x0=None, p=1., **kwargs):\n",
    "    r\"\"\"\n",
    "    Solve an interpolation problem via gradient p-norm minimization.\n",
    "\n",
    "    A signal :math:`x` is estimated from its measurements :math:`y = A(x)` by solving\n",
    "    :math:`\\text{arg}\\underset{z \\in \\mathbb{R}^n}{\\min}\n",
    "    \\| \\nabla_G z \\|_p^p \\text{ subject to } Az = y` \n",
    "    via a primal-dual, forward-backward-forward algorithm.\n",
    "\n",
    "    Parameters\n",
    "    ----------\n",
    "    gradient : array_like\n",
    "        A matrix representing the graph gradient operator\n",
    "    P : callable\n",
    "        Orthogonal projection operator mapping points in :math:`z \\in \\mathbb{R}^n` \n",
    "        onto the set satisfying :math:`A P(z) = A z`.\n",
    "    x0 : array_like, optional\n",
    "        Initial point of the iteration. Must be of dimension n.\n",
    "        (Default is `numpy.random.randn(n)`)\n",
    "    p : {1., 2.}\n",
    "    kwargs :\n",
    "        Additional solver parameters, such as maximum number of iterations\n",
    "        (maxit), relative tolerance on the objective (rtol), and verbosity\n",
    "        level (verbosity). See :func:`pyunlocbox.solvers.solve` for the full\n",
    "        list of options.\n",
    "\n",
    "    Returns\n",
    "    -------\n",
    "    x : array_like\n",
    "        The solution to the optimization problem.\n",
    "\n",
    "    \"\"\"\n",
    "    \n",
    "    grad = lambda z: gradient.dot(z)\n",
    "    div = lambda z: gradient.transpose().dot(z)\n",
    "\n",
    "    # Indicator function of the set satisfying :math:`y = A(z)`\n",
    "    f = functions.func()\n",
    "    f._eval = lambda z: 0\n",
    "    f._prox = lambda z, gamma: P(z)\n",
    "\n",
    "    # :math:`\\ell_1` norm of the dual variable :math:`d = \\nabla_G z`\n",
    "    g = functions.func()\n",
    "    g._eval = lambda z: np.sum(np.abs(grad(z)))\n",
    "    g._prox = lambda d, gamma: functions._soft_threshold(d, gamma)\n",
    "\n",
    "    # :math:`\\ell_2` norm of the gradient (for the smooth case)\n",
    "    h = functions.norm_l2(A=grad, At=div)\n",
    "\n",
    "    stepsize = (0.9 / (1. + scipy.sparse.linalg.norm(gradient, ord='fro'))) ** p\n",
    "\n",
    "    solver = solvers.mlfbf(L=grad, Lt=div, step=stepsize)\n",
    "\n",
    "    if p == 1.:\n",
    "        problem = solvers.solve([f, g, functions.dummy()], x0=x0, solver=solver, **kwargs)\n",
    "        return problem['sol']\n",
    "    if p == 2.:\n",
    "        problem = solvers.solve([f, functions.dummy(), h], x0=x0, solver=solver, **kwargs)\n",
    "        return problem['sol']\n",
    "    else:\n",
    "        return x0"
   ]
  },
  {
   "cell_type": "markdown",
   "metadata": {},
   "source": [
    "### Question 14\n",
    "\n",
    "During the iterations of the algorithm used for solving the variational problem, we have to make sure that the labels at the measured nodes stay the same. We will do this by means of an operator `P` which, given a vector $a \\in \\mathbb{R}^{N},$ returns another vector $b \\in \\mathbb{R}^{N}$ satisfying $b[i] = \\text{labels_bin}[i]$ for every node $i$ in the set $S$ of known labels, and $b[i] = a[i]$ otherwise. Write in the cell below the function for this orthogonal projection operator `P`.\n",
    "\n",
    "_Hint:_ remember you have already computed the mask `w`."
   ]
  },
  {
   "cell_type": "code",
   "execution_count": 24,
   "metadata": {
    "inputHidden": false,
    "outputHidden": false
   },
   "outputs": [],
   "source": [
    "def P(a):\n",
    "    b = a.copy()\n",
    "    # The set of known labels is the set of subsampled labels that is described by the mask w\n",
    "    b[w] = labels_bin[w]\n",
    "    return b"
   ]
  },
  {
   "cell_type": "markdown",
   "metadata": {
    "inputHidden": false,
    "outputHidden": false
   },
   "source": [
    "### Question 15\n",
    "\n",
    "Solve the variational problems for $p = 1$ and $p = 2$. Record the solution for the $1-$norm minimization under `sol_1norm_min` and the one for $2-$norm minimization under `sol_2norm_min`.\n",
    "\n",
    "Compute also binarized versions of these solutions by thresholding the values with respect to $0$, that is, non-negative values become `1.0`, while negative values become `-1.0`. Store those binarized versions under `sol_1norm_bin` and `sol_2norm_bin`, respectively."
   ]
  },
  {
   "cell_type": "markdown",
   "metadata": {},
   "source": [
    "# Since x0 was not initialized we took it upon ourselves to properly use the function so as to make it run. So anyway here is the fuckening code."
   ]
  },
  {
   "cell_type": "code",
   "execution_count": 38,
   "metadata": {
    "inputHidden": false,
    "outputHidden": false,
    "scrolled": false
   },
   "outputs": [
    {
     "name": "stdout",
     "output_type": "stream",
     "text": [
      "Solution found after 101 iterations:\n",
      "    objective function f(sol) = 3.377194e+05\n",
      "    stopping criterion: RTOL\n",
      "Solution found after 200 iterations:\n",
      "    objective function f(sol) = 5.286246e+05\n",
      "    stopping criterion: MAXIT\n"
     ]
    }
   ],
   "source": [
    "x0 = np.random.randn(n_nodes)\n",
    "\n",
    "sol_1norm_min = graph_pnorm_interpolation(gradient_, P, x0=x0, p=1)\n",
    "\n",
    "sol_2norm_min = graph_pnorm_interpolation(gradient_, P, x0=x0, p=2)\n",
    "\n",
    "threshold = 0\n",
    "\n",
    "sol_1norm_bin = [1 if i>threshold else -1 for i in sol_1norm_min]\n",
    "\n",
    "sol_2norm_bin = [1 if i>threshold else -1 for i in sol_2norm_min]"
   ]
  },
  {
   "cell_type": "markdown",
   "metadata": {
    "inputHidden": false,
    "outputHidden": false
   },
   "source": [
    "Plot, on your graph, the original `labels_bin` signal, as well as the solutions to the variational problems (both binarized and otherwise). Indicate on each plot the value of the relative error $\\text{rel-err} = \\frac{\\|\\text{labels_bin} - z\\|_2}{\\|\\text{labels_bin}\\|_2}$, where $z$ is the signal in the corresponding plot."
   ]
  },
  {
   "cell_type": "code",
   "execution_count": 41,
   "metadata": {
    "scrolled": false
   },
   "outputs": [
    {
     "data": {
      "image/png": "[encoded data removed]",
      "text/plain": [
       "<Figure size 720x504 with 2 Axes>"
      ]
     },
     "metadata": {
      "needs_background": "light"
     },
     "output_type": "display_data"
    },
    {
     "data": {
      "image/png": "[encoded data removed]",
      "text/plain": [
       "<Figure size 720x504 with 2 Axes>"
      ]
     },
     "metadata": {
      "needs_background": "light"
     },
     "output_type": "display_data"
    },
    {
     "data": {
      "image/png": "[encoded data removed]",
      "text/plain": [
       "<Figure size 720x504 with 2 Axes>"
      ]
     },
     "metadata": {
      "needs_background": "light"
     },
     "output_type": "display_data"
    },
    {
     "data": {
      "image/png": "[encoded data removed]",
      "text/plain": [
       "<Figure size 720x504 with 2 Axes>"
      ]
     },
     "metadata": {
      "needs_background": "light"
     },
     "output_type": "display_data"
    },
    {
     "data": {
      "image/png": "[encoded data removed]",
      "text/plain": [
       "<Figure size 720x504 with 2 Axes>"
      ]
     },
     "metadata": {
      "needs_background": "light"
     },
     "output_type": "display_data"
    }
   ],
   "source": [
    "plt.figure(figsize = (10,7))\n",
    "nodes = nx.draw_networkx_nodes(graph, coords, node_size=60, node_color=labels_bin)\n",
    "nx.draw_networkx_edges(graph, coords, alpha=0.3)\n",
    "plt.title(\"Binary label signal\", y=1.08)\n",
    "plt.xlabel(\"Second eigenvector\")\n",
    "plt.ylabel(\"Fourth eigenvector\")\n",
    "plt.colorbar(nodes)\n",
    "plt.show()\n",
    "\n",
    "plt.figure(figsize = (10,7))\n",
    "rel_err = np.linalg.norm(labels_bin - sol_1norm_min) / np.linalg.norm(labels_bin)\n",
    "nodes = nx.draw_networkx_nodes(graph, coords, node_size=60, node_color=sol_1norm_min)\n",
    "nx.draw_networkx_edges(graph, coords, alpha=0.3)\n",
    "plt.title(\"Solution to the variational problem with p=1 norm \\n Relative error: {}\".format(rel_err), y=1.08)\n",
    "plt.xlabel(\"Second eigenvector\")\n",
    "plt.ylabel(\"Fourth eigenvector\")\n",
    "plt.colorbar(nodes)\n",
    "plt.show()\n",
    "\n",
    "plt.figure(figsize = (10,7))\n",
    "rel_err = np.linalg.norm(labels_bin - sol_2norm_min) / np.linalg.norm(labels_bin)\n",
    "nodes = nx.draw_networkx_nodes(graph, coords, node_size=60, node_color=sol_2norm_min)\n",
    "nx.draw_networkx_edges(graph, coords, alpha=0.3)\n",
    "plt.title(\"Solution to the variational problem with p=2 norm \\n Relative error: {}\".format(rel_err), y=1.08)\n",
    "plt.xlabel(\"Second eigenvector\")\n",
    "plt.ylabel(\"Fourth eigenvector\")\n",
    "plt.colorbar(nodes)\n",
    "plt.show()\n",
    "\n",
    "plt.figure(figsize = (10,7))\n",
    "rel_err = np.linalg.norm(labels_bin - sol_1norm_bin) / np.linalg.norm(labels_bin)\n",
    "nodes = nx.draw_networkx_nodes(graph, coords, node_size=60, node_color=sol_1norm_bin)\n",
    "nx.draw_networkx_edges(graph, coords, alpha=0.3)\n",
    "plt.title(\"Binarized solution to the variational problem with p=1 norm \\n Relative error: {}\".format(rel_err), y=1.08)\n",
    "plt.xlabel(\"Second eigenvector\")\n",
    "plt.ylabel(\"Fourth eigenvector\")\n",
    "plt.colorbar(nodes)\n",
    "plt.show()\n",
    "\n",
    "plt.figure(figsize = (10,7))\n",
    "rel_err = np.linalg.norm(labels_bin - sol_2norm_bin) / np.linalg.norm(labels_bin)\n",
    "nodes = nx.draw_networkx_nodes(graph, coords, node_size=60, node_color=sol_2norm_bin)\n",
    "nx.draw_networkx_edges(graph, coords, alpha=0.3)\n",
    "plt.title(\"Binarized solution to the variational problem with p=2 norm \\n Relative error: {}\".format(rel_err), y=1.08)\n",
    "plt.xlabel(\"Second eigenvector\")\n",
    "plt.ylabel(\"Fourth eigenvector\")\n",
    "plt.colorbar(nodes)\n",
    "plt.show()"
   ]
  },
  {
   "cell_type": "markdown",
   "metadata": {},
   "source": [
    "### Question 16\n",
    "\n",
    "Now that you have got a feeling for the sort of solutions that the transductive learning problems studied can give, we will see what is the effect of the number of measurements on the accuracy of both $p-$norm minimization problems.\n",
    "\n",
    "Towards this goal, you will write a `phase_transition()` function. This function will basically go over all the procedures that you have implemented in this section, but for varying numbers of measurements and thresholding values. It will also compute the relative error, $\\text{rel-err},$ of the solutions and average them over a number of trials.\n",
    "\n",
    "The output of the `phase_transition()` function has to be a matrix with `len(mn_ratios)` columns and `len(thresholds)` rows. Each pixel $(i,j)$ in the output matrix has to contain the average, over `n_trials` trials, of the relative error $\\text{rel-err}$ in the binarized (with threshold `thresholds[i]`) solution given by `graph_pnorm_interpolation()` from observing an `mn_ratios[j]` fraction of nodes. The randomness comes from a different choice of mask `w` at each trial, hence the averaging.\n",
    "\n",
    "The interest of this phase transition matrix is to assess what level of recovery error one could expect for a certain fraction of measurements and a certain threshold level."
   ]
  },
  {
   "cell_type": "code",
   "execution_count": 50,
   "metadata": {
    "inputHidden": false,
    "outputHidden": false
   },
   "outputs": [],
   "source": [
    "def phase_transition(mn_ratios, thresholds, n_trials, labels_bin, p):\n",
    "\n",
    "    pt_matrix = np.zeros((len(thresholds), len(mn_ratios)))\n",
    "    for (i, thresh) in enumerate(thresholds):\n",
    "        for (j, ratio) in enumerate(mn_ratios):\n",
    "            err = np.zeros((n_trials, 1))\n",
    "            for t in range(n_trials):\n",
    "                # Create sample mask.\n",
    "                m = int(ratio * n_nodes)  # Number of measurements.\n",
    "\n",
    "                w = np.array([0] * (n_nodes - m) + [1] * m)\n",
    "                np.random.shuffle(w)\n",
    "                w = w.astype(bool)\n",
    "\n",
    "                # Solve p-norm interpolation.\n",
    "                x0 = np.random.randn(n_nodes)\n",
    "                sol = graph_pnorm_interpolation(gradient_, P, x0=x0, p=p)\n",
    "                err[t] = np.linalg.norm(labels_bin - sol) / np.linalg.norm(labels_bin)\n",
    "\n",
    "            # Aggregate.\n",
    "            pt_matrix[i,j] = np.mean(err)\n",
    "    \n",
    "    return pt_matrix"
   ]
  },
  {
   "cell_type": "markdown",
   "metadata": {},
   "source": [
    "### Question 17\n",
    "\n",
    "Pick 5 \"m/n\" ratios in $(0, 1)$ and 5 threshold levels in $(-1, 1)$ and run the `phase_transition()` function with `n_trials` = 20, for both $p = 1$ and $p = 2$."
   ]
  },
  {
   "cell_type": "markdown",
   "metadata": {},
   "source": [
    "We previously saw that our values were around 0 most of the time. This is why our thresholds are focused around 0."
   ]
  },
  {
   "cell_type": "code",
   "execution_count": 51,
   "metadata": {
    "inputHidden": false,
    "outputHidden": false
   },
   "outputs": [
    {
     "name": "stdout",
     "output_type": "stream",
     "text": [
      "Solution found after 100 iterations:\n",
      "    objective function f(sol) = 3.505643e+05\n",
      "    stopping criterion: RTOL\n",
      "Solution found after 100 iterations:\n",
      "    objective function f(sol) = 3.482081e+05\n",
      "    stopping criterion: RTOL\n",
      "Solution found after 101 iterations:\n",
      "    objective function f(sol) = 3.359929e+05\n",
      "    stopping criterion: RTOL\n",
      "Solution found after 100 iterations:\n",
      "    objective function f(sol) = 3.300458e+05\n",
      "    stopping criterion: RTOL\n",
      "Solution found after 13 iterations:\n",
      "    objective function f(sol) = 6.489083e+04\n",
      "    stopping criterion: RTOL\n",
      "Solution found after 13 iterations:\n",
      "    objective function f(sol) = 6.534718e+04\n",
      "    stopping criterion: RTOL\n",
      "Solution found after 101 iterations:\n",
      "    objective function f(sol) = 3.280492e+05\n",
      "    stopping criterion: RTOL\n",
      "Solution found after 13 iterations:\n",
      "    objective function f(sol) = 6.544864e+04\n",
      "    stopping criterion: RTOL\n",
      "Solution found after 100 iterations:\n",
      "    objective function f(sol) = 3.303854e+05\n",
      "    stopping criterion: RTOL\n",
      "Solution found after 13 iterations:\n",
      "    objective function f(sol) = 6.629075e+04\n",
      "    stopping criterion: RTOL\n",
      "Solution found after 13 iterations:\n",
      "    objective function f(sol) = 6.572789e+04\n",
      "    stopping criterion: RTOL\n",
      "Solution found after 100 iterations:\n",
      "    objective function f(sol) = 3.364394e+05\n",
      "    stopping criterion: RTOL\n",
      "Solution found after 101 iterations:\n",
      "    objective function f(sol) = 3.321793e+05\n",
      "    stopping criterion: RTOL\n",
      "Solution found after 100 iterations:\n",
      "    objective function f(sol) = 3.385497e+05\n",
      "    stopping criterion: RTOL\n",
      "Solution found after 13 iterations:\n",
      "    objective function f(sol) = 6.536873e+04\n",
      "    stopping criterion: RTOL\n",
      "Solution found after 100 iterations:\n",
      "    objective function f(sol) = 3.507314e+05\n",
      "    stopping criterion: RTOL\n",
      "Solution found after 100 iterations:\n",
      "    objective function f(sol) = 3.388208e+05\n",
      "    stopping criterion: RTOL\n",
      "Solution found after 13 iterations:\n",
      "    objective function f(sol) = 6.569410e+04\n",
      "    stopping criterion: RTOL\n",
      "Solution found after 100 iterations:\n",
      "    objective function f(sol) = 3.408381e+05\n",
      "    stopping criterion: RTOL\n",
      "Solution found after 13 iterations:\n",
      "    objective function f(sol) = 6.545656e+04\n",
      "    stopping criterion: RTOL\n",
      "Solution found after 13 iterations:\n",
      "    objective function f(sol) = 6.519259e+04\n",
      "    stopping criterion: RTOL\n",
      "Solution found after 13 iterations:\n",
      "    objective function f(sol) = 6.452379e+04\n",
      "    stopping criterion: RTOL\n",
      "Solution found after 100 iterations:\n",
      "    objective function f(sol) = 3.374954e+05\n",
      "    stopping criterion: RTOL\n",
      "Solution found after 101 iterations:\n",
      "    objective function f(sol) = 3.409777e+05\n",
      "    stopping criterion: RTOL\n",
      "Solution found after 100 iterations:\n",
      "    objective function f(sol) = 3.340259e+05\n",
      "    stopping criterion: RTOL\n",
      "Solution found after 100 iterations:\n",
      "    objective function f(sol) = 3.388865e+05\n",
      "    stopping criterion: RTOL\n",
      "Solution found after 13 iterations:\n",
      "    objective function f(sol) = 6.544192e+04\n",
      "    stopping criterion: RTOL\n",
      "Solution found after 100 iterations:\n",
      "    objective function f(sol) = 3.458553e+05\n",
      "    stopping criterion: RTOL\n",
      "Solution found after 100 iterations:\n",
      "    objective function f(sol) = 3.313908e+05\n",
      "    stopping criterion: RTOL\n",
      "Solution found after 101 iterations:\n",
      "    objective function f(sol) = 3.447404e+05\n",
      "    stopping criterion: RTOL\n",
      "Solution found after 100 iterations:\n",
      "    objective function f(sol) = 3.379099e+05\n",
      "    stopping criterion: RTOL\n",
      "Solution found after 100 iterations:\n",
      "    objective function f(sol) = 3.387238e+05\n",
      "    stopping criterion: RTOL\n",
      "Solution found after 100 iterations:\n",
      "    objective function f(sol) = 3.322602e+05\n",
      "    stopping criterion: RTOL\n",
      "Solution found after 100 iterations:\n",
      "    objective function f(sol) = 3.363385e+05\n",
      "    stopping criterion: RTOL\n",
      "Solution found after 101 iterations:\n",
      "    objective function f(sol) = 3.285928e+05\n",
      "    stopping criterion: RTOL\n",
      "Solution found after 101 iterations:\n",
      "    objective function f(sol) = 3.380700e+05\n",
      "    stopping criterion: RTOL\n",
      "Solution found after 100 iterations:\n",
      "    objective function f(sol) = 3.389915e+05\n",
      "    stopping criterion: RTOL\n",
      "Solution found after 100 iterations:\n",
      "    objective function f(sol) = 3.319491e+05\n",
      "    stopping criterion: RTOL\n",
      "Solution found after 13 iterations:\n",
      "    objective function f(sol) = 6.516526e+04\n",
      "    stopping criterion: RTOL\n",
      "Solution found after 100 iterations:\n",
      "    objective function f(sol) = 3.392258e+05\n",
      "    stopping criterion: RTOL\n",
      "Solution found after 13 iterations:\n",
      "    objective function f(sol) = 6.595447e+04\n",
      "    stopping criterion: RTOL\n",
      "Solution found after 101 iterations:\n",
      "    objective function f(sol) = 3.495425e+05\n",
      "    stopping criterion: RTOL\n",
      "Solution found after 100 iterations:\n",
      "    objective function f(sol) = 3.417472e+05\n",
      "    stopping criterion: RTOL\n",
      "Solution found after 100 iterations:\n",
      "    objective function f(sol) = 3.435470e+05\n",
      "    stopping criterion: RTOL\n",
      "Solution found after 100 iterations:\n",
      "    objective function f(sol) = 3.446391e+05\n",
      "    stopping criterion: RTOL\n",
      "Solution found after 100 iterations:\n",
      "    objective function f(sol) = 3.379431e+05\n",
      "    stopping criterion: RTOL\n",
      "Solution found after 100 iterations:\n",
      "    objective function f(sol) = 3.306918e+05\n",
      "    stopping criterion: RTOL\n",
      "Solution found after 100 iterations:\n",
      "    objective function f(sol) = 3.370921e+05\n",
      "    stopping criterion: RTOL\n",
      "Solution found after 13 iterations:\n",
      "    objective function f(sol) = 6.487751e+04\n",
      "    stopping criterion: RTOL\n",
      "Solution found after 100 iterations:\n",
      "    objective function f(sol) = 3.416093e+05\n",
      "    stopping criterion: RTOL\n",
      "Solution found after 13 iterations:\n",
      "    objective function f(sol) = 6.526156e+04\n",
      "    stopping criterion: RTOL\n",
      "Solution found after 13 iterations:\n",
      "    objective function f(sol) = 6.570558e+04\n",
      "    stopping criterion: RTOL\n",
      "Solution found after 13 iterations:\n",
      "    objective function f(sol) = 6.607811e+04\n",
      "    stopping criterion: RTOL\n",
      "Solution found after 101 iterations:\n",
      "    objective function f(sol) = 3.384658e+05\n",
      "    stopping criterion: RTOL\n",
      "Solution found after 101 iterations:\n",
      "    objective function f(sol) = 3.441550e+05\n",
      "    stopping criterion: RTOL\n",
      "Solution found after 13 iterations:\n",
      "    objective function f(sol) = 6.508290e+04\n",
      "    stopping criterion: RTOL\n",
      "Solution found after 13 iterations:\n",
      "    objective function f(sol) = 6.469591e+04\n",
      "    stopping criterion: RTOL\n",
      "Solution found after 100 iterations:\n",
      "    objective function f(sol) = 3.417771e+05\n",
      "    stopping criterion: RTOL\n",
      "Solution found after 100 iterations:\n",
      "    objective function f(sol) = 3.437323e+05\n",
      "    stopping criterion: RTOL\n",
      "Solution found after 100 iterations:\n",
      "    objective function f(sol) = 3.368796e+05\n",
      "    stopping criterion: RTOL\n",
      "Solution found after 100 iterations:\n",
      "    objective function f(sol) = 3.345879e+05\n",
      "    stopping criterion: RTOL\n",
      "Solution found after 100 iterations:\n",
      "    objective function f(sol) = 3.413006e+05\n",
      "    stopping criterion: RTOL\n",
      "Solution found after 100 iterations:\n",
      "    objective function f(sol) = 3.365103e+05\n",
      "    stopping criterion: RTOL\n",
      "Solution found after 100 iterations:\n",
      "    objective function f(sol) = 3.340319e+05\n",
      "    stopping criterion: RTOL\n",
      "Solution found after 100 iterations:\n",
      "    objective function f(sol) = 3.356880e+05\n",
      "    stopping criterion: RTOL\n",
      "Solution found after 101 iterations:\n",
      "    objective function f(sol) = 3.322696e+05\n",
      "    stopping criterion: RTOL\n",
      "Solution found after 99 iterations:\n",
      "    objective function f(sol) = 3.411887e+05\n",
      "    stopping criterion: RTOL\n",
      "Solution found after 100 iterations:\n",
      "    objective function f(sol) = 3.414842e+05\n",
      "    stopping criterion: RTOL\n",
      "Solution found after 13 iterations:\n",
      "    objective function f(sol) = 6.574448e+04\n",
      "    stopping criterion: RTOL\n",
      "Solution found after 100 iterations:\n",
      "    objective function f(sol) = 3.355206e+05\n",
      "    stopping criterion: RTOL\n",
      "Solution found after 13 iterations:\n",
      "    objective function f(sol) = 6.521791e+04\n",
      "    stopping criterion: RTOL\n",
      "Solution found after 100 iterations:\n",
      "    objective function f(sol) = 3.281370e+05\n",
      "    stopping criterion: RTOL\n",
      "Solution found after 13 iterations:\n",
      "    objective function f(sol) = 6.486576e+04\n",
      "    stopping criterion: RTOL\n",
      "Solution found after 101 iterations:\n",
      "    objective function f(sol) = 3.356255e+05\n",
      "    stopping criterion: RTOL\n",
      "Solution found after 100 iterations:\n",
      "    objective function f(sol) = 3.437323e+05\n",
      "    stopping criterion: RTOL\n"
     ]
    },
    {
     "name": "stdout",
     "output_type": "stream",
     "text": [
      "Solution found after 100 iterations:\n",
      "    objective function f(sol) = 3.437922e+05\n",
      "    stopping criterion: RTOL\n",
      "Solution found after 13 iterations:\n",
      "    objective function f(sol) = 6.430096e+04\n",
      "    stopping criterion: RTOL\n",
      "Solution found after 100 iterations:\n",
      "    objective function f(sol) = 3.372235e+05\n",
      "    stopping criterion: RTOL\n",
      "Solution found after 100 iterations:\n",
      "    objective function f(sol) = 3.351501e+05\n",
      "    stopping criterion: RTOL\n",
      "Solution found after 13 iterations:\n",
      "    objective function f(sol) = 6.459083e+04\n",
      "    stopping criterion: RTOL\n",
      "Solution found after 13 iterations:\n",
      "    objective function f(sol) = 6.485365e+04\n",
      "    stopping criterion: RTOL\n",
      "Solution found after 100 iterations:\n",
      "    objective function f(sol) = 3.338988e+05\n",
      "    stopping criterion: RTOL\n",
      "Solution found after 100 iterations:\n",
      "    objective function f(sol) = 3.339150e+05\n",
      "    stopping criterion: RTOL\n",
      "Solution found after 13 iterations:\n",
      "    objective function f(sol) = 6.456199e+04\n",
      "    stopping criterion: RTOL\n",
      "Solution found after 101 iterations:\n",
      "    objective function f(sol) = 3.363512e+05\n",
      "    stopping criterion: RTOL\n",
      "Solution found after 100 iterations:\n",
      "    objective function f(sol) = 3.464978e+05\n",
      "    stopping criterion: RTOL\n",
      "Solution found after 100 iterations:\n",
      "    objective function f(sol) = 3.431953e+05\n",
      "    stopping criterion: RTOL\n",
      "Solution found after 102 iterations:\n",
      "    objective function f(sol) = 3.365220e+05\n",
      "    stopping criterion: RTOL\n",
      "Solution found after 13 iterations:\n",
      "    objective function f(sol) = 6.555388e+04\n",
      "    stopping criterion: RTOL\n",
      "Solution found after 100 iterations:\n",
      "    objective function f(sol) = 3.452172e+05\n",
      "    stopping criterion: RTOL\n",
      "Solution found after 13 iterations:\n",
      "    objective function f(sol) = 6.537144e+04\n",
      "    stopping criterion: RTOL\n",
      "Solution found after 99 iterations:\n",
      "    objective function f(sol) = 3.435947e+05\n",
      "    stopping criterion: RTOL\n",
      "Solution found after 101 iterations:\n",
      "    objective function f(sol) = 3.303858e+05\n",
      "    stopping criterion: RTOL\n",
      "Solution found after 100 iterations:\n",
      "    objective function f(sol) = 3.331001e+05\n",
      "    stopping criterion: RTOL\n",
      "Solution found after 101 iterations:\n",
      "    objective function f(sol) = 3.339979e+05\n",
      "    stopping criterion: RTOL\n",
      "Solution found after 100 iterations:\n",
      "    objective function f(sol) = 3.414406e+05\n",
      "    stopping criterion: RTOL\n",
      "Solution found after 100 iterations:\n",
      "    objective function f(sol) = 3.301527e+05\n",
      "    stopping criterion: RTOL\n",
      "Solution found after 100 iterations:\n",
      "    objective function f(sol) = 3.357554e+05\n",
      "    stopping criterion: RTOL\n",
      "Solution found after 13 iterations:\n",
      "    objective function f(sol) = 6.478553e+04\n",
      "    stopping criterion: RTOL\n",
      "Solution found after 13 iterations:\n",
      "    objective function f(sol) = 6.563761e+04\n",
      "    stopping criterion: RTOL\n",
      "Solution found after 100 iterations:\n",
      "    objective function f(sol) = 3.420730e+05\n",
      "    stopping criterion: RTOL\n",
      "Solution found after 100 iterations:\n",
      "    objective function f(sol) = 3.369537e+05\n",
      "    stopping criterion: RTOL\n",
      "Solution found after 13 iterations:\n",
      "    objective function f(sol) = 6.607902e+04\n",
      "    stopping criterion: RTOL\n",
      "Solution found after 13 iterations:\n",
      "    objective function f(sol) = 6.507928e+04\n",
      "    stopping criterion: RTOL\n",
      "Solution found after 100 iterations:\n",
      "    objective function f(sol) = 3.454605e+05\n",
      "    stopping criterion: RTOL\n",
      "Solution found after 100 iterations:\n",
      "    objective function f(sol) = 3.380425e+05\n",
      "    stopping criterion: RTOL\n",
      "Solution found after 100 iterations:\n",
      "    objective function f(sol) = 3.471053e+05\n",
      "    stopping criterion: RTOL\n",
      "Solution found after 13 iterations:\n",
      "    objective function f(sol) = 6.513630e+04\n",
      "    stopping criterion: RTOL\n",
      "Solution found after 100 iterations:\n",
      "    objective function f(sol) = 3.485947e+05\n",
      "    stopping criterion: RTOL\n",
      "Solution found after 101 iterations:\n",
      "    objective function f(sol) = 3.389634e+05\n",
      "    stopping criterion: RTOL\n",
      "Solution found after 13 iterations:\n",
      "    objective function f(sol) = 6.600988e+04\n",
      "    stopping criterion: RTOL\n",
      "Solution found after 13 iterations:\n",
      "    objective function f(sol) = 6.443595e+04\n",
      "    stopping criterion: RTOL\n",
      "Solution found after 100 iterations:\n",
      "    objective function f(sol) = 3.444829e+05\n",
      "    stopping criterion: RTOL\n",
      "Solution found after 100 iterations:\n",
      "    objective function f(sol) = 3.432249e+05\n",
      "    stopping criterion: RTOL\n",
      "Solution found after 100 iterations:\n",
      "    objective function f(sol) = 3.398194e+05\n",
      "    stopping criterion: RTOL\n",
      "Solution found after 100 iterations:\n",
      "    objective function f(sol) = 3.332060e+05\n",
      "    stopping criterion: RTOL\n",
      "Solution found after 99 iterations:\n",
      "    objective function f(sol) = 3.456344e+05\n",
      "    stopping criterion: RTOL\n",
      "Solution found after 100 iterations:\n",
      "    objective function f(sol) = 3.475386e+05\n",
      "    stopping criterion: RTOL\n",
      "Solution found after 100 iterations:\n",
      "    objective function f(sol) = 3.336820e+05\n",
      "    stopping criterion: RTOL\n",
      "Solution found after 13 iterations:\n",
      "    objective function f(sol) = 6.544628e+04\n",
      "    stopping criterion: RTOL\n",
      "Solution found after 101 iterations:\n",
      "    objective function f(sol) = 3.271768e+05\n",
      "    stopping criterion: RTOL\n",
      "Solution found after 100 iterations:\n",
      "    objective function f(sol) = 3.513660e+05\n",
      "    stopping criterion: RTOL\n",
      "Solution found after 99 iterations:\n",
      "    objective function f(sol) = 3.412724e+05\n",
      "    stopping criterion: RTOL\n",
      "Solution found after 100 iterations:\n",
      "    objective function f(sol) = 3.383597e+05\n",
      "    stopping criterion: RTOL\n",
      "Solution found after 100 iterations:\n",
      "    objective function f(sol) = 3.496985e+05\n",
      "    stopping criterion: RTOL\n",
      "Solution found after 13 iterations:\n",
      "    objective function f(sol) = 6.457223e+04\n",
      "    stopping criterion: RTOL\n",
      "Solution found after 13 iterations:\n",
      "    objective function f(sol) = 6.521974e+04\n",
      "    stopping criterion: RTOL\n",
      "Solution found after 100 iterations:\n",
      "    objective function f(sol) = 3.395934e+05\n",
      "    stopping criterion: RTOL\n",
      "Solution found after 13 iterations:\n",
      "    objective function f(sol) = 6.438500e+04\n",
      "    stopping criterion: RTOL\n",
      "Solution found after 13 iterations:\n",
      "    objective function f(sol) = 6.589066e+04\n",
      "    stopping criterion: RTOL\n",
      "Solution found after 101 iterations:\n",
      "    objective function f(sol) = 3.256532e+05\n",
      "    stopping criterion: RTOL\n",
      "Solution found after 13 iterations:\n",
      "    objective function f(sol) = 6.508355e+04\n",
      "    stopping criterion: RTOL\n",
      "Solution found after 100 iterations:\n",
      "    objective function f(sol) = 3.346377e+05\n",
      "    stopping criterion: RTOL\n",
      "Solution found after 100 iterations:\n",
      "    objective function f(sol) = 3.422102e+05\n",
      "    stopping criterion: RTOL\n",
      "Solution found after 13 iterations:\n",
      "    objective function f(sol) = 6.479942e+04\n",
      "    stopping criterion: RTOL\n",
      "Solution found after 100 iterations:\n",
      "    objective function f(sol) = 3.483470e+05\n",
      "    stopping criterion: RTOL\n",
      "Solution found after 100 iterations:\n",
      "    objective function f(sol) = 3.428310e+05\n",
      "    stopping criterion: RTOL\n",
      "Solution found after 13 iterations:\n",
      "    objective function f(sol) = 6.527951e+04\n",
      "    stopping criterion: RTOL\n",
      "Solution found after 13 iterations:\n",
      "    objective function f(sol) = 6.585416e+04\n",
      "    stopping criterion: RTOL\n",
      "Solution found after 100 iterations:\n",
      "    objective function f(sol) = 3.364949e+05\n",
      "    stopping criterion: RTOL\n",
      "Solution found after 100 iterations:\n",
      "    objective function f(sol) = 3.363663e+05\n",
      "    stopping criterion: RTOL\n",
      "Solution found after 100 iterations:\n",
      "    objective function f(sol) = 3.306923e+05\n",
      "    stopping criterion: RTOL\n",
      "Solution found after 100 iterations:\n",
      "    objective function f(sol) = 3.344739e+05\n",
      "    stopping criterion: RTOL\n",
      "Solution found after 101 iterations:\n",
      "    objective function f(sol) = 3.356271e+05\n",
      "    stopping criterion: RTOL\n",
      "Solution found after 102 iterations:\n",
      "    objective function f(sol) = 3.302208e+05\n",
      "    stopping criterion: RTOL\n",
      "Solution found after 100 iterations:\n",
      "    objective function f(sol) = 3.334710e+05\n",
      "    stopping criterion: RTOL\n",
      "Solution found after 13 iterations:\n",
      "    objective function f(sol) = 6.507254e+04\n",
      "    stopping criterion: RTOL\n",
      "Solution found after 100 iterations:\n",
      "    objective function f(sol) = 3.326398e+05\n",
      "    stopping criterion: RTOL\n",
      "Solution found after 100 iterations:\n",
      "    objective function f(sol) = 3.320773e+05\n",
      "    stopping criterion: RTOL\n",
      "Solution found after 100 iterations:\n",
      "    objective function f(sol) = 3.404597e+05\n",
      "    stopping criterion: RTOL\n"
     ]
    },
    {
     "name": "stdout",
     "output_type": "stream",
     "text": [
      "Solution found after 100 iterations:\n",
      "    objective function f(sol) = 3.447408e+05\n",
      "    stopping criterion: RTOL\n",
      "Solution found after 101 iterations:\n",
      "    objective function f(sol) = 3.334533e+05\n",
      "    stopping criterion: RTOL\n",
      "Solution found after 13 iterations:\n",
      "    objective function f(sol) = 6.527532e+04\n",
      "    stopping criterion: RTOL\n",
      "Solution found after 100 iterations:\n",
      "    objective function f(sol) = 3.406945e+05\n",
      "    stopping criterion: RTOL\n",
      "Solution found after 13 iterations:\n",
      "    objective function f(sol) = 6.507333e+04\n",
      "    stopping criterion: RTOL\n",
      "Solution found after 100 iterations:\n",
      "    objective function f(sol) = 3.429799e+05\n",
      "    stopping criterion: RTOL\n",
      "Solution found after 100 iterations:\n",
      "    objective function f(sol) = 3.357254e+05\n",
      "    stopping criterion: RTOL\n",
      "Solution found after 100 iterations:\n",
      "    objective function f(sol) = 3.540575e+05\n",
      "    stopping criterion: RTOL\n",
      "Solution found after 100 iterations:\n",
      "    objective function f(sol) = 3.401289e+05\n",
      "    stopping criterion: RTOL\n",
      "Solution found after 100 iterations:\n",
      "    objective function f(sol) = 3.339259e+05\n",
      "    stopping criterion: RTOL\n",
      "Solution found after 100 iterations:\n",
      "    objective function f(sol) = 3.327405e+05\n",
      "    stopping criterion: RTOL\n",
      "Solution found after 13 iterations:\n",
      "    objective function f(sol) = 6.589125e+04\n",
      "    stopping criterion: RTOL\n",
      "Solution found after 100 iterations:\n",
      "    objective function f(sol) = 3.441780e+05\n",
      "    stopping criterion: RTOL\n",
      "Solution found after 100 iterations:\n",
      "    objective function f(sol) = 3.392721e+05\n",
      "    stopping criterion: RTOL\n",
      "Solution found after 13 iterations:\n",
      "    objective function f(sol) = 6.565777e+04\n",
      "    stopping criterion: RTOL\n",
      "Solution found after 100 iterations:\n",
      "    objective function f(sol) = 3.386248e+05\n",
      "    stopping criterion: RTOL\n",
      "Solution found after 13 iterations:\n",
      "    objective function f(sol) = 6.493548e+04\n",
      "    stopping criterion: RTOL\n",
      "Solution found after 100 iterations:\n",
      "    objective function f(sol) = 3.377454e+05\n",
      "    stopping criterion: RTOL\n",
      "Solution found after 100 iterations:\n",
      "    objective function f(sol) = 3.361249e+05\n",
      "    stopping criterion: RTOL\n",
      "Solution found after 13 iterations:\n",
      "    objective function f(sol) = 6.545496e+04\n",
      "    stopping criterion: RTOL\n",
      "Solution found after 100 iterations:\n",
      "    objective function f(sol) = 3.431116e+05\n",
      "    stopping criterion: RTOL\n",
      "Solution found after 100 iterations:\n",
      "    objective function f(sol) = 3.359517e+05\n",
      "    stopping criterion: RTOL\n",
      "Solution found after 100 iterations:\n",
      "    objective function f(sol) = 3.400594e+05\n",
      "    stopping criterion: RTOL\n",
      "Solution found after 99 iterations:\n",
      "    objective function f(sol) = 3.330208e+05\n",
      "    stopping criterion: RTOL\n",
      "Solution found after 100 iterations:\n",
      "    objective function f(sol) = 3.437164e+05\n",
      "    stopping criterion: RTOL\n",
      "Solution found after 100 iterations:\n",
      "    objective function f(sol) = 3.431754e+05\n",
      "    stopping criterion: RTOL\n",
      "Solution found after 13 iterations:\n",
      "    objective function f(sol) = 6.564256e+04\n",
      "    stopping criterion: RTOL\n",
      "Solution found after 100 iterations:\n",
      "    objective function f(sol) = 3.485680e+05\n",
      "    stopping criterion: RTOL\n",
      "Solution found after 100 iterations:\n",
      "    objective function f(sol) = 3.388786e+05\n",
      "    stopping criterion: RTOL\n",
      "Solution found after 101 iterations:\n",
      "    objective function f(sol) = 3.336708e+05\n",
      "    stopping criterion: RTOL\n",
      "Solution found after 13 iterations:\n",
      "    objective function f(sol) = 6.450453e+04\n",
      "    stopping criterion: RTOL\n",
      "Solution found after 13 iterations:\n",
      "    objective function f(sol) = 6.567499e+04\n",
      "    stopping criterion: RTOL\n",
      "Solution found after 100 iterations:\n",
      "    objective function f(sol) = 3.369342e+05\n",
      "    stopping criterion: RTOL\n",
      "Solution found after 13 iterations:\n",
      "    objective function f(sol) = 6.532692e+04\n",
      "    stopping criterion: RTOL\n",
      "Solution found after 100 iterations:\n",
      "    objective function f(sol) = 3.417968e+05\n",
      "    stopping criterion: RTOL\n",
      "Solution found after 13 iterations:\n",
      "    objective function f(sol) = 6.429183e+04\n",
      "    stopping criterion: RTOL\n",
      "Solution found after 101 iterations:\n",
      "    objective function f(sol) = 3.356044e+05\n",
      "    stopping criterion: RTOL\n",
      "Solution found after 100 iterations:\n",
      "    objective function f(sol) = 3.406868e+05\n",
      "    stopping criterion: RTOL\n",
      "Solution found after 100 iterations:\n",
      "    objective function f(sol) = 3.386155e+05\n",
      "    stopping criterion: RTOL\n",
      "Solution found after 100 iterations:\n",
      "    objective function f(sol) = 3.344128e+05\n",
      "    stopping criterion: RTOL\n",
      "Solution found after 13 iterations:\n",
      "    objective function f(sol) = 6.518166e+04\n",
      "    stopping criterion: RTOL\n",
      "Solution found after 13 iterations:\n",
      "    objective function f(sol) = 6.611009e+04\n",
      "    stopping criterion: RTOL\n",
      "Solution found after 13 iterations:\n",
      "    objective function f(sol) = 6.518883e+04\n",
      "    stopping criterion: RTOL\n",
      "Solution found after 100 iterations:\n",
      "    objective function f(sol) = 3.421728e+05\n",
      "    stopping criterion: RTOL\n",
      "Solution found after 100 iterations:\n",
      "    objective function f(sol) = 3.256580e+05\n",
      "    stopping criterion: RTOL\n",
      "Solution found after 100 iterations:\n",
      "    objective function f(sol) = 3.383920e+05\n",
      "    stopping criterion: RTOL\n",
      "Solution found after 13 iterations:\n",
      "    objective function f(sol) = 6.504925e+04\n",
      "    stopping criterion: RTOL\n",
      "Solution found after 100 iterations:\n",
      "    objective function f(sol) = 3.475360e+05\n",
      "    stopping criterion: RTOL\n",
      "Solution found after 13 iterations:\n",
      "    objective function f(sol) = 6.501754e+04\n",
      "    stopping criterion: RTOL\n",
      "Solution found after 100 iterations:\n",
      "    objective function f(sol) = 3.402863e+05\n",
      "    stopping criterion: RTOL\n",
      "Solution found after 13 iterations:\n",
      "    objective function f(sol) = 6.480317e+04\n",
      "    stopping criterion: RTOL\n",
      "Solution found after 13 iterations:\n",
      "    objective function f(sol) = 6.499640e+04\n",
      "    stopping criterion: RTOL\n",
      "Solution found after 101 iterations:\n",
      "    objective function f(sol) = 3.268499e+05\n",
      "    stopping criterion: RTOL\n",
      "Solution found after 13 iterations:\n",
      "    objective function f(sol) = 6.532865e+04\n",
      "    stopping criterion: RTOL\n",
      "Solution found after 13 iterations:\n",
      "    objective function f(sol) = 6.495852e+04\n",
      "    stopping criterion: RTOL\n",
      "Solution found after 100 iterations:\n",
      "    objective function f(sol) = 3.359285e+05\n",
      "    stopping criterion: RTOL\n",
      "Solution found after 100 iterations:\n",
      "    objective function f(sol) = 3.307260e+05\n",
      "    stopping criterion: RTOL\n",
      "Solution found after 13 iterations:\n",
      "    objective function f(sol) = 6.497225e+04\n",
      "    stopping criterion: RTOL\n",
      "Solution found after 101 iterations:\n",
      "    objective function f(sol) = 3.356413e+05\n",
      "    stopping criterion: RTOL\n",
      "Solution found after 100 iterations:\n",
      "    objective function f(sol) = 3.429314e+05\n",
      "    stopping criterion: RTOL\n",
      "Solution found after 13 iterations:\n",
      "    objective function f(sol) = 6.554020e+04\n",
      "    stopping criterion: RTOL\n",
      "Solution found after 101 iterations:\n",
      "    objective function f(sol) = 3.306621e+05\n",
      "    stopping criterion: RTOL\n",
      "Solution found after 101 iterations:\n",
      "    objective function f(sol) = 3.400470e+05\n",
      "    stopping criterion: RTOL\n",
      "Solution found after 100 iterations:\n",
      "    objective function f(sol) = 3.515945e+05\n",
      "    stopping criterion: RTOL\n",
      "Solution found after 100 iterations:\n",
      "    objective function f(sol) = 3.388821e+05\n",
      "    stopping criterion: RTOL\n",
      "Solution found after 13 iterations:\n",
      "    objective function f(sol) = 6.517191e+04\n",
      "    stopping criterion: RTOL\n",
      "Solution found after 13 iterations:\n",
      "    objective function f(sol) = 6.565370e+04\n",
      "    stopping criterion: RTOL\n",
      "Solution found after 101 iterations:\n",
      "    objective function f(sol) = 3.430064e+05\n",
      "    stopping criterion: RTOL\n",
      "Solution found after 13 iterations:\n",
      "    objective function f(sol) = 6.518152e+04\n",
      "    stopping criterion: RTOL\n",
      "Solution found after 13 iterations:\n",
      "    objective function f(sol) = 6.501920e+04\n",
      "    stopping criterion: RTOL\n",
      "Solution found after 13 iterations:\n",
      "    objective function f(sol) = 6.557822e+04\n",
      "    stopping criterion: RTOL\n",
      "Solution found after 100 iterations:\n",
      "    objective function f(sol) = 3.441220e+05\n",
      "    stopping criterion: RTOL\n",
      "Solution found after 100 iterations:\n",
      "    objective function f(sol) = 3.422734e+05\n",
      "    stopping criterion: RTOL\n",
      "Solution found after 100 iterations:\n",
      "    objective function f(sol) = 3.417713e+05\n",
      "    stopping criterion: RTOL\n",
      "Solution found after 13 iterations:\n",
      "    objective function f(sol) = 6.499281e+04\n",
      "    stopping criterion: RTOL\n"
     ]
    },
    {
     "name": "stdout",
     "output_type": "stream",
     "text": [
      "Solution found after 100 iterations:\n",
      "    objective function f(sol) = 3.422135e+05\n",
      "    stopping criterion: RTOL\n",
      "Solution found after 100 iterations:\n",
      "    objective function f(sol) = 3.341248e+05\n",
      "    stopping criterion: RTOL\n",
      "Solution found after 13 iterations:\n",
      "    objective function f(sol) = 6.495646e+04\n",
      "    stopping criterion: RTOL\n",
      "Solution found after 13 iterations:\n",
      "    objective function f(sol) = 6.471165e+04\n",
      "    stopping criterion: RTOL\n",
      "Solution found after 13 iterations:\n",
      "    objective function f(sol) = 6.458700e+04\n",
      "    stopping criterion: RTOL\n",
      "Solution found after 13 iterations:\n",
      "    objective function f(sol) = 6.563105e+04\n",
      "    stopping criterion: RTOL\n",
      "Solution found after 101 iterations:\n",
      "    objective function f(sol) = 3.419596e+05\n",
      "    stopping criterion: RTOL\n",
      "Solution found after 100 iterations:\n",
      "    objective function f(sol) = 3.426051e+05\n",
      "    stopping criterion: RTOL\n",
      "Solution found after 100 iterations:\n",
      "    objective function f(sol) = 3.370984e+05\n",
      "    stopping criterion: RTOL\n",
      "Solution found after 100 iterations:\n",
      "    objective function f(sol) = 3.403678e+05\n",
      "    stopping criterion: RTOL\n",
      "Solution found after 13 iterations:\n",
      "    objective function f(sol) = 6.450459e+04\n",
      "    stopping criterion: RTOL\n",
      "Solution found after 100 iterations:\n",
      "    objective function f(sol) = 3.392866e+05\n",
      "    stopping criterion: RTOL\n",
      "Solution found after 13 iterations:\n",
      "    objective function f(sol) = 6.516020e+04\n",
      "    stopping criterion: RTOL\n",
      "Solution found after 100 iterations:\n",
      "    objective function f(sol) = 3.443532e+05\n",
      "    stopping criterion: RTOL\n",
      "Solution found after 101 iterations:\n",
      "    objective function f(sol) = 3.371031e+05\n",
      "    stopping criterion: RTOL\n",
      "Solution found after 99 iterations:\n",
      "    objective function f(sol) = 3.433284e+05\n",
      "    stopping criterion: RTOL\n",
      "Solution found after 100 iterations:\n",
      "    objective function f(sol) = 3.499094e+05\n",
      "    stopping criterion: RTOL\n",
      "Solution found after 102 iterations:\n",
      "    objective function f(sol) = 3.286846e+05\n",
      "    stopping criterion: RTOL\n",
      "Solution found after 100 iterations:\n",
      "    objective function f(sol) = 3.481203e+05\n",
      "    stopping criterion: RTOL\n",
      "Solution found after 100 iterations:\n",
      "    objective function f(sol) = 3.259353e+05\n",
      "    stopping criterion: RTOL\n",
      "Solution found after 101 iterations:\n",
      "    objective function f(sol) = 3.313989e+05\n",
      "    stopping criterion: RTOL\n",
      "Solution found after 100 iterations:\n",
      "    objective function f(sol) = 3.375206e+05\n",
      "    stopping criterion: RTOL\n",
      "Solution found after 13 iterations:\n",
      "    objective function f(sol) = 6.499677e+04\n",
      "    stopping criterion: RTOL\n",
      "Solution found after 101 iterations:\n",
      "    objective function f(sol) = 3.374979e+05\n",
      "    stopping criterion: RTOL\n",
      "Solution found after 100 iterations:\n",
      "    objective function f(sol) = 3.316270e+05\n",
      "    stopping criterion: RTOL\n",
      "Solution found after 100 iterations:\n",
      "    objective function f(sol) = 3.399442e+05\n",
      "    stopping criterion: RTOL\n",
      "Solution found after 13 iterations:\n",
      "    objective function f(sol) = 6.409518e+04\n",
      "    stopping criterion: RTOL\n",
      "Solution found after 100 iterations:\n",
      "    objective function f(sol) = 3.357995e+05\n",
      "    stopping criterion: RTOL\n",
      "Solution found after 102 iterations:\n",
      "    objective function f(sol) = 3.300629e+05\n",
      "    stopping criterion: RTOL\n",
      "Solution found after 13 iterations:\n",
      "    objective function f(sol) = 6.581122e+04\n",
      "    stopping criterion: RTOL\n",
      "Solution found after 13 iterations:\n",
      "    objective function f(sol) = 6.468111e+04\n",
      "    stopping criterion: RTOL\n",
      "Solution found after 101 iterations:\n",
      "    objective function f(sol) = 3.335072e+05\n",
      "    stopping criterion: RTOL\n",
      "Solution found after 100 iterations:\n",
      "    objective function f(sol) = 3.381834e+05\n",
      "    stopping criterion: RTOL\n",
      "Solution found after 101 iterations:\n",
      "    objective function f(sol) = 3.310133e+05\n",
      "    stopping criterion: RTOL\n",
      "Solution found after 101 iterations:\n",
      "    objective function f(sol) = 3.435491e+05\n",
      "    stopping criterion: RTOL\n",
      "Solution found after 100 iterations:\n",
      "    objective function f(sol) = 3.377092e+05\n",
      "    stopping criterion: RTOL\n",
      "Solution found after 100 iterations:\n",
      "    objective function f(sol) = 3.437724e+05\n",
      "    stopping criterion: RTOL\n",
      "Solution found after 13 iterations:\n",
      "    objective function f(sol) = 6.543837e+04\n",
      "    stopping criterion: RTOL\n",
      "Solution found after 13 iterations:\n",
      "    objective function f(sol) = 6.446241e+04\n",
      "    stopping criterion: RTOL\n",
      "Solution found after 13 iterations:\n",
      "    objective function f(sol) = 6.577090e+04\n",
      "    stopping criterion: RTOL\n",
      "Solution found after 100 iterations:\n",
      "    objective function f(sol) = 3.458747e+05\n",
      "    stopping criterion: RTOL\n",
      "Solution found after 100 iterations:\n",
      "    objective function f(sol) = 3.396482e+05\n",
      "    stopping criterion: RTOL\n",
      "Solution found after 13 iterations:\n",
      "    objective function f(sol) = 6.539710e+04\n",
      "    stopping criterion: RTOL\n",
      "Solution found after 100 iterations:\n",
      "    objective function f(sol) = 3.460857e+05\n",
      "    stopping criterion: RTOL\n",
      "Solution found after 13 iterations:\n",
      "    objective function f(sol) = 6.518051e+04\n",
      "    stopping criterion: RTOL\n",
      "Solution found after 101 iterations:\n",
      "    objective function f(sol) = 3.452296e+05\n",
      "    stopping criterion: RTOL\n",
      "Solution found after 13 iterations:\n",
      "    objective function f(sol) = 6.520353e+04\n",
      "    stopping criterion: RTOL\n",
      "Solution found after 100 iterations:\n",
      "    objective function f(sol) = 3.458925e+05\n",
      "    stopping criterion: RTOL\n",
      "Solution found after 100 iterations:\n",
      "    objective function f(sol) = 3.437726e+05\n",
      "    stopping criterion: RTOL\n",
      "Solution found after 100 iterations:\n",
      "    objective function f(sol) = 3.397268e+05\n",
      "    stopping criterion: RTOL\n",
      "Solution found after 102 iterations:\n",
      "    objective function f(sol) = 3.390070e+05\n",
      "    stopping criterion: RTOL\n",
      "Solution found after 100 iterations:\n",
      "    objective function f(sol) = 3.441445e+05\n",
      "    stopping criterion: RTOL\n",
      "Solution found after 100 iterations:\n",
      "    objective function f(sol) = 3.359018e+05\n",
      "    stopping criterion: RTOL\n",
      "Solution found after 100 iterations:\n",
      "    objective function f(sol) = 3.336761e+05\n",
      "    stopping criterion: RTOL\n",
      "Solution found after 102 iterations:\n",
      "    objective function f(sol) = 3.279758e+05\n",
      "    stopping criterion: RTOL\n",
      "Solution found after 100 iterations:\n",
      "    objective function f(sol) = 3.466310e+05\n",
      "    stopping criterion: RTOL\n",
      "Solution found after 13 iterations:\n",
      "    objective function f(sol) = 6.512485e+04\n",
      "    stopping criterion: RTOL\n",
      "Solution found after 101 iterations:\n",
      "    objective function f(sol) = 3.359674e+05\n",
      "    stopping criterion: RTOL\n",
      "Solution found after 99 iterations:\n",
      "    objective function f(sol) = 3.446167e+05\n",
      "    stopping criterion: RTOL\n",
      "Solution found after 100 iterations:\n",
      "    objective function f(sol) = 3.413392e+05\n",
      "    stopping criterion: RTOL\n",
      "Solution found after 99 iterations:\n",
      "    objective function f(sol) = 3.392645e+05\n",
      "    stopping criterion: RTOL\n",
      "Solution found after 13 iterations:\n",
      "    objective function f(sol) = 6.468489e+04\n",
      "    stopping criterion: RTOL\n",
      "Solution found after 101 iterations:\n",
      "    objective function f(sol) = 3.452732e+05\n",
      "    stopping criterion: RTOL\n",
      "Solution found after 101 iterations:\n",
      "    objective function f(sol) = 3.394283e+05\n",
      "    stopping criterion: RTOL\n",
      "Solution found after 100 iterations:\n",
      "    objective function f(sol) = 3.273247e+05\n",
      "    stopping criterion: RTOL\n",
      "Solution found after 13 iterations:\n",
      "    objective function f(sol) = 6.543208e+04\n",
      "    stopping criterion: RTOL\n",
      "Solution found after 100 iterations:\n",
      "    objective function f(sol) = 3.381758e+05\n",
      "    stopping criterion: RTOL\n",
      "Solution found after 99 iterations:\n",
      "    objective function f(sol) = 3.452329e+05\n",
      "    stopping criterion: RTOL\n",
      "Solution found after 100 iterations:\n",
      "    objective function f(sol) = 3.360075e+05\n",
      "    stopping criterion: RTOL\n",
      "Solution found after 101 iterations:\n",
      "    objective function f(sol) = 3.354174e+05\n",
      "    stopping criterion: RTOL\n",
      "Solution found after 13 iterations:\n",
      "    objective function f(sol) = 6.479944e+04\n",
      "    stopping criterion: RTOL\n",
      "Solution found after 13 iterations:\n",
      "    objective function f(sol) = 6.494075e+04\n",
      "    stopping criterion: RTOL\n",
      "Solution found after 100 iterations:\n",
      "    objective function f(sol) = 3.403741e+05\n",
      "    stopping criterion: RTOL\n",
      "Solution found after 13 iterations:\n",
      "    objective function f(sol) = 6.531797e+04\n",
      "    stopping criterion: RTOL\n",
      "Solution found after 13 iterations:\n",
      "    objective function f(sol) = 6.535406e+04\n",
      "    stopping criterion: RTOL\n"
     ]
    },
    {
     "name": "stdout",
     "output_type": "stream",
     "text": [
      "Solution found after 13 iterations:\n",
      "    objective function f(sol) = 6.610781e+04\n",
      "    stopping criterion: RTOL\n",
      "Solution found after 100 iterations:\n",
      "    objective function f(sol) = 3.473119e+05\n",
      "    stopping criterion: RTOL\n",
      "Solution found after 13 iterations:\n",
      "    objective function f(sol) = 6.556945e+04\n",
      "    stopping criterion: RTOL\n",
      "Solution found after 13 iterations:\n",
      "    objective function f(sol) = 6.458676e+04\n",
      "    stopping criterion: RTOL\n",
      "Solution found after 100 iterations:\n",
      "    objective function f(sol) = 3.475213e+05\n",
      "    stopping criterion: RTOL\n",
      "Solution found after 13 iterations:\n",
      "    objective function f(sol) = 6.449699e+04\n",
      "    stopping criterion: RTOL\n",
      "Solution found after 13 iterations:\n",
      "    objective function f(sol) = 6.574219e+04\n",
      "    stopping criterion: RTOL\n",
      "Solution found after 13 iterations:\n",
      "    objective function f(sol) = 6.573215e+04\n",
      "    stopping criterion: RTOL\n",
      "Solution found after 100 iterations:\n",
      "    objective function f(sol) = 3.385675e+05\n",
      "    stopping criterion: RTOL\n",
      "Solution found after 100 iterations:\n",
      "    objective function f(sol) = 3.427244e+05\n",
      "    stopping criterion: RTOL\n",
      "Solution found after 100 iterations:\n",
      "    objective function f(sol) = 3.488157e+05\n",
      "    stopping criterion: RTOL\n",
      "Solution found after 13 iterations:\n",
      "    objective function f(sol) = 6.466432e+04\n",
      "    stopping criterion: RTOL\n",
      "Solution found after 13 iterations:\n",
      "    objective function f(sol) = 6.483511e+04\n",
      "    stopping criterion: RTOL\n",
      "Solution found after 100 iterations:\n",
      "    objective function f(sol) = 3.366181e+05\n",
      "    stopping criterion: RTOL\n",
      "Solution found after 13 iterations:\n",
      "    objective function f(sol) = 6.561380e+04\n",
      "    stopping criterion: RTOL\n",
      "Solution found after 100 iterations:\n",
      "    objective function f(sol) = 3.390017e+05\n",
      "    stopping criterion: RTOL\n",
      "Solution found after 100 iterations:\n",
      "    objective function f(sol) = 3.395986e+05\n",
      "    stopping criterion: RTOL\n",
      "Solution found after 100 iterations:\n",
      "    objective function f(sol) = 3.454158e+05\n",
      "    stopping criterion: RTOL\n",
      "Solution found after 101 iterations:\n",
      "    objective function f(sol) = 3.371593e+05\n",
      "    stopping criterion: RTOL\n",
      "Solution found after 100 iterations:\n",
      "    objective function f(sol) = 3.354886e+05\n",
      "    stopping criterion: RTOL\n",
      "Solution found after 101 iterations:\n",
      "    objective function f(sol) = 3.364541e+05\n",
      "    stopping criterion: RTOL\n",
      "Solution found after 13 iterations:\n",
      "    objective function f(sol) = 6.490833e+04\n",
      "    stopping criterion: RTOL\n",
      "Solution found after 13 iterations:\n",
      "    objective function f(sol) = 6.602138e+04\n",
      "    stopping criterion: RTOL\n",
      "Solution found after 100 iterations:\n",
      "    objective function f(sol) = 3.348661e+05\n",
      "    stopping criterion: RTOL\n",
      "Solution found after 101 iterations:\n",
      "    objective function f(sol) = 3.403888e+05\n",
      "    stopping criterion: RTOL\n",
      "Solution found after 100 iterations:\n",
      "    objective function f(sol) = 3.538156e+05\n",
      "    stopping criterion: RTOL\n",
      "Solution found after 100 iterations:\n",
      "    objective function f(sol) = 3.382494e+05\n",
      "    stopping criterion: RTOL\n",
      "Solution found after 100 iterations:\n",
      "    objective function f(sol) = 3.376899e+05\n",
      "    stopping criterion: RTOL\n",
      "Solution found after 13 iterations:\n",
      "    objective function f(sol) = 6.503313e+04\n",
      "    stopping criterion: RTOL\n",
      "Solution found after 100 iterations:\n",
      "    objective function f(sol) = 3.351131e+05\n",
      "    stopping criterion: RTOL\n",
      "Solution found after 101 iterations:\n",
      "    objective function f(sol) = 3.335162e+05\n",
      "    stopping criterion: RTOL\n",
      "Solution found after 100 iterations:\n",
      "    objective function f(sol) = 3.446625e+05\n",
      "    stopping criterion: RTOL\n",
      "Solution found after 101 iterations:\n",
      "    objective function f(sol) = 3.351549e+05\n",
      "    stopping criterion: RTOL\n",
      "Solution found after 101 iterations:\n",
      "    objective function f(sol) = 3.305489e+05\n",
      "    stopping criterion: RTOL\n",
      "Solution found after 101 iterations:\n",
      "    objective function f(sol) = 3.377614e+05\n",
      "    stopping criterion: RTOL\n",
      "Solution found after 100 iterations:\n",
      "    objective function f(sol) = 3.454310e+05\n",
      "    stopping criterion: RTOL\n",
      "Solution found after 13 iterations:\n",
      "    objective function f(sol) = 6.472211e+04\n",
      "    stopping criterion: RTOL\n",
      "Solution found after 100 iterations:\n",
      "    objective function f(sol) = 3.373437e+05\n",
      "    stopping criterion: RTOL\n",
      "Solution found after 100 iterations:\n",
      "    objective function f(sol) = 3.354048e+05\n",
      "    stopping criterion: RTOL\n",
      "Solution found after 100 iterations:\n",
      "    objective function f(sol) = 3.366122e+05\n",
      "    stopping criterion: RTOL\n",
      "Solution found after 13 iterations:\n",
      "    objective function f(sol) = 6.460134e+04\n",
      "    stopping criterion: RTOL\n",
      "Solution found after 13 iterations:\n",
      "    objective function f(sol) = 6.580350e+04\n",
      "    stopping criterion: RTOL\n",
      "Solution found after 100 iterations:\n",
      "    objective function f(sol) = 3.435959e+05\n",
      "    stopping criterion: RTOL\n",
      "Solution found after 101 iterations:\n",
      "    objective function f(sol) = 3.469933e+05\n",
      "    stopping criterion: RTOL\n",
      "Solution found after 100 iterations:\n",
      "    objective function f(sol) = 3.446800e+05\n",
      "    stopping criterion: RTOL\n",
      "Solution found after 100 iterations:\n",
      "    objective function f(sol) = 3.338234e+05\n",
      "    stopping criterion: RTOL\n",
      "Solution found after 100 iterations:\n",
      "    objective function f(sol) = 3.389619e+05\n",
      "    stopping criterion: RTOL\n",
      "Solution found after 13 iterations:\n",
      "    objective function f(sol) = 6.592510e+04\n",
      "    stopping criterion: RTOL\n",
      "Solution found after 13 iterations:\n",
      "    objective function f(sol) = 6.528542e+04\n",
      "    stopping criterion: RTOL\n",
      "Solution found after 13 iterations:\n",
      "    objective function f(sol) = 6.540075e+04\n",
      "    stopping criterion: RTOL\n",
      "Solution found after 100 iterations:\n",
      "    objective function f(sol) = 3.417983e+05\n",
      "    stopping criterion: RTOL\n",
      "Solution found after 13 iterations:\n",
      "    objective function f(sol) = 6.567475e+04\n",
      "    stopping criterion: RTOL\n",
      "Solution found after 13 iterations:\n",
      "    objective function f(sol) = 6.531605e+04\n",
      "    stopping criterion: RTOL\n",
      "Solution found after 13 iterations:\n",
      "    objective function f(sol) = 6.503625e+04\n",
      "    stopping criterion: RTOL\n",
      "Solution found after 100 iterations:\n",
      "    objective function f(sol) = 3.361787e+05\n",
      "    stopping criterion: RTOL\n",
      "Solution found after 13 iterations:\n",
      "    objective function f(sol) = 6.515678e+04\n",
      "    stopping criterion: RTOL\n",
      "Solution found after 100 iterations:\n",
      "    objective function f(sol) = 3.493302e+05\n",
      "    stopping criterion: RTOL\n",
      "Solution found after 100 iterations:\n",
      "    objective function f(sol) = 3.400398e+05\n",
      "    stopping criterion: RTOL\n",
      "Solution found after 99 iterations:\n",
      "    objective function f(sol) = 3.441725e+05\n",
      "    stopping criterion: RTOL\n",
      "Solution found after 100 iterations:\n",
      "    objective function f(sol) = 3.408586e+05\n",
      "    stopping criterion: RTOL\n",
      "Solution found after 101 iterations:\n",
      "    objective function f(sol) = 3.381403e+05\n",
      "    stopping criterion: RTOL\n",
      "Solution found after 100 iterations:\n",
      "    objective function f(sol) = 3.411089e+05\n",
      "    stopping criterion: RTOL\n",
      "Solution found after 100 iterations:\n",
      "    objective function f(sol) = 3.353626e+05\n",
      "    stopping criterion: RTOL\n",
      "Solution found after 100 iterations:\n",
      "    objective function f(sol) = 3.358056e+05\n",
      "    stopping criterion: RTOL\n",
      "Solution found after 100 iterations:\n",
      "    objective function f(sol) = 3.341518e+05\n",
      "    stopping criterion: RTOL\n",
      "Solution found after 13 iterations:\n",
      "    objective function f(sol) = 6.472816e+04\n",
      "    stopping criterion: RTOL\n",
      "Solution found after 100 iterations:\n",
      "    objective function f(sol) = 3.267489e+05\n",
      "    stopping criterion: RTOL\n",
      "Solution found after 100 iterations:\n",
      "    objective function f(sol) = 3.331259e+05\n",
      "    stopping criterion: RTOL\n",
      "Solution found after 101 iterations:\n",
      "    objective function f(sol) = 3.419608e+05\n",
      "    stopping criterion: RTOL\n"
     ]
    },
    {
     "ename": "KeyboardInterrupt",
     "evalue": "",
     "output_type": "error",
     "traceback": [
      "\u001b[0;31m---------------------------------------------------------------------------\u001b[0m",
      "\u001b[0;31mKeyboardInterrupt\u001b[0m                         Traceback (most recent call last)",
      "\u001b[0;32m<ipython-input-51-c6b476e034af>\u001b[0m in \u001b[0;36m<module>\u001b[0;34m()\u001b[0m\n\u001b[1;32m      3\u001b[0m \u001b[0mthresholds\u001b[0m \u001b[0;34m=\u001b[0m \u001b[0;34m[\u001b[0m\u001b[0;34m-\u001b[0m\u001b[0;36m0.9\u001b[0m\u001b[0;34m,\u001b[0m \u001b[0;34m-\u001b[0m\u001b[0;36m0.45\u001b[0m\u001b[0;34m,\u001b[0m \u001b[0;36m0\u001b[0m\u001b[0;34m,\u001b[0m \u001b[0;36m0.45\u001b[0m\u001b[0;34m,\u001b[0m \u001b[0;36m0.9\u001b[0m\u001b[0;34m]\u001b[0m\u001b[0;34m\u001b[0m\u001b[0m\n\u001b[1;32m      4\u001b[0m \u001b[0;34m\u001b[0m\u001b[0m\n\u001b[0;32m----> 5\u001b[0;31m \u001b[0mpt_matrix_1norm\u001b[0m \u001b[0;34m=\u001b[0m \u001b[0mphase_transition\u001b[0m\u001b[0;34m(\u001b[0m\u001b[0mmn_ratios\u001b[0m\u001b[0;34m,\u001b[0m \u001b[0mthresholds\u001b[0m\u001b[0;34m,\u001b[0m \u001b[0;36m20\u001b[0m\u001b[0;34m,\u001b[0m \u001b[0mlabels_bin\u001b[0m\u001b[0;34m,\u001b[0m \u001b[0mp\u001b[0m\u001b[0;34m=\u001b[0m\u001b[0;36m1\u001b[0m\u001b[0;34m)\u001b[0m\u001b[0;34m\u001b[0m\u001b[0m\n\u001b[0m\u001b[1;32m      6\u001b[0m \u001b[0;34m\u001b[0m\u001b[0m\n\u001b[1;32m      7\u001b[0m \u001b[0mpt_matrix_2norm\u001b[0m \u001b[0;34m=\u001b[0m \u001b[0mphase_transition\u001b[0m\u001b[0;34m(\u001b[0m\u001b[0mmn_ratios\u001b[0m\u001b[0;34m,\u001b[0m \u001b[0mthresholds\u001b[0m\u001b[0;34m,\u001b[0m \u001b[0;36m20\u001b[0m\u001b[0;34m,\u001b[0m \u001b[0mlabels_bin\u001b[0m\u001b[0;34m,\u001b[0m \u001b[0mp\u001b[0m\u001b[0;34m=\u001b[0m\u001b[0;36m2\u001b[0m\u001b[0;34m)\u001b[0m\u001b[0;34m\u001b[0m\u001b[0m\n",
      "\u001b[0;32m<ipython-input-50-5d3d302ae6d2>\u001b[0m in \u001b[0;36mphase_transition\u001b[0;34m(mn_ratios, thresholds, n_trials, labels_bin, p)\u001b[0m\n\u001b[1;32m     15\u001b[0m                 \u001b[0;31m# Solve p-norm interpolation.\u001b[0m\u001b[0;34m\u001b[0m\u001b[0;34m\u001b[0m\u001b[0m\n\u001b[1;32m     16\u001b[0m                 \u001b[0mx0\u001b[0m \u001b[0;34m=\u001b[0m \u001b[0mnp\u001b[0m\u001b[0;34m.\u001b[0m\u001b[0mrandom\u001b[0m\u001b[0;34m.\u001b[0m\u001b[0mrandn\u001b[0m\u001b[0;34m(\u001b[0m\u001b[0mn_nodes\u001b[0m\u001b[0;34m)\u001b[0m\u001b[0;34m\u001b[0m\u001b[0m\n\u001b[0;32m---> 17\u001b[0;31m                 \u001b[0msol\u001b[0m \u001b[0;34m=\u001b[0m \u001b[0mgraph_pnorm_interpolation\u001b[0m\u001b[0;34m(\u001b[0m\u001b[0mgradient_\u001b[0m\u001b[0;34m,\u001b[0m \u001b[0mP\u001b[0m\u001b[0;34m,\u001b[0m \u001b[0mx0\u001b[0m\u001b[0;34m=\u001b[0m\u001b[0mx0\u001b[0m\u001b[0;34m,\u001b[0m \u001b[0mp\u001b[0m\u001b[0;34m=\u001b[0m\u001b[0mp\u001b[0m\u001b[0;34m)\u001b[0m\u001b[0;34m\u001b[0m\u001b[0m\n\u001b[0m\u001b[1;32m     18\u001b[0m                 \u001b[0merr\u001b[0m\u001b[0;34m[\u001b[0m\u001b[0mt\u001b[0m\u001b[0;34m]\u001b[0m \u001b[0;34m=\u001b[0m \u001b[0mnp\u001b[0m\u001b[0;34m.\u001b[0m\u001b[0mlinalg\u001b[0m\u001b[0;34m.\u001b[0m\u001b[0mnorm\u001b[0m\u001b[0;34m(\u001b[0m\u001b[0mlabels_bin\u001b[0m \u001b[0;34m-\u001b[0m \u001b[0msol\u001b[0m\u001b[0;34m)\u001b[0m \u001b[0;34m/\u001b[0m \u001b[0mnp\u001b[0m\u001b[0;34m.\u001b[0m\u001b[0mlinalg\u001b[0m\u001b[0;34m.\u001b[0m\u001b[0mnorm\u001b[0m\u001b[0;34m(\u001b[0m\u001b[0mlabels_bin\u001b[0m\u001b[0;34m)\u001b[0m\u001b[0;34m\u001b[0m\u001b[0m\n\u001b[1;32m     19\u001b[0m \u001b[0;34m\u001b[0m\u001b[0m\n",
      "\u001b[0;32m<ipython-input-30-0c3596b41330>\u001b[0m in \u001b[0;36mgraph_pnorm_interpolation\u001b[0;34m(gradient, P, x0, p, **kwargs)\u001b[0m\n\u001b[1;32m     53\u001b[0m \u001b[0;34m\u001b[0m\u001b[0m\n\u001b[1;32m     54\u001b[0m     \u001b[0;32mif\u001b[0m \u001b[0mp\u001b[0m \u001b[0;34m==\u001b[0m \u001b[0;36m1.\u001b[0m\u001b[0;34m:\u001b[0m\u001b[0;34m\u001b[0m\u001b[0m\n\u001b[0;32m---> 55\u001b[0;31m         \u001b[0mproblem\u001b[0m \u001b[0;34m=\u001b[0m \u001b[0msolvers\u001b[0m\u001b[0;34m.\u001b[0m\u001b[0msolve\u001b[0m\u001b[0;34m(\u001b[0m\u001b[0;34m[\u001b[0m\u001b[0mf\u001b[0m\u001b[0;34m,\u001b[0m \u001b[0mg\u001b[0m\u001b[0;34m,\u001b[0m \u001b[0mfunctions\u001b[0m\u001b[0;34m.\u001b[0m\u001b[0mdummy\u001b[0m\u001b[0;34m(\u001b[0m\u001b[0;34m)\u001b[0m\u001b[0;34m]\u001b[0m\u001b[0;34m,\u001b[0m \u001b[0mx0\u001b[0m\u001b[0;34m=\u001b[0m\u001b[0mx0\u001b[0m\u001b[0;34m,\u001b[0m \u001b[0msolver\u001b[0m\u001b[0;34m=\u001b[0m\u001b[0msolver\u001b[0m\u001b[0;34m,\u001b[0m \u001b[0;34m**\u001b[0m\u001b[0mkwargs\u001b[0m\u001b[0;34m)\u001b[0m\u001b[0;34m\u001b[0m\u001b[0m\n\u001b[0m\u001b[1;32m     56\u001b[0m         \u001b[0;32mreturn\u001b[0m \u001b[0mproblem\u001b[0m\u001b[0;34m[\u001b[0m\u001b[0;34m'sol'\u001b[0m\u001b[0;34m]\u001b[0m\u001b[0;34m\u001b[0m\u001b[0m\n\u001b[1;32m     57\u001b[0m     \u001b[0;32mif\u001b[0m \u001b[0mp\u001b[0m \u001b[0;34m==\u001b[0m \u001b[0;36m2.\u001b[0m\u001b[0;34m:\u001b[0m\u001b[0;34m\u001b[0m\u001b[0m\n",
      "\u001b[0;32m/anaconda3/lib/python3.7/site-packages/pyunlocbox/solvers.py\u001b[0m in \u001b[0;36msolve\u001b[0;34m(functions, x0, solver, atol, dtol, rtol, xtol, maxit, verbosity)\u001b[0m\n\u001b[1;32m    262\u001b[0m \u001b[0;34m\u001b[0m\u001b[0m\n\u001b[1;32m    263\u001b[0m         \u001b[0;31m# Solver iterative algorithm.\u001b[0m\u001b[0;34m\u001b[0m\u001b[0;34m\u001b[0m\u001b[0m\n\u001b[0;32m--> 264\u001b[0;31m         \u001b[0msolver\u001b[0m\u001b[0;34m.\u001b[0m\u001b[0malgo\u001b[0m\u001b[0;34m(\u001b[0m\u001b[0mobjective\u001b[0m\u001b[0;34m,\u001b[0m \u001b[0mniter\u001b[0m\u001b[0;34m)\u001b[0m\u001b[0;34m\u001b[0m\u001b[0m\n\u001b[0m\u001b[1;32m    265\u001b[0m \u001b[0;34m\u001b[0m\u001b[0m\n\u001b[1;32m    266\u001b[0m         \u001b[0mobjective\u001b[0m\u001b[0;34m.\u001b[0m\u001b[0mappend\u001b[0m\u001b[0;34m(\u001b[0m\u001b[0;34m[\u001b[0m\u001b[0mf\u001b[0m\u001b[0;34m.\u001b[0m\u001b[0meval\u001b[0m\u001b[0;34m(\u001b[0m\u001b[0msolver\u001b[0m\u001b[0;34m.\u001b[0m\u001b[0msol\u001b[0m\u001b[0;34m)\u001b[0m \u001b[0;32mfor\u001b[0m \u001b[0mf\u001b[0m \u001b[0;32min\u001b[0m \u001b[0mfunctions\u001b[0m\u001b[0;34m]\u001b[0m\u001b[0;34m)\u001b[0m\u001b[0;34m\u001b[0m\u001b[0m\n",
      "\u001b[0;32m/anaconda3/lib/python3.7/site-packages/pyunlocbox/solvers.py\u001b[0m in \u001b[0;36malgo\u001b[0;34m(self, objective, niter)\u001b[0m\n\u001b[1;32m    406\u001b[0m         \u001b[0mself\u001b[0m\u001b[0;34m.\u001b[0m\u001b[0msol\u001b[0m\u001b[0;34m[\u001b[0m\u001b[0;34m:\u001b[0m\u001b[0;34m]\u001b[0m \u001b[0;34m=\u001b[0m \u001b[0mself\u001b[0m\u001b[0;34m.\u001b[0m\u001b[0maccel\u001b[0m\u001b[0;34m.\u001b[0m\u001b[0mupdate_sol\u001b[0m\u001b[0;34m(\u001b[0m\u001b[0mself\u001b[0m\u001b[0;34m,\u001b[0m \u001b[0mobjective\u001b[0m\u001b[0;34m,\u001b[0m \u001b[0mniter\u001b[0m\u001b[0;34m)\u001b[0m\u001b[0;34m\u001b[0m\u001b[0m\n\u001b[1;32m    407\u001b[0m         \u001b[0mself\u001b[0m\u001b[0;34m.\u001b[0m\u001b[0mstep\u001b[0m \u001b[0;34m=\u001b[0m \u001b[0mself\u001b[0m\u001b[0;34m.\u001b[0m\u001b[0maccel\u001b[0m\u001b[0;34m.\u001b[0m\u001b[0mupdate_step\u001b[0m\u001b[0;34m(\u001b[0m\u001b[0mself\u001b[0m\u001b[0;34m,\u001b[0m \u001b[0mobjective\u001b[0m\u001b[0;34m,\u001b[0m \u001b[0mniter\u001b[0m\u001b[0;34m)\u001b[0m\u001b[0;34m\u001b[0m\u001b[0m\n\u001b[0;32m--> 408\u001b[0;31m         \u001b[0mself\u001b[0m\u001b[0;34m.\u001b[0m\u001b[0m_algo\u001b[0m\u001b[0;34m(\u001b[0m\u001b[0;34m)\u001b[0m\u001b[0;34m\u001b[0m\u001b[0m\n\u001b[0m\u001b[1;32m    409\u001b[0m \u001b[0;34m\u001b[0m\u001b[0m\n\u001b[1;32m    410\u001b[0m     \u001b[0;32mdef\u001b[0m \u001b[0m_algo\u001b[0m\u001b[0;34m(\u001b[0m\u001b[0mself\u001b[0m\u001b[0;34m)\u001b[0m\u001b[0;34m:\u001b[0m\u001b[0;34m\u001b[0m\u001b[0m\n",
      "\u001b[0;32m/anaconda3/lib/python3.7/site-packages/pyunlocbox/solvers.py\u001b[0m in \u001b[0;36m_algo\u001b[0;34m(self)\u001b[0m\n\u001b[1;32m    853\u001b[0m         y1 = self.sol - self.step * (self.smooth_funs[0].grad(self.sol) +\n\u001b[1;32m    854\u001b[0m                                      self.Lt(self.dual_sol))\n\u001b[0;32m--> 855\u001b[0;31m         \u001b[0my2\u001b[0m \u001b[0;34m=\u001b[0m \u001b[0mself\u001b[0m\u001b[0;34m.\u001b[0m\u001b[0mdual_sol\u001b[0m \u001b[0;34m+\u001b[0m \u001b[0mself\u001b[0m\u001b[0;34m.\u001b[0m\u001b[0mstep\u001b[0m \u001b[0;34m*\u001b[0m \u001b[0mself\u001b[0m\u001b[0;34m.\u001b[0m\u001b[0mL\u001b[0m\u001b[0;34m(\u001b[0m\u001b[0mself\u001b[0m\u001b[0;34m.\u001b[0m\u001b[0msol\u001b[0m\u001b[0;34m)\u001b[0m\u001b[0;34m\u001b[0m\u001b[0m\n\u001b[0m\u001b[1;32m    856\u001b[0m \u001b[0;34m\u001b[0m\u001b[0m\n\u001b[1;32m    857\u001b[0m         \u001b[0;31m# Backward steps (in both primal and dual spaces)\u001b[0m\u001b[0;34m\u001b[0m\u001b[0;34m\u001b[0m\u001b[0m\n",
      "\u001b[0;32m<ipython-input-30-0c3596b41330>\u001b[0m in \u001b[0;36m<lambda>\u001b[0;34m(z)\u001b[0m\n\u001b[1;32m     32\u001b[0m     \"\"\"\n\u001b[1;32m     33\u001b[0m \u001b[0;34m\u001b[0m\u001b[0m\n\u001b[0;32m---> 34\u001b[0;31m     \u001b[0mgrad\u001b[0m \u001b[0;34m=\u001b[0m \u001b[0;32mlambda\u001b[0m \u001b[0mz\u001b[0m\u001b[0;34m:\u001b[0m \u001b[0mgradient\u001b[0m\u001b[0;34m.\u001b[0m\u001b[0mdot\u001b[0m\u001b[0;34m(\u001b[0m\u001b[0mz\u001b[0m\u001b[0;34m)\u001b[0m\u001b[0;34m\u001b[0m\u001b[0m\n\u001b[0m\u001b[1;32m     35\u001b[0m     \u001b[0mdiv\u001b[0m \u001b[0;34m=\u001b[0m \u001b[0;32mlambda\u001b[0m \u001b[0mz\u001b[0m\u001b[0;34m:\u001b[0m \u001b[0mgradient\u001b[0m\u001b[0;34m.\u001b[0m\u001b[0mtranspose\u001b[0m\u001b[0;34m(\u001b[0m\u001b[0;34m)\u001b[0m\u001b[0;34m.\u001b[0m\u001b[0mdot\u001b[0m\u001b[0;34m(\u001b[0m\u001b[0mz\u001b[0m\u001b[0;34m)\u001b[0m\u001b[0;34m\u001b[0m\u001b[0m\n\u001b[1;32m     36\u001b[0m \u001b[0;34m\u001b[0m\u001b[0m\n",
      "\u001b[0;32m/anaconda3/lib/python3.7/site-packages/scipy/sparse/base.py\u001b[0m in \u001b[0;36mdot\u001b[0;34m(self, other)\u001b[0m\n\u001b[1;32m    359\u001b[0m \u001b[0;34m\u001b[0m\u001b[0m\n\u001b[1;32m    360\u001b[0m         \"\"\"\n\u001b[0;32m--> 361\u001b[0;31m         \u001b[0;32mreturn\u001b[0m \u001b[0mself\u001b[0m \u001b[0;34m*\u001b[0m \u001b[0mother\u001b[0m\u001b[0;34m\u001b[0m\u001b[0m\n\u001b[0m\u001b[1;32m    362\u001b[0m \u001b[0;34m\u001b[0m\u001b[0m\n\u001b[1;32m    363\u001b[0m     \u001b[0;32mdef\u001b[0m \u001b[0mpower\u001b[0m\u001b[0;34m(\u001b[0m\u001b[0mself\u001b[0m\u001b[0;34m,\u001b[0m \u001b[0mn\u001b[0m\u001b[0;34m,\u001b[0m \u001b[0mdtype\u001b[0m\u001b[0;34m=\u001b[0m\u001b[0;32mNone\u001b[0m\u001b[0;34m)\u001b[0m\u001b[0;34m:\u001b[0m\u001b[0;34m\u001b[0m\u001b[0m\n",
      "\u001b[0;32m/anaconda3/lib/python3.7/site-packages/scipy/sparse/base.py\u001b[0m in \u001b[0;36m__mul__\u001b[0;34m(self, other)\u001b[0m\n\u001b[1;32m    464\u001b[0m             \u001b[0;31m# Fast path for the most common case\u001b[0m\u001b[0;34m\u001b[0m\u001b[0;34m\u001b[0m\u001b[0m\n\u001b[1;32m    465\u001b[0m             \u001b[0;32mif\u001b[0m \u001b[0mother\u001b[0m\u001b[0;34m.\u001b[0m\u001b[0mshape\u001b[0m \u001b[0;34m==\u001b[0m \u001b[0;34m(\u001b[0m\u001b[0mN\u001b[0m\u001b[0;34m,\u001b[0m\u001b[0;34m)\u001b[0m\u001b[0;34m:\u001b[0m\u001b[0;34m\u001b[0m\u001b[0m\n\u001b[0;32m--> 466\u001b[0;31m                 \u001b[0;32mreturn\u001b[0m \u001b[0mself\u001b[0m\u001b[0;34m.\u001b[0m\u001b[0m_mul_vector\u001b[0m\u001b[0;34m(\u001b[0m\u001b[0mother\u001b[0m\u001b[0;34m)\u001b[0m\u001b[0;34m\u001b[0m\u001b[0m\n\u001b[0m\u001b[1;32m    467\u001b[0m             \u001b[0;32melif\u001b[0m \u001b[0mother\u001b[0m\u001b[0;34m.\u001b[0m\u001b[0mshape\u001b[0m \u001b[0;34m==\u001b[0m \u001b[0;34m(\u001b[0m\u001b[0mN\u001b[0m\u001b[0;34m,\u001b[0m \u001b[0;36m1\u001b[0m\u001b[0;34m)\u001b[0m\u001b[0;34m:\u001b[0m\u001b[0;34m\u001b[0m\u001b[0m\n\u001b[1;32m    468\u001b[0m                 \u001b[0;32mreturn\u001b[0m \u001b[0mself\u001b[0m\u001b[0;34m.\u001b[0m\u001b[0m_mul_vector\u001b[0m\u001b[0;34m(\u001b[0m\u001b[0mother\u001b[0m\u001b[0;34m.\u001b[0m\u001b[0mravel\u001b[0m\u001b[0;34m(\u001b[0m\u001b[0;34m)\u001b[0m\u001b[0;34m)\u001b[0m\u001b[0;34m.\u001b[0m\u001b[0mreshape\u001b[0m\u001b[0;34m(\u001b[0m\u001b[0mM\u001b[0m\u001b[0;34m,\u001b[0m \u001b[0;36m1\u001b[0m\u001b[0;34m)\u001b[0m\u001b[0;34m\u001b[0m\u001b[0m\n",
      "\u001b[0;32m/anaconda3/lib/python3.7/site-packages/scipy/sparse/compressed.py\u001b[0m in \u001b[0;36m_mul_vector\u001b[0;34m(self, other)\u001b[0m\n\u001b[1;32m    458\u001b[0m         \u001b[0;31m# csr_matvec or csc_matvec\u001b[0m\u001b[0;34m\u001b[0m\u001b[0;34m\u001b[0m\u001b[0m\n\u001b[1;32m    459\u001b[0m         \u001b[0mfn\u001b[0m \u001b[0;34m=\u001b[0m \u001b[0mgetattr\u001b[0m\u001b[0;34m(\u001b[0m\u001b[0m_sparsetools\u001b[0m\u001b[0;34m,\u001b[0m\u001b[0mself\u001b[0m\u001b[0;34m.\u001b[0m\u001b[0mformat\u001b[0m \u001b[0;34m+\u001b[0m \u001b[0;34m'_matvec'\u001b[0m\u001b[0;34m)\u001b[0m\u001b[0;34m\u001b[0m\u001b[0m\n\u001b[0;32m--> 460\u001b[0;31m         \u001b[0mfn\u001b[0m\u001b[0;34m(\u001b[0m\u001b[0mM\u001b[0m\u001b[0;34m,\u001b[0m \u001b[0mN\u001b[0m\u001b[0;34m,\u001b[0m \u001b[0mself\u001b[0m\u001b[0;34m.\u001b[0m\u001b[0mindptr\u001b[0m\u001b[0;34m,\u001b[0m \u001b[0mself\u001b[0m\u001b[0;34m.\u001b[0m\u001b[0mindices\u001b[0m\u001b[0;34m,\u001b[0m \u001b[0mself\u001b[0m\u001b[0;34m.\u001b[0m\u001b[0mdata\u001b[0m\u001b[0;34m,\u001b[0m \u001b[0mother\u001b[0m\u001b[0;34m,\u001b[0m \u001b[0mresult\u001b[0m\u001b[0;34m)\u001b[0m\u001b[0;34m\u001b[0m\u001b[0m\n\u001b[0m\u001b[1;32m    461\u001b[0m \u001b[0;34m\u001b[0m\u001b[0m\n\u001b[1;32m    462\u001b[0m         \u001b[0;32mreturn\u001b[0m \u001b[0mresult\u001b[0m\u001b[0;34m\u001b[0m\u001b[0m\n",
      "\u001b[0;31mKeyboardInterrupt\u001b[0m: "
     ]
    }
   ],
   "source": [
    "mn_ratios = [0.15, 0.3, 0.45, 0.6, 0.75]\n",
    "\n",
    "thresholds = [-0.4, -0.2, 0, 0.2, 0.4]\n",
    "\n",
    "pt_matrix_1norm = phase_transition(mn_ratios, thresholds, 20, labels_bin, p=1)\n",
    "\n",
    "pt_matrix_2norm = phase_transition(mn_ratios, thresholds, 20, labels_bin, p=2)"
   ]
  },
  {
   "cell_type": "markdown",
   "metadata": {},
   "source": [
    "Plot both phase transition matrices as images with a colorbar. Make sure to properly name the axes and title the images. "
   ]
  },
  {
   "cell_type": "code",
   "execution_count": null,
   "metadata": {
    "inputHidden": false,
    "outputHidden": false
   },
   "outputs": [],
   "source": [
    "# Your code here.\n",
    "names_x = ['Ratio: '+str(0.15), 'Ratio: '+str(0.3), 'Ratio: '+str(0.45), 'Ratio: '+str(0.6), 'Ratio: '+str(0.75)]\n",
    "names_y = ['Thresh: '+str(-0.9), 'Thresh: '+str(-0.45), 'Thresh: '+str(0), 'Thresh: '+str(0.45), 'Thresh: '+str(0.9)]\n",
    "\n",
    "fig, (ax1, ax2) = plt.subplots(1, 2, figsize=(17, 5.1))\n",
    "fig.suptitle(\"Phase transition matrices\", y=1.45, fontweight=\"bold\")\n",
    "\n",
    "im1 = ax1.imshow(pt_matrix_1norm, cmap='Reds')\n",
    "\n",
    "# We want to show all ticks...\n",
    "ax1.set_xticks(np.arange(len(names_x)))\n",
    "ax1.set_yticks(np.arange(len(names_y)))\n",
    "# ... and label them with the respective list entries\n",
    "ax1.set_xticklabels(names_x)\n",
    "ax1.set_yticklabels(names_y)\n",
    "ax1.set_title('Norm p = 1', y=1.35)\n",
    "\n",
    "im2 = ax2.imshow(pt_matrix_2norm, cmap='Reds')\n",
    "\n",
    "# We want to show all ticks...\n",
    "ax2.set_xticks(np.arange(len(names_x)))\n",
    "ax2.set_yticks(np.arange(len(names_y)))\n",
    "# ... and label them with the respective list entries\n",
    "ax2.set_xticklabels(names_x)\n",
    "ax2.set_yticklabels(names_y)\n",
    "ax2.set_title('Norm p = 2', y=1.35)\n",
    "\n",
    "fig.colorbar(im2)\n",
    "plt.show()"
   ]
  },
  {
   "cell_type": "markdown",
   "metadata": {},
   "source": [
    "### Question 18\n",
    "\n",
    "Do the phase transition plots above provide any justification for choosing one $p-$norm interpolation over the other? Why?"
   ]
  },
  {
   "cell_type": "markdown",
   "metadata": {},
   "source": [
    "**Your answer here.**\n",
    "\n",
    "No."
   ]
  }
 ],
 "metadata": {
  "kernel_info": {
   "name": "python3"
  },
  "kernelspec": {
   "display_name": "Python 3",
   "language": "python",
   "name": "python3"
  },
  "language_info": {
   "codemirror_mode": {
    "name": "ipython",
    "version": 3
   },
   "file_extension": ".py",
   "mimetype": "text/x-python",
   "name": "python",
   "nbconvert_exporter": "python",
   "pygments_lexer": "ipython3",
   "version": "3.7.0"
  },
  "latex_envs": {
   "LaTeX_envs_menu_present": true,
   "autoclose": true,
   "autocomplete": true,
   "bibliofile": "biblio.bib",
   "cite_by": "apalike",
   "current_citInitial": 1,
   "eqLabelWithNumbers": true,
   "eqNumInitial": 1,
   "hotkeys": {
    "equation": "Ctrl-E",
    "itemize": "Ctrl-I"
   },
   "labels_anchors": false,
   "latex_user_defs": false,
   "report_style_numbering": false,
   "user_envs_cfg": false
  },
  "nteract": {
   "version": "0.12.3"
  },
  "varInspector": {
   "cols": {
    "lenName": 16,
    "lenType": 16,
    "lenVar": 40
   },
   "kernels_config": {
    "python": {
     "delete_cmd_postfix": "",
     "delete_cmd_prefix": "del ",
     "library": "var_list.py",
     "varRefreshCmd": "print(var_dic_list())"
    },
    "r": {
     "delete_cmd_postfix": ") ",
     "delete_cmd_prefix": "rm(",
     "library": "var_list.r",
     "varRefreshCmd": "cat(var_dic_list()) "
    }
   },
   "types_to_exclude": [
    "module",
    "function",
    "builtin_function_or_method",
    "instance",
    "_Feature"
   ],
   "window_display": false
  }
 },
 "nbformat": 4,
 "nbformat_minor": 2
}
