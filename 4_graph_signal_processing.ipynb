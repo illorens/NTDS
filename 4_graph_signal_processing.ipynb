{
 "cells": [
  {
   "cell_type": "markdown",
   "metadata": {},
   "source": [
    "# [NTDS'18] milestone 4: graph signal processing\n",
    "[ntds'18]: https://github.com/mdeff/ntds_2018\n",
    "\n",
    "[Rodrigo Pena](https://people.epfl.ch/254838), [EPFL LTS2](http://lts2.epfl.ch)"
   ]
  },
  {
   "cell_type": "markdown",
   "metadata": {},
   "source": [
    "## Students\n",
    "\n",
    "* Team: `01`\n",
    "* Students: `Yassine Zouaghi, Timothée Bornet dit Vorgeat, Pol Boudou, Icíar Lloréns Jover`\n",
    "* Dataset: `IMDb Films and Crew`"
   ]
  },
  {
   "cell_type": "markdown",
   "metadata": {},
   "source": [
    "## Rules\n",
    "\n",
    "* Milestones have to be completed by teams. No collaboration between teams is allowed.\n",
    "* Textual answers shall be short. Typically one to two sentences.\n",
    "* Code has to be clean.\n",
    "* You cannot import any other library than we imported.\n",
    "* When submitting, the notebook is executed and the results are stored. I.e., if you open the notebook again it should show numerical results and plots. We won't be able to execute your notebooks.\n",
    "* The notebook is re-executed from a blank state before submission. That is to be sure it is reproducible. You can click \"Kernel\" then \"Restart & Run All\" in Jupyter."
   ]
  },
  {
   "cell_type": "markdown",
   "metadata": {},
   "source": [
    "## Objective\n",
    "\n",
    "The goal of this milestone is to do some Graph Signal Processing (GSP) on the data of your project.\n",
    "\n",
    "### A note about plotting\n",
    "\n",
    "There are several questions in this milestone that ask you to plot a signal on your network.\n",
    "There are several ways from which you could approach it.\n",
    "In all cases, compute the position of the nodes a single time at the beginning, as this is likely to be a costly operation.\n",
    "Using a single layout for all the graph plots will also make it easier to compare the plots.\n",
    "Indeed, the only thing changing between plots is the signal displayed.\n",
    "You can represent the features/labels lying on the graph via node **colors**.\n",
    "To do so, make sure to have a consistent color map throughout and remember to display a colorbar and scale in all plots, so that we can tell what numbers the colors represent.\n",
    "\n",
    "* An option is to use the **Laplacian eigenmaps** that you have seen in the previous milestone to embed your graph on the plane. For example:\n",
    "  ```\n",
    "  from matplotlib import pyplot as plt\n",
    "  plt.scatter(eigenvectors[:, 1], eigenvectors[:, 2], c=signal, alpha=0.5)\n",
    "  plt.colorbar()\n",
    "  ```\n",
    "* Another option is to use the plotting capabilities of **[NetworkX](https://networkx.github.io)**.\n",
    "  See the documentation of its [drawing methods](https://networkx.github.io/documentation/stable/reference/drawing.html).\n",
    "  For example:\n",
    "  ```\n",
    "  import networkx as nx\n",
    "  graph = nx.from_scipy_sparse_matrix(adjacency)\n",
    "  coords = nx.spring_layout(graph)  # Force-directed layout.\n",
    "  coords = eigenvectors[:, 1:3]  # Laplacian eigenmaps.\n",
    "  nx.draw_networkx_nodes(graph, coords, node_size=60, node_color=signal)\n",
    "  nx.draw_networkx_edges(graph, coords, alpha=0.3)\n",
    "  ```\n",
    "* Another option is to use the plotting capabilities of the **[PyGSP](https://github.com/epfl-lts2/pygsp)**, a Python package for Graph Signal Processing.\n",
    "  **Note that your are forbidden to use the PyGSP for anything else than plotting.**\n",
    "  See the documentation of its [plotting utilities](https://pygsp.readthedocs.io/en/stable/reference/plotting.html).\n",
    "  For example:\n",
    "  ```\n",
    "  import pygsp as pg\n",
    "  graph = pg.graphs.Graph(adjacency)\n",
    "  graph.set_coordinates('spring')  # Force-directed layout.\n",
    "  graph.set_coordinates(eigenvectors[:, 1:3])  # Laplacian eigenmaps.\n",
    "  graph.plot_signal(signal)\n",
    "  ```\n",
    "* Yet another option is to save your graph on disk, use **[Gephi](https://gephi.org)** externally, to visualize the graph, save the graph with the Gephi coordinates and finally load the nodes coordinates back into the notebook.\n",
    "\n",
    "We encourage you to try all the above methods before making your choice. Then be consistent and use only one throughout the milestone.\n",
    "NetworkX and PyGSP should already be installed in your environement. If that's not the case, install with `conda install networkx pygsp` (after activating the `ntds_2018` environment)."
   ]
  },
  {
   "cell_type": "markdown",
   "metadata": {},
   "source": [
    "## 0 - Load your network"
   ]
  },
  {
   "cell_type": "code",
   "execution_count": 1,
   "metadata": {},
   "outputs": [],
   "source": [
    "%matplotlib inline"
   ]
  },
  {
   "cell_type": "markdown",
   "metadata": {},
   "source": [
    "If you get a `No module named 'pyunlocbox'` error when running the below cell, install the [pyunlocbox](https://github.com/epfl-lts2/pyunlocbox) with `conda install pyunlocbox` (after activating the `ntds_2018` environment)."
   ]
  },
  {
   "cell_type": "code",
   "execution_count": 23,
   "metadata": {},
   "outputs": [],
   "source": [
    "import numpy as np\n",
    "from scipy import sparse\n",
    "import scipy.sparse.linalg\n",
    "from matplotlib import pyplot as plt\n",
    "from pyunlocbox import functions, solvers\n",
    "import pandas as pd\n",
    "\n",
    "import networkx as nx"
   ]
  },
  {
   "cell_type": "markdown",
   "metadata": {},
   "source": [
    "For this milestone, all we will need is a set of features/labels for each of the nodes on the network, as well as the Laplacian, $L,$ and Gradient, $\\nabla_G,$ matrices that you have computed for your network while working on milestone 3.\n",
    "\n",
    "Import those objects in the cell below (or recompute the Laplacian and Gradient from your stored adjacency matrix, if you wish).\n",
    "\n",
    "_Note_: If your features/labels are not floating-point numbers, please convert them. For example, if your data has labels \"cat\" and \"dog\" for nodes that represent cats or dogs, respectively, you may assign the number `1.0` for the label \"cat\" and the number `-1.0` for the label \"dog\".  "
   ]
  },
  {
   "cell_type": "code",
   "execution_count": 3,
   "metadata": {},
   "outputs": [],
   "source": [
    "DATA_PATH = \"DataMS1/\""
   ]
  },
  {
   "cell_type": "code",
   "execution_count": 4,
   "metadata": {},
   "outputs": [],
   "source": [
    "biggest_adjacency =  np.load(DATA_PATH + 'biggest_adjacency.npy')\n",
    "degree_weighted_imdb = biggest_adjacency.sum(1)\n",
    "D = np.diag(degree_weighted_imdb)"
   ]
  },
  {
   "cell_type": "code",
   "execution_count": 5,
   "metadata": {},
   "outputs": [],
   "source": [
    "def find_components(adjacency):\n",
    "    \"\"\"Find the connected components of a graph.\n",
    "    \n",
    "    Parameters\n",
    "    ----------\n",
    "    adjacency: numpy array\n",
    "        The (weighted) adjacency matrix of a graph.\n",
    "    \n",
    "    Returns\n",
    "    -------\n",
    "    list of numpy arrays\n",
    "        A list of adjacency matrices, one per connected component.\n",
    "    \"\"\"\n",
    "    \n",
    "    # Convert adjacency matrix into an adjacency list\n",
    "    # This makes it easier to navigate through the nodes\n",
    "    adj_list = []\n",
    "    for i in range(0, len(adjacency)):\n",
    "        adj_list.append(list(np.nonzero(adjacency[i])[0]))\n",
    "        \n",
    "    # Each node will be assigned a label (starting from 1) according \n",
    "    # to which connected component it belongs. If the label is 0, \n",
    "    # it means it has not been visited yet.\n",
    "    nodes = np.zeros(len(adjacency))\n",
    "    # n counts the number of connected components\n",
    "    n = 0\n",
    "    \n",
    "    while (np.count_nonzero(nodes) != len(adjacency)):\n",
    "        n = n+1\n",
    "        # We start from the first node that has not been visited\n",
    "        start = np.where(nodes == 0)[0][0]\n",
    "        queue = []\n",
    "        visited = set()\n",
    "\n",
    "        queue.append(start)\n",
    "        visited.add(start)\n",
    "\n",
    "        while queue:\n",
    "            current = queue.pop(0)\n",
    "            for node in adj_list[current]:\n",
    "                if node not in visited:\n",
    "                    queue.append(node)\n",
    "                    visited.add(node)\n",
    "        \n",
    "        visited = list(visited)\n",
    "        # Visited nodes are assigned their label\n",
    "        nodes[visited] = n\n",
    "        \n",
    "    return nodes"
   ]
  },
  {
   "cell_type": "code",
   "execution_count": 7,
   "metadata": {},
   "outputs": [],
   "source": [
    "adjacency =  np.load(DATA_PATH + 'adjacency.npy')\n",
    "features = pd.read_csv(DATA_PATH + 'features.csv').drop(columns=[\"Unnamed: 0\", \"Unnamed: 0.1\"])\n",
    "\n",
    "nodes = find_components(adjacency)\n",
    "idx = [i for i in range(len(nodes)) if nodes[i] == 1]\n",
    "features = features.loc[idx]"
   ]
  },
  {
   "cell_type": "code",
   "execution_count": 17,
   "metadata": {},
   "outputs": [
    {
     "name": "stderr",
     "output_type": "stream",
     "text": [
      "/anaconda3/lib/python3.7/site-packages/pandas/core/generic.py:4405: SettingWithCopyWarning: \n",
      "A value is trying to be set on a copy of a slice from a DataFrame.\n",
      "Try using .loc[row_indexer,col_indexer] = value instead\n",
      "\n",
      "See the caveats in the documentation: http://pandas.pydata.org/pandas-docs/stable/indexing.html#indexing-view-versus-copy\n",
      "  self[name] = value\n"
     ]
    },
    {
     "data": {
      "text/plain": [
       "array([ 8,  6,  8, ..., -9, -9,  3])"
      ]
     },
     "execution_count": 17,
     "metadata": {},
     "output_type": "execute_result"
    }
   ],
   "source": [
    "labels = features[[\"movie_id\", \"genres\"]]\n",
    "labels.genres = labels.genres.apply(lambda x: list(pd.read_json(x, dtype=False).name)[0] if x != '[]' else [])\n",
    "keep_nodes = labels.genres.apply(lambda x: not not(x))\n",
    "labels = labels[keep_nodes]\n",
    "biggest_adjacency[:, keep_nodes][keep_nodes]\n",
    "\n",
    "genre_set = list(set(labels[\"genres\"]))\n",
    "numeric_labels = list(range(-10, 0)) + list(range(1, 11))\n",
    "label_dict = dict(zip(genre_set, numeric_labels))\n",
    "\n",
    "labels = np.asarray(list(labels.genres.apply(lambda x: label_dict[x])))\n",
    "labels"
   ]
  },
  {
   "cell_type": "code",
   "execution_count": 18,
   "metadata": {},
   "outputs": [],
   "source": [
    "n_nodes =  len(biggest_adjacency)\n",
    "laplacian = sparse.csgraph.laplacian(biggest_adjacency, normed=False)"
   ]
  },
  {
   "cell_type": "code",
   "execution_count": 24,
   "metadata": {},
   "outputs": [],
   "source": [
    "graph = nx.from_scipy_sparse_matrix(sparse.csr_matrix(biggest_adjacency))"
   ]
  },
  {
   "cell_type": "code",
   "execution_count": 56,
   "metadata": {},
   "outputs": [],
   "source": [
    "gradient = nx.incidence_matrix(graph)\n",
    "gradient_nonsparse = gradient.toarray()\n",
    "\n",
    "for i in range(0, n_nodes):\n",
    "    nnz_idx = np.nonzero(gradient_nonsparse[:,1])[0]\n",
    "    gradient_nonsparse[nnz_idx[0], i] = -1"
   ]
  },
  {
   "cell_type": "code",
   "execution_count": null,
   "metadata": {},
   "outputs": [],
   "source": [
    "gradient = sparse.csr_matrix(gradient_nonsparse)"
   ]
  },
  {
   "cell_type": "markdown",
   "metadata": {},
   "source": [
    "Our labels are the movie genres. We have 20 distinct movie genres in our dataset and they are strings. We have converted them into a numeric type by associating each of the strings to an integer between 1 and 20. For comprehension, we have created a dictionnary (label_dict) that associates each label to its original string."
   ]
  },
  {
   "cell_type": "markdown",
   "metadata": {},
   "source": [
    "## 1 - Graph Fourier Transform\n",
    "\n",
    "In this section we will observe how your feature/label vector looks like in the \"Graph Fourier\" domain."
   ]
  },
  {
   "cell_type": "markdown",
   "metadata": {
    "inputHidden": false,
    "outputHidden": false
   },
   "source": [
    "### Question 1\n",
    "\n",
    "Compute the Fourier basis vectors and the Laplacian eigenvalues. Make sure to order those from smaller to larger, $\\lambda_0 \\leq \\lambda_1 \\leq \\dots \\leq \\lambda_{N-1},$ and use the same ordering for the Fourier basis vectors."
   ]
  },
  {
   "cell_type": "code",
   "execution_count": 21,
   "metadata": {
    "inputHidden": false,
    "outputHidden": false
   },
   "outputs": [],
   "source": [
    "# We compute ordered eigenvalues e and graph Fourier basis U with eigh\n",
    "e , U = scipy.linalg.eigh(laplacian)"
   ]
  },
  {
   "cell_type": "markdown",
   "metadata": {},
   "source": [
    "Plot the first 3 and the last Fourier basis vectors as signals on your graph. Clearly indicate which plot belongs to which basis vector."
   ]
  },
  {
   "cell_type": "code",
   "execution_count": 22,
   "metadata": {},
   "outputs": [],
   "source": [
    "_, eigenvectors = scipy.sparse.linalg.eigs(laplacian, k=4, which = 'SR')\n",
    "eigenvectors = np.real(eigenvectors)"
   ]
  },
  {
   "cell_type": "code",
   "execution_count": 26,
   "metadata": {
    "inputHidden": false,
    "outputHidden": false
   },
   "outputs": [],
   "source": [
    "# Graph creation\n",
    "coords = nx.spring_layout(graph)  # Force-directed layout.\n",
    "coords = eigenvectors[:,[1,3]]  # Laplacian eigenmaps."
   ]
  },
  {
   "cell_type": "code",
   "execution_count": 28,
   "metadata": {},
   "outputs": [
    {
     "data": {
      "image/png": "[encoded data removed]",
      "text/plain": [
       "<Figure size 432x288 with 2 Axes>"
      ]
     },
     "metadata": {
      "needs_background": "light"
     },
     "output_type": "display_data"
    }
   ],
   "source": [
    "plt.figure()\n",
    "nodes = nx.draw_networkx_nodes(graph, coords, node_size=60, node_color=U[:,0])\n",
    "nx.draw_networkx_edges(graph, coords, alpha=0.3)\n",
    "plt.title(\"First Fourier basis vector as a signal on our graph\", y=1.08)\n",
    "plt.xlabel(\"Second eigenvector\")\n",
    "plt.ylabel(\"Fourth eigenvector\")\n",
    "plt.colorbar(nodes)\n",
    "plt.show()"
   ]
  },
  {
   "cell_type": "code",
   "execution_count": 29,
   "metadata": {},
   "outputs": [
    {
     "data": {
      "image/png": "[encoded data removed]",
      "text/plain": [
       "<Figure size 432x288 with 2 Axes>"
      ]
     },
     "metadata": {
      "needs_background": "light"
     },
     "output_type": "display_data"
    }
   ],
   "source": [
    "plt.figure()\n",
    "nodes = nx.draw_networkx_nodes(graph, coords, node_size=60, node_color=U[:,1])\n",
    "nx.draw_networkx_edges(graph, coords, alpha=0.3)\n",
    "plt.title(\"Second Fourier basis vector as a signal on our graph\", y=1.08)\n",
    "plt.xlabel(\"Second eigenvector\")\n",
    "plt.ylabel(\"Fourth eigenvector\")\n",
    "plt.colorbar(nodes)\n",
    "plt.show()"
   ]
  },
  {
   "cell_type": "code",
   "execution_count": 30,
   "metadata": {},
   "outputs": [
    {
     "data": {
      "image/png": "[encoded data removed]",
      "text/plain": [
       "<Figure size 432x288 with 2 Axes>"
      ]
     },
     "metadata": {
      "needs_background": "light"
     },
     "output_type": "display_data"
    }
   ],
   "source": [
    "plt.figure()\n",
    "nodes = nx.draw_networkx_nodes(graph, coords, node_size=60, node_color=U[:,2])\n",
    "nx.draw_networkx_edges(graph, coords, alpha=0.3)\n",
    "plt.title(\"Third Fourier basis vector as a signal on our graph\", y=1.08)\n",
    "plt.xlabel(\"Second eigenvector\")\n",
    "plt.ylabel(\"Fourth eigenvector\")\n",
    "plt.colorbar(nodes)\n",
    "plt.show()"
   ]
  },
  {
   "cell_type": "code",
   "execution_count": 33,
   "metadata": {},
   "outputs": [
    {
     "data": {
      "image/png": "[encoded data removed]",
      "text/plain": [
       "<Figure size 432x288 with 2 Axes>"
      ]
     },
     "metadata": {
      "needs_background": "light"
     },
     "output_type": "display_data"
    }
   ],
   "source": [
    "plt.figure()\n",
    "nodes = nx.draw_networkx_nodes(graph, coords, node_size=60, node_color=U[:,-1])\n",
    "nx.draw_networkx_edges(graph, coords, alpha=0.3)\n",
    "plt.title(\"Last Fourier basis vector as a signal on our graph\", y=1.08)\n",
    "plt.xlabel(\"Second eigenvector\")\n",
    "plt.ylabel(\"Fourth eigenvector\")\n",
    "plt.colorbar(nodes)\n",
    "plt.show()"
   ]
  },
  {
   "cell_type": "markdown",
   "metadata": {},
   "source": [
    "### Question 2\n",
    "\n",
    "What can you observe in terms of local variations when comparing the basis vectors corresponding to the smallest eigenvalues to those corresponding to the largest eigenvalue? How would this justify the interpretation of the eigenvalues as \"graph frequencies\"?"
   ]
  },
  {
   "cell_type": "markdown",
   "metadata": {},
   "source": [
    "**Your answer here.**"
   ]
  },
  {
   "cell_type": "markdown",
   "metadata": {},
   "source": [
    "### Question 3\n",
    "\n",
    "Implement a function that returns the Graph Fourier Transform (GFT) of a given vector $x \\in \\mathbb{R}^{N},$ with respect to your graph, and a function that computes the corresponding inverse GFT (iGFT)."
   ]
  },
  {
   "cell_type": "code",
   "execution_count": 32,
   "metadata": {
    "inputHidden": false,
    "outputHidden": false
   },
   "outputs": [],
   "source": [
    "def GFT(x):\n",
    "    return U * x;\n",
    "\n",
    "def iGFT(x):\n",
    "    return U.getH()*x"
   ]
  },
  {
   "cell_type": "markdown",
   "metadata": {},
   "source": [
    "### Question 4\n",
    "\n",
    "Plot your feature/label vector as a signal on your graph"
   ]
  },
  {
   "cell_type": "code",
   "execution_count": null,
   "metadata": {
    "inputHidden": false,
    "outputHidden": false
   },
   "outputs": [],
   "source": [
    "# Your code here."
   ]
  },
  {
   "cell_type": "markdown",
   "metadata": {},
   "source": [
    "Plot the absolute values of the GFT of your feature/label signal as a function of the graph eigenvalues. Make sure to add a marker indicating the position of each graph eigenvalue, and remember to properly name the axes."
   ]
  },
  {
   "cell_type": "code",
   "execution_count": null,
   "metadata": {
    "inputHidden": false,
    "outputHidden": false
   },
   "outputs": [],
   "source": [
    "# Your code here."
   ]
  },
  {
   "cell_type": "markdown",
   "metadata": {},
   "source": [
    "### Question 5\n",
    "\n",
    "Discuss the behavior of the GFT that you plotted in the last question via comparing the plot of your label signal and those of the Fourier basis of Question 1. Would you consider your labels a \"low-pass\" or \"high-pass\" signal, or yet something else entirely?"
   ]
  },
  {
   "cell_type": "markdown",
   "metadata": {},
   "source": [
    "**Your answer here.**"
   ]
  },
  {
   "cell_type": "markdown",
   "metadata": {
    "code_folding": []
   },
   "source": [
    "## 2 - Filtering on graphs\n",
    "\n",
    "In this section we will check how filtered Dirac impulses diffuse on your graph."
   ]
  },
  {
   "cell_type": "markdown",
   "metadata": {
    "inputHidden": false,
    "outputHidden": false
   },
   "source": [
    "### Question 6 \n",
    "\n",
    "Implement the following three filter kernels and the graph filtering operation.\n",
    "\n",
    "- The **heat kernel** is supposed to take in a vector of eigenvalues `e` and a parameter `t` and output a vector of evaluations of the heat kernel at those eigenvalues (see the course slides for help).\n",
    "- The **inverse filter** kernel is supposed to take in a vector of eigenvalues `e` and a parameter `t` and implement spectrally the  filter defined in the node domain by $f_{out}  = (I + t L)^{-1} f_{in},$ where $f_{in}, f_{out} \\in \\mathbb{R}^{N}$ are, repectively, the input and output signals to the filter.\n",
    "- The **rectangle kernel** takes in a vector of eigenvalues `e` and parameters `l_min` and `l_max` and returns `1.0` at coordinates satisfying $(e[l] \\geq l_{min}) \\wedge (e[l] \\leq l_{max}),$ and `0.0` otherwise.\n",
    "- The **graph filtering** operation takes a graph signal $x \\in \\mathbb{R}^{N}$, a spectral graph `kernel` and a set of keyworded variables, and returns the corresponding filtered signal.\n",
    "    - _Hint:_ Remember that you have implemented the `GFT` and `iGFT` operations in Question 3.\n",
    "    - The `**kwargs` is a placeholder to collect supplementary pairs of keyword-values that are not known by the implementation before execution time.\n",
    "      The `kwargs` variable is a dictionary whose keyes and values are the parameter names and values.\n",
    "      This is useful to allow both `graph_filter(x, heat_kernel, tau=1.0)` and `graph_filter(x, rectangle_kernel, lambda_min=0.0, lambda_max=1.0)` to be valid calls from the same implementation.\n",
    "      One can then defer the keyword-value assignment to the `kernel` call: `foo = kernel(bar, **kwargs)`."
   ]
  },
  {
   "cell_type": "code",
   "execution_count": null,
   "metadata": {
    "inputHidden": false,
    "outputHidden": false
   },
   "outputs": [],
   "source": [
    "def heat_kernel(e, t):\n",
    "    return np.exp(e * t)\n",
    "\n",
    "def inverse_kernel(e, t):  \n",
    "    return np.ones(e.shape) - t * e\n",
    "\n",
    "def rectangle_kernel(e, l_min, l_max):\n",
    "    rect = e\n",
    "    rect[np.where(rect > l_max)] = 0\n",
    "    rect[np.where(rect < l_min)] = 0\n",
    "    rect[rect > 0] = 1\n",
    "    return rect\n",
    "\n",
    "def graph_filter(x, kernel, **kwargs):\n",
    "    eig = GFT(x)\n",
    "    kernel = \n",
    "    return # Your code here."
   ]
  },
  {
   "cell_type": "markdown",
   "metadata": {},
   "source": [
    "### Question 7\n",
    "\n",
    "Plot all three filter kernels in the spectral domain. Remember to properly name the axes and title the plots. Choose filter parameters that best approximate the behavior of the GFT of your feature/label signal (as seen in Question 4)."
   ]
  },
  {
   "cell_type": "code",
   "execution_count": null,
   "metadata": {
    "inputHidden": false,
    "outputHidden": false
   },
   "outputs": [],
   "source": [
    "# Your code here."
   ]
  },
  {
   "cell_type": "markdown",
   "metadata": {},
   "source": [
    "### Question 8\n",
    "\n",
    "Consider two Dirac impulses arbitrarily placed on your graph. Plot their filtered versions by the three filter kernels implemented in Question 6."
   ]
  },
  {
   "cell_type": "code",
   "execution_count": null,
   "metadata": {
    "inputHidden": false,
    "outputHidden": false
   },
   "outputs": [],
   "source": [
    "# Your code here."
   ]
  },
  {
   "cell_type": "markdown",
   "metadata": {},
   "source": [
    "Comment on the \"diffusion\" of the Diracs induced by the filters. What does it say about the \"communication\" of information across your network? Relate that to the network connectivity measures that you analyzed during the previous milestones."
   ]
  },
  {
   "cell_type": "markdown",
   "metadata": {
    "inputHidden": false,
    "outputHidden": false
   },
   "source": [
    "**Your answer here.**"
   ]
  },
  {
   "cell_type": "markdown",
   "metadata": {},
   "source": [
    "## 3 - De-noising\n",
    "\n",
    "In this section we will add some centered Gaussian noise to your feature/label signal and attempt to recover it."
   ]
  },
  {
   "cell_type": "markdown",
   "metadata": {},
   "source": [
    "### Question 9\n",
    "\n",
    "In the cell below, set the noise variance $\\sigma^2$ by making sure that the signal-to-noise ratio $SNR = \\frac{\\operatorname{Var}(\\text{labels})}{\\sigma^2}$ is about  $1.5$.\n",
    "\n",
    "_Note:_ Actually, you might want to play with the noise variance here and set it to different values and see how the denoising filters behave."
   ]
  },
  {
   "cell_type": "code",
   "execution_count": null,
   "metadata": {
    "inputHidden": false,
    "outputHidden": false
   },
   "outputs": [],
   "source": [
    "noise_variance = # Your code here.\n",
    "noisy_measurements = labels + noise_variance * np.random.randn(n_nodes)"
   ]
  },
  {
   "cell_type": "markdown",
   "metadata": {},
   "source": [
    "### Question 10\n",
    "\n",
    "In the denoising setting, a common graph signal processing assumption is that the signal $z$ that we want to recover is \"smooth\", in the sense that $\\|\\nabla_G z\\|_2 = \\sqrt{z^{\\top} L z}$ is small, while remaining \"close\" to the measurements that we start with. This leads to denoising by solving the following optimization problem:\n",
    "\n",
    "$$\n",
    "z^\\star = \\text{arg} \\, \\underset{z \\in \\mathbb{R}^{N}}{\\min} \\, \\|z - y\\|_2^2 + \\gamma z^{\\top} L z, \n",
    "$$\n",
    "\n",
    "where $y \\in \\mathbb{R}^{N}$ is the vector of noisy measurements.\n",
    "\n",
    "Derive the close form solution to this problem giving $z^\\star$ as a function of $y$, $\\gamma$ and $L$. Does this solution correspond to any graph filtering operation that you know?"
   ]
  },
  {
   "cell_type": "markdown",
   "metadata": {},
   "source": [
    "**Your answer here.**"
   ]
  },
  {
   "cell_type": "markdown",
   "metadata": {},
   "source": [
    "### Question 11\n",
    "\n",
    "Now, denoise the noisy measurements by passing them through the filters that you implemented in Question 6. Choose the filter parameters based on the behavior of the GFT of your original label signal (this is the prior knowledge that you input to the problem)."
   ]
  },
  {
   "cell_type": "code",
   "execution_count": null,
   "metadata": {
    "inputHidden": false,
    "outputHidden": false
   },
   "outputs": [],
   "source": [
    "z_heat_denoised = # Your code here.\n",
    "z_inv_denoised = # Your code here.\n",
    "z_rect_denoised = # Your code here."
   ]
  },
  {
   "cell_type": "markdown",
   "metadata": {},
   "source": [
    "Plot, on your graph, the original label signal, the noisy measurements, and the three denoised version obtained above. Report on each plot the value of the corresponding relative error \n",
    "$$\n",
    "\\text{rel-err} = \\frac{\\|\\text{labels} - z \\|_2}{\\|\\text{labels}\\|_2},\n",
    "$$\n",
    "where $z$ is the plotted signal."
   ]
  },
  {
   "cell_type": "code",
   "execution_count": null,
   "metadata": {
    "inputHidden": false,
    "outputHidden": false
   },
   "outputs": [],
   "source": [
    "# Your code here."
   ]
  },
  {
   "cell_type": "markdown",
   "metadata": {},
   "source": [
    "Finally, overlay on the same plot the GFT of all five signals above."
   ]
  },
  {
   "cell_type": "code",
   "execution_count": null,
   "metadata": {
    "inputHidden": false,
    "outputHidden": false
   },
   "outputs": [],
   "source": [
    "# Your code here."
   ]
  },
  {
   "cell_type": "markdown",
   "metadata": {},
   "source": [
    "### Question 12\n",
    "\n",
    "Comment on which denoised version seems to best match the original label signal. What is the underlying assumption behind the three filtering approaches? Do you think it holds for your label signal? Why?"
   ]
  },
  {
   "cell_type": "markdown",
   "metadata": {},
   "source": [
    "**Your answer here.**"
   ]
  },
  {
   "cell_type": "markdown",
   "metadata": {
    "ExecuteTime": {
     "end_time": "2018-08-31T13:05:59.301384Z",
     "start_time": "2018-08-31T13:05:59.297336Z"
    }
   },
   "source": [
    "## 4 - Transductive learning\n",
    "\n",
    "It is often the case in large networks that we can only afford to query properties/labels on a small subset of nodes. Nonetheless, if the underlying labels signal is \"regular\" enough, we might still be able to recover a good approximation of it by solving an offline variational problem, with constraints on the values of the measured nodes. \n",
    "\n",
    "In this section, we will be interested in solving such transductive learning problems by minimizing a (semi-) p-norm of the graph gradient applied to the signal of interest:\n",
    "\n",
    "$$\n",
    "\\text{arg} \\, \\underset{z|_S = y}{\\min} \\|\\nabla_G z\\|_p^p,\n",
    "$$\n",
    "\n",
    "where $S$ is the set of measured nodes.\n",
    "\n",
    "In English, we can say that we are looking for solutions with small \"aggregated local variations\", as measured by $\\|\\nabla_G z\\|_p^p = \\sum_{i=1}^{n} \\sum_{j=1}^{n} \\left( \\sqrt{W_{ij}} |z[i] - z[j]| \\right)^p,$ while satisfying the measurement constraints $z[i] = y[i]$ for $i \\in S.$\n",
    "\n",
    "We will work with two cases, according to the choices $p=1$ or $p=2.$ For $p=1,$ the problem is known as \"interpolation by graph total-variation minimization,\" whereas for $p=2$ it is sometimes called \"interpolation by Tikhonov regularization\".\n",
    "\n",
    "In order to solve these variational problems with the black-box solver provided to you, you will use the [pyunlocbox](https://pyunlocbox.readthedocs.io). This toolbox implements iterative solvers based on so-called [\"proximal-splitting\"](https://en.wikipedia.org/wiki/Proximal_gradient_method) methods."
   ]
  },
  {
   "cell_type": "markdown",
   "metadata": {},
   "source": [
    "### Question 13\n",
    "\n",
    "Throughout this section, we will consider only a binarized version of your label signal. If your variable `labels` currently has values other than $\\{-1, 1\\},$ threshold them so that those are the only values taken in this vector. This can be done for example by choosing a number $t \\in \\mathbb{R}$ and then setting $\\text{labels_bin}[i] = 1$ if $\\text{labels}[i] \\geq t$ and $\\text{labels_bin}[i] = 0$ otherwise."
   ]
  },
  {
   "cell_type": "code",
   "execution_count": null,
   "metadata": {
    "inputHidden": false,
    "outputHidden": false
   },
   "outputs": [],
   "source": [
    "labels_bin = # Your code here."
   ]
  },
  {
   "cell_type": "markdown",
   "metadata": {},
   "source": [
    "Now, subsample this binarized label signal by $70\\%$ by choosing, uniformly at random, $30\\%$ of the nodes whose labels we will keep.\n",
    "\n",
    "You will do this by computing a \"measurement mask\" vector `w` with `1.0`'s at the measured coordinates, and $0.0$'s otherwise."
   ]
  },
  {
   "cell_type": "code",
   "execution_count": null,
   "metadata": {
    "inputHidden": false,
    "outputHidden": false
   },
   "outputs": [],
   "source": [
    "mn_ratio = 0.3\n",
    "m = int(mn_ratio * n_nodes)  # Number of measurements.\n",
    "\n",
    "w = # Your code here."
   ]
  },
  {
   "cell_type": "markdown",
   "metadata": {},
   "source": [
    "Plot the subsampled signal on the graph. _Hint:_ you might want to set to `numpy.nan` the values of the un-measured nodes for a cleaner plot."
   ]
  },
  {
   "cell_type": "code",
   "execution_count": null,
   "metadata": {
    "inputHidden": false,
    "outputHidden": false
   },
   "outputs": [],
   "source": [
    "# Your code here."
   ]
  },
  {
   "cell_type": "markdown",
   "metadata": {},
   "source": [
    "### Interlude\n",
    "\n",
    "For the solution of the variational problems you can use the following function as a \"black-box\". \n",
    "\n",
    "You will just need to provide a `gradient` matrix (which you should already have from Section 0), and an orthogonal projection operator `P` onto the span of the measured coordinates (made precise in the next question)."
   ]
  },
  {
   "cell_type": "code",
   "execution_count": null,
   "metadata": {},
   "outputs": [],
   "source": [
    "def graph_pnorm_interpolation(gradient, P, x0=None, p=1., **kwargs):\n",
    "    r\"\"\"\n",
    "    Solve an interpolation problem via gradient p-norm minimization.\n",
    "\n",
    "    A signal :math:`x` is estimated from its measurements :math:`y = A(x)` by solving\n",
    "    :math:`\\text{arg}\\underset{z \\in \\mathbb{R}^n}{\\min}\n",
    "    \\| \\nabla_G z \\|_p^p \\text{ subject to } Az = y` \n",
    "    via a primal-dual, forward-backward-forward algorithm.\n",
    "\n",
    "    Parameters\n",
    "    ----------\n",
    "    gradient : array_like\n",
    "        A matrix representing the graph gradient operator\n",
    "    P : callable\n",
    "        Orthogonal projection operator mapping points in :math:`z \\in \\mathbb{R}^n` \n",
    "        onto the set satisfying :math:`A P(z) = A z`.\n",
    "    x0 : array_like, optional\n",
    "        Initial point of the iteration. Must be of dimension n.\n",
    "        (Default is `numpy.random.randn(n)`)\n",
    "    p : {1., 2.}\n",
    "    kwargs :\n",
    "        Additional solver parameters, such as maximum number of iterations\n",
    "        (maxit), relative tolerance on the objective (rtol), and verbosity\n",
    "        level (verbosity). See :func:`pyunlocbox.solvers.solve` for the full\n",
    "        list of options.\n",
    "\n",
    "    Returns\n",
    "    -------\n",
    "    x : array_like\n",
    "        The solution to the optimization problem.\n",
    "\n",
    "    \"\"\"\n",
    "    \n",
    "    grad = lambda z: gradient.dot(z)\n",
    "    div = lambda z: gradient.transpose().dot(z)\n",
    "\n",
    "    # Indicator function of the set satisfying :math:`y = A(z)`\n",
    "    f = functions.func()\n",
    "    f._eval = lambda z: 0\n",
    "    f._prox = lambda z, gamma: P(z)\n",
    "\n",
    "    # :math:`\\ell_1` norm of the dual variable :math:`d = \\nabla_G z`\n",
    "    g = functions.func()\n",
    "    g._eval = lambda z: np.sum(np.abs(grad(z)))\n",
    "    g._prox = lambda d, gamma: functions._soft_threshold(d, gamma)\n",
    "\n",
    "    # :math:`\\ell_2` norm of the gradient (for the smooth case)\n",
    "    h = functions.norm_l2(A=grad, At=div)\n",
    "\n",
    "    stepsize = (0.9 / (1. + scipy.sparse.linalg.norm(gradient, ord='fro'))) ** p\n",
    "\n",
    "    solver = solvers.mlfbf(L=grad, Lt=div, step=stepsize)\n",
    "\n",
    "    if p == 1.:\n",
    "        problem = solvers.solve([f, g, functions.dummy()], x0=x0, solver=solver, **kwargs)\n",
    "        return problem['sol']\n",
    "    if p == 2.:\n",
    "        problem = solvers.solve([f, functions.dummy(), h], x0=x0, solver=solver, **kwargs)\n",
    "        return problem['sol']\n",
    "    else:\n",
    "        return x0"
   ]
  },
  {
   "cell_type": "markdown",
   "metadata": {},
   "source": [
    "### Question 14\n",
    "\n",
    "During the iterations of the algorithm used for solving the variational problem, we have to make sure that the labels at the measured nodes stay the same. We will do this by means of an operator `P` which, given a vector $a \\in \\mathbb{R}^{N},$ returns another vector $b \\in \\mathbb{R}^{N}$ satisfying $b[i] = \\text{labels_bin}[i]$ for every node $i$ in the set $S$ of known labels, and $b[i] = a[i]$ otherwise. Write in the cell below the function for this orthogonal projection operator `P`.\n",
    "\n",
    "_Hint:_ remember you have already computed the mask `w`."
   ]
  },
  {
   "cell_type": "code",
   "execution_count": null,
   "metadata": {
    "inputHidden": false,
    "outputHidden": false
   },
   "outputs": [],
   "source": [
    "def P(a):\n",
    "    # Your code here.\n",
    "    return b"
   ]
  },
  {
   "cell_type": "markdown",
   "metadata": {
    "inputHidden": false,
    "outputHidden": false
   },
   "source": [
    "### Question 15\n",
    "\n",
    "Solve the variational problems for $p = 1$ and $p = 2$. Record the solution for the $1-$norm minimization under `sol_1norm_min` and the one for $2-$norm minimization under `sol_2norm_min`.\n",
    "\n",
    "Compute also binarized versions of these solutions by thresholding the values with respect to $0$, that is, non-negative values become `1.0`, while negative values become `-1.0`. Store those binarized versions under `sol_1norm_bin` and `sol_2norm_bin`, respectively."
   ]
  },
  {
   "cell_type": "code",
   "execution_count": null,
   "metadata": {
    "inputHidden": false,
    "outputHidden": false
   },
   "outputs": [],
   "source": [
    "sol_1norm_min = # Your code here.\n",
    "\n",
    "sol_2norm_min = # Your code here.\n",
    "\n",
    "threshold = 0\n",
    "\n",
    "sol_1norm_bin = # Your code here.\n",
    "\n",
    "sol_2norm_bin = # Your code here."
   ]
  },
  {
   "cell_type": "markdown",
   "metadata": {
    "inputHidden": false,
    "outputHidden": false
   },
   "source": [
    "Plot, on your graph, the original `labels_bin` signal, as well as the solutions to the variational problems (both binarized and otherwise). Indicate on each plot the value of the relative error $\\text{rel-err} = \\frac{\\|\\text{labels_bin} - z\\|_2}{\\|\\text{labels_bin}\\|_2}$, where $z$ is the signal in the corresponding plot."
   ]
  },
  {
   "cell_type": "markdown",
   "metadata": {},
   "source": [
    "### Question 16\n",
    "\n",
    "Now that you have got a feeling for the sort of solutions that the transductive learning problems studied can give, we will see what is the effect of the number of measurements on the accuracy of both $p-$norm minimization problems.\n",
    "\n",
    "Towards this goal, you will write a `phase_transition()` function. This function will basically go over all the procedures that you have implemented in this section, but for varying numbers of measurements and thresholding values. It will also compute the relative error, $\\text{rel-err},$ of the solutions and average them over a number of trials.\n",
    "\n",
    "The output of the `phase_transition()` function has to be a matrix with `len(mn_ratios)` columns and `len(thresholds)` rows. Each pixel $(i,j)$ in the output matrix has to contain the average, over `n_trials` trials, of the relative error $\\text{rel-err}$ in the binarized (with threshold `thresholds[i]`) solution given by `graph_pnorm_interpolation()` from observing an `mn_ratios[j]` fraction of nodes. The randomness comes from a different choice of mask `w` at each trial, hence the averaging.\n",
    "\n",
    "The interest of this phase transition matrix is to assess what level of recovery error one could expect for a certain fraction of measurements and a certain threshold level."
   ]
  },
  {
   "cell_type": "code",
   "execution_count": null,
   "metadata": {
    "inputHidden": false,
    "outputHidden": false
   },
   "outputs": [],
   "source": [
    "def phase_transition(mn_ratios, thresholds, n_trials, labels_bin, p):\n",
    "\n",
    "    # Create sample mask.\n",
    "    \n",
    "    # Solve p-norm interpolation.\n",
    "    \n",
    "    # Aggregate.\n",
    "    \n",
    "    return pt_matrix"
   ]
  },
  {
   "cell_type": "markdown",
   "metadata": {},
   "source": [
    "### Question 17\n",
    "\n",
    "Pick 5 \"m/n\" ratios in $(0, 1)$ and 5 threshold levels in $(-1, 1)$ and run the `phase_transition()` function with `n_trials` = 20, for both $p = 1$ and $p = 2$."
   ]
  },
  {
   "cell_type": "code",
   "execution_count": null,
   "metadata": {
    "inputHidden": false,
    "outputHidden": false
   },
   "outputs": [],
   "source": [
    "mn_ratios = # Your code here.\n",
    "\n",
    "thresholds = # Your code here.\n",
    "\n",
    "pt_matrix_1norm = # Your code here.\n",
    "\n",
    "pt_matrix_2norm = # Your code here."
   ]
  },
  {
   "cell_type": "markdown",
   "metadata": {},
   "source": [
    "Plot both phase transition matrices as images with a colorbar. Make sure to properly name the axes and title the images. "
   ]
  },
  {
   "cell_type": "code",
   "execution_count": null,
   "metadata": {
    "inputHidden": false,
    "outputHidden": false
   },
   "outputs": [],
   "source": [
    "# Your code here."
   ]
  },
  {
   "cell_type": "markdown",
   "metadata": {},
   "source": [
    "### Question 18\n",
    "\n",
    "Do the phase transition plots above provide any justification for choosing one $p-$norm interpolation over the other? Why?"
   ]
  },
  {
   "cell_type": "markdown",
   "metadata": {},
   "source": [
    "**Your answer here.**"
   ]
  }
 ],
 "metadata": {
  "kernel_info": {
   "name": "python3"
  },
  "kernelspec": {
   "display_name": "Python 3",
   "language": "python",
   "name": "python3"
  },
  "language_info": {
   "codemirror_mode": {
    "name": "ipython",
    "version": 3
   },
   "file_extension": ".py",
   "mimetype": "text/x-python",
   "name": "python",
   "nbconvert_exporter": "python",
   "pygments_lexer": "ipython3",
   "version": "3.7.0"
  },
  "latex_envs": {
   "LaTeX_envs_menu_present": true,
   "autoclose": true,
   "autocomplete": true,
   "bibliofile": "biblio.bib",
   "cite_by": "apalike",
   "current_citInitial": 1,
   "eqLabelWithNumbers": true,
   "eqNumInitial": 1,
   "hotkeys": {
    "equation": "Ctrl-E",
    "itemize": "Ctrl-I"
   },
   "labels_anchors": false,
   "latex_user_defs": false,
   "report_style_numbering": false,
   "user_envs_cfg": false
  },
  "nteract": {
   "version": "0.12.3"
  },
  "varInspector": {
   "cols": {
    "lenName": 16,
    "lenType": 16,
    "lenVar": 40
   },
   "kernels_config": {
    "python": {
     "delete_cmd_postfix": "",
     "delete_cmd_prefix": "del ",
     "library": "var_list.py",
     "varRefreshCmd": "print(var_dic_list())"
    },
    "r": {
     "delete_cmd_postfix": ") ",
     "delete_cmd_prefix": "rm(",
     "library": "var_list.r",
     "varRefreshCmd": "cat(var_dic_list()) "
    }
   },
   "types_to_exclude": [
    "module",
    "function",
    "builtin_function_or_method",
    "instance",
    "_Feature"
   ],
   "window_display": false
  }
 },
 "nbformat": 4,
 "nbformat_minor": 2
}
